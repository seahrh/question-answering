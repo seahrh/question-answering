{
 "cells": [
  {
   "cell_type": "code",
   "execution_count": 341,
   "id": "6852263f",
   "metadata": {},
   "outputs": [],
   "source": [
    "import os\n",
    "import numpy as np\n",
    "import pandas as pd\n",
    "from transformers import AutoTokenizer\n",
    "from tqdm import tqdm\n",
    "from typing import Iterable, Callable\n",
    "os.environ[\"LOGGING_INI\"] = \"../logging.ini\"\n",
    "from questionanswering import squad"
   ]
  },
  {
   "cell_type": "code",
   "execution_count": 342,
   "id": "f23cb0b3",
   "metadata": {},
   "outputs": [],
   "source": [
    "percentiles=[.01, .05, .1, .2, .3, .4, .5, .6, .7, .8, .9, .95, .99]\n",
    "pd.set_option(\"use_inf_as_na\", True)\n",
    "pd.set_option(\"max_info_columns\", 9999)\n",
    "pd.set_option(\"display.max_columns\", 9999)\n",
    "pd.set_option(\"display.max_rows\", 9999)\n",
    "pd.set_option('max_colwidth', 9999)\n",
    "tqdm.pandas()\n",
    "os.environ[\"TOKENIZERS_PARALLELISM\"] = \"false\""
   ]
  },
  {
   "cell_type": "code",
   "execution_count": 343,
   "id": "ef6b53b4",
   "metadata": {},
   "outputs": [
    {
     "name": "stderr",
     "output_type": "stream",
     "text": [
      "100%|█████████████████████████████████| 442/442 [00:08<00:00, 54.32it/s]\n"
     ]
    },
    {
     "name": "stdout",
     "output_type": "stream",
     "text": [
      "<class 'pandas.core.frame.DataFrame'>\n",
      "RangeIndex: 130319 entries, 0 to 130318\n",
      "Data columns (total 6 columns):\n",
      " #   Column        Non-Null Count   Dtype \n",
      "---  ------        --------------   ----- \n",
      " 0   id            130319 non-null  object\n",
      " 1   title         130319 non-null  object\n",
      " 2   question      130319 non-null  object\n",
      " 3   answer_text   130319 non-null  object\n",
      " 4   answer_start  130319 non-null  int16 \n",
      " 5   context       130319 non-null  object\n",
      "dtypes: int16(1), object(5)\n",
      "memory usage: 5.2+ MB\n"
     ]
    }
   ],
   "source": [
    "df = squad.parse_json_file(\"input/train-v2.0.json\")\n",
    "questions = list(df[\"question\"])\n",
    "contexts = list(df[\"context\"])\n",
    "df.info()"
   ]
  },
  {
   "cell_type": "code",
   "execution_count": 344,
   "id": "8f9b2cb9",
   "metadata": {},
   "outputs": [
    {
     "data": {
      "text/html": [
       "<div>\n",
       "<style scoped>\n",
       "    .dataframe tbody tr th:only-of-type {\n",
       "        vertical-align: middle;\n",
       "    }\n",
       "\n",
       "    .dataframe tbody tr th {\n",
       "        vertical-align: top;\n",
       "    }\n",
       "\n",
       "    .dataframe thead th {\n",
       "        text-align: right;\n",
       "    }\n",
       "</style>\n",
       "<table border=\"1\" class=\"dataframe\">\n",
       "  <thead>\n",
       "    <tr style=\"text-align: right;\">\n",
       "      <th></th>\n",
       "      <th>id</th>\n",
       "      <th>title</th>\n",
       "      <th>question</th>\n",
       "      <th>answer_text</th>\n",
       "      <th>answer_start</th>\n",
       "      <th>context</th>\n",
       "    </tr>\n",
       "    <tr>\n",
       "      <th>id</th>\n",
       "      <th></th>\n",
       "      <th></th>\n",
       "      <th></th>\n",
       "      <th></th>\n",
       "      <th></th>\n",
       "      <th></th>\n",
       "    </tr>\n",
       "  </thead>\n",
       "  <tbody>\n",
       "    <tr>\n",
       "      <th>56be85543aeaaa14008c9063</th>\n",
       "      <td>56be85543aeaaa14008c9063</td>\n",
       "      <td>Beyoncé</td>\n",
       "      <td>when did beyonce start becoming popular?</td>\n",
       "      <td>in the late 1990s</td>\n",
       "      <td>280</td>\n",
       "      <td>beyoncé giselle knowles - carter / biːˈjɒnseɪ / bee - yon - say born september 4 , 1981 is an american singer , songwriter , record producer and actress . born and raised in houston , texas , she performed in various singing and dancing competitions as a child , and rose to fame in the late 1990s as lead singer of r&amp;b girl - group destiny's child . managed by her father , mathew knowles , the group became one of the world's best - selling girl groups of all time . their hiatus saw the release of beyoncé's debut album , dangerously in love 2003 , which established her as a solo artist worldwide , earned five grammy awards and featured the billboard hot 100 number - one singles crazy in love and baby boy .</td>\n",
       "    </tr>\n",
       "    <tr>\n",
       "      <th>56be85543aeaaa14008c9065</th>\n",
       "      <td>56be85543aeaaa14008c9065</td>\n",
       "      <td>Beyoncé</td>\n",
       "      <td>what areas did beyonce compete in when she was growing up?</td>\n",
       "      <td>singing and dancing</td>\n",
       "      <td>217</td>\n",
       "      <td>beyoncé giselle knowles - carter / biːˈjɒnseɪ / bee - yon - say born september 4 , 1981 is an american singer , songwriter , record producer and actress . born and raised in houston , texas , she performed in various singing and dancing competitions as a child , and rose to fame in the late 1990s as lead singer of r&amp;b girl - group destiny's child . managed by her father , mathew knowles , the group became one of the world's best - selling girl groups of all time . their hiatus saw the release of beyoncé's debut album , dangerously in love 2003 , which established her as a solo artist worldwide , earned five grammy awards and featured the billboard hot 100 number - one singles crazy in love and baby boy .</td>\n",
       "    </tr>\n",
       "    <tr>\n",
       "      <th>56be85543aeaaa14008c9066</th>\n",
       "      <td>56be85543aeaaa14008c9066</td>\n",
       "      <td>Beyoncé</td>\n",
       "      <td>when did beyonce leave destiny's child and become a solo singer?</td>\n",
       "      <td>2003</td>\n",
       "      <td>545</td>\n",
       "      <td>beyoncé giselle knowles - carter / biːˈjɒnseɪ / bee - yon - say born september 4 , 1981 is an american singer , songwriter , record producer and actress . born and raised in houston , texas , she performed in various singing and dancing competitions as a child , and rose to fame in the late 1990s as lead singer of r&amp;b girl - group destiny's child . managed by her father , mathew knowles , the group became one of the world's best - selling girl groups of all time . their hiatus saw the release of beyoncé's debut album , dangerously in love 2003 , which established her as a solo artist worldwide , earned five grammy awards and featured the billboard hot 100 number - one singles crazy in love and baby boy .</td>\n",
       "    </tr>\n",
       "    <tr>\n",
       "      <th>56bf6b0f3aeaaa14008c9601</th>\n",
       "      <td>56bf6b0f3aeaaa14008c9601</td>\n",
       "      <td>Beyoncé</td>\n",
       "      <td>in what city and state did beyonce grow up?</td>\n",
       "      <td>houston , texas</td>\n",
       "      <td>174</td>\n",
       "      <td>beyoncé giselle knowles - carter / biːˈjɒnseɪ / bee - yon - say born september 4 , 1981 is an american singer , songwriter , record producer and actress . born and raised in houston , texas , she performed in various singing and dancing competitions as a child , and rose to fame in the late 1990s as lead singer of r&amp;b girl - group destiny's child . managed by her father , mathew knowles , the group became one of the world's best - selling girl groups of all time . their hiatus saw the release of beyoncé's debut album , dangerously in love 2003 , which established her as a solo artist worldwide , earned five grammy awards and featured the billboard hot 100 number - one singles crazy in love and baby boy .</td>\n",
       "    </tr>\n",
       "    <tr>\n",
       "      <th>56bf6b0f3aeaaa14008c9602</th>\n",
       "      <td>56bf6b0f3aeaaa14008c9602</td>\n",
       "      <td>Beyoncé</td>\n",
       "      <td>in which decade did beyonce become famous?</td>\n",
       "      <td>late 1990s</td>\n",
       "      <td>287</td>\n",
       "      <td>beyoncé giselle knowles - carter / biːˈjɒnseɪ / bee - yon - say born september 4 , 1981 is an american singer , songwriter , record producer and actress . born and raised in houston , texas , she performed in various singing and dancing competitions as a child , and rose to fame in the late 1990s as lead singer of r&amp;b girl - group destiny's child . managed by her father , mathew knowles , the group became one of the world's best - selling girl groups of all time . their hiatus saw the release of beyoncé's debut album , dangerously in love 2003 , which established her as a solo artist worldwide , earned five grammy awards and featured the billboard hot 100 number - one singles crazy in love and baby boy .</td>\n",
       "    </tr>\n",
       "  </tbody>\n",
       "</table>\n",
       "</div>"
      ],
      "text/plain": [
       "                                                id    title  \\\n",
       "id                                                            \n",
       "56be85543aeaaa14008c9063  56be85543aeaaa14008c9063  Beyoncé   \n",
       "56be85543aeaaa14008c9065  56be85543aeaaa14008c9065  Beyoncé   \n",
       "56be85543aeaaa14008c9066  56be85543aeaaa14008c9066  Beyoncé   \n",
       "56bf6b0f3aeaaa14008c9601  56bf6b0f3aeaaa14008c9601  Beyoncé   \n",
       "56bf6b0f3aeaaa14008c9602  56bf6b0f3aeaaa14008c9602  Beyoncé   \n",
       "\n",
       "                                                                                  question  \\\n",
       "id                                                                                           \n",
       "56be85543aeaaa14008c9063                          when did beyonce start becoming popular?   \n",
       "56be85543aeaaa14008c9065        what areas did beyonce compete in when she was growing up?   \n",
       "56be85543aeaaa14008c9066  when did beyonce leave destiny's child and become a solo singer?   \n",
       "56bf6b0f3aeaaa14008c9601                       in what city and state did beyonce grow up?   \n",
       "56bf6b0f3aeaaa14008c9602                        in which decade did beyonce become famous?   \n",
       "\n",
       "                                  answer_text  answer_start  \\\n",
       "id                                                            \n",
       "56be85543aeaaa14008c9063    in the late 1990s           280   \n",
       "56be85543aeaaa14008c9065  singing and dancing           217   \n",
       "56be85543aeaaa14008c9066                 2003           545   \n",
       "56bf6b0f3aeaaa14008c9601      houston , texas           174   \n",
       "56bf6b0f3aeaaa14008c9602           late 1990s           287   \n",
       "\n",
       "                                                                                                                                                                                                                                                                                                                                                                                                                                                                                                                                                                                                                                                                                                                                                            context  \n",
       "id                                                                                                                                                                                                                                                                                                                                                                                                                                                                                                                                                                                                                                                                                                                                                                   \n",
       "56be85543aeaaa14008c9063  beyoncé giselle knowles - carter / biːˈjɒnseɪ / bee - yon - say born september 4 , 1981 is an american singer , songwriter , record producer and actress . born and raised in houston , texas , she performed in various singing and dancing competitions as a child , and rose to fame in the late 1990s as lead singer of r&b girl - group destiny's child . managed by her father , mathew knowles , the group became one of the world's best - selling girl groups of all time . their hiatus saw the release of beyoncé's debut album , dangerously in love 2003 , which established her as a solo artist worldwide , earned five grammy awards and featured the billboard hot 100 number - one singles crazy in love and baby boy .  \n",
       "56be85543aeaaa14008c9065  beyoncé giselle knowles - carter / biːˈjɒnseɪ / bee - yon - say born september 4 , 1981 is an american singer , songwriter , record producer and actress . born and raised in houston , texas , she performed in various singing and dancing competitions as a child , and rose to fame in the late 1990s as lead singer of r&b girl - group destiny's child . managed by her father , mathew knowles , the group became one of the world's best - selling girl groups of all time . their hiatus saw the release of beyoncé's debut album , dangerously in love 2003 , which established her as a solo artist worldwide , earned five grammy awards and featured the billboard hot 100 number - one singles crazy in love and baby boy .  \n",
       "56be85543aeaaa14008c9066  beyoncé giselle knowles - carter / biːˈjɒnseɪ / bee - yon - say born september 4 , 1981 is an american singer , songwriter , record producer and actress . born and raised in houston , texas , she performed in various singing and dancing competitions as a child , and rose to fame in the late 1990s as lead singer of r&b girl - group destiny's child . managed by her father , mathew knowles , the group became one of the world's best - selling girl groups of all time . their hiatus saw the release of beyoncé's debut album , dangerously in love 2003 , which established her as a solo artist worldwide , earned five grammy awards and featured the billboard hot 100 number - one singles crazy in love and baby boy .  \n",
       "56bf6b0f3aeaaa14008c9601  beyoncé giselle knowles - carter / biːˈjɒnseɪ / bee - yon - say born september 4 , 1981 is an american singer , songwriter , record producer and actress . born and raised in houston , texas , she performed in various singing and dancing competitions as a child , and rose to fame in the late 1990s as lead singer of r&b girl - group destiny's child . managed by her father , mathew knowles , the group became one of the world's best - selling girl groups of all time . their hiatus saw the release of beyoncé's debut album , dangerously in love 2003 , which established her as a solo artist worldwide , earned five grammy awards and featured the billboard hot 100 number - one singles crazy in love and baby boy .  \n",
       "56bf6b0f3aeaaa14008c9602  beyoncé giselle knowles - carter / biːˈjɒnseɪ / bee - yon - say born september 4 , 1981 is an american singer , songwriter , record producer and actress . born and raised in houston , texas , she performed in various singing and dancing competitions as a child , and rose to fame in the late 1990s as lead singer of r&b girl - group destiny's child . managed by her father , mathew knowles , the group became one of the world's best - selling girl groups of all time . their hiatus saw the release of beyoncé's debut album , dangerously in love 2003 , which established her as a solo artist worldwide , earned five grammy awards and featured the billboard hot 100 number - one singles crazy in love and baby boy .  "
      ]
     },
     "execution_count": 344,
     "metadata": {},
     "output_type": "execute_result"
    }
   ],
   "source": [
    "assert len(df) == 130319\n",
    "assert len(df) == len(set(df[\"id\"]))\n",
    "df.set_index(\"id\", drop=False, inplace=True)\n",
    "df.head()"
   ]
  },
  {
   "cell_type": "code",
   "execution_count": 345,
   "id": "7cdecccf",
   "metadata": {},
   "outputs": [
    {
     "data": {
      "text/plain": [
       "False    0.666219\n",
       "True     0.333781\n",
       "dtype: float64"
      ]
     },
     "execution_count": 345,
     "metadata": {},
     "output_type": "execute_result"
    }
   ],
   "source": [
    "s = pd.Series(np.where(df[\"answer_start\"]==-1, True, False))\n",
    "assert s.value_counts()[True] == 43498\n",
    "s.value_counts(normalize=True)"
   ]
  },
  {
   "cell_type": "markdown",
   "id": "e0727e1e",
   "metadata": {},
   "source": [
    "# Answer corrections"
   ]
  },
  {
   "cell_type": "code",
   "execution_count": 346,
   "id": "b09ca081",
   "metadata": {},
   "outputs": [
    {
     "name": "stdout",
     "output_type": "stream",
     "text": [
      "Wall time: 495 ms\n"
     ]
    }
   ],
   "source": [
    "%%time\n",
    "df.loc[\"56bf7e603aeaaa14008c9681\", \"answer_text\"] = \"split with Luckett and Roberson\"\n",
    "df.loc[\"56be973d3aeaaa14008c9123\", \"answer_text\"] = \"sixth\"\n",
    "df.loc[\"56d3ac8e2ccc5a1400d82e1b\", \"answer_text\"] = \"operatic\"\n",
    "df.loc[\"56cbdea66d243a140015edae\", \"answer_text\"] = \"seven\"\n",
    "df.loc[\"56cbdea66d243a140015edae\", \"answer_start\"] = 339\n",
    "df.loc[\"56cf609aaab44d1400b89187\", \"answer_text\"] = \"seven\"\n",
    "df.loc[\"56cf609aaab44d1400b89187\", \"answer_start\"] = 339\n",
    "df.loc[\"56d20a6ae7d4791d0090261a\", \"answer_text\"] = \"seven\"\n",
    "df.loc[\"56d20a6ae7d4791d0090261a\", \"answer_start\"] = 339\n",
    "df.loc[\"56ccde7862d2951400fa64d9\", \"answer_start\"] = 798\n",
    "df.loc[\"56cd682162d2951400fa658e\", \"answer_start\"] = 467\n",
    "df.loc[\"56ce726faab44d1400b88793\", \"answer_text\"] = \"three\"\n",
    "df.loc[\"56ce726faab44d1400b88793\", \"answer_start\"] = 308\n",
    "df.loc[\"56cc57466d243a140015ef24\", \"question\"] = \"in which year did the sales of iPhone exceed iPod?\"\n",
    "df.loc[\"56cc57466d243a140015ef24\", \"answer_text\"] = \"2010\"\n",
    "df.loc[\"56cc57466d243a140015ef24\", \"answer_start\"] = 449\n",
    "df.loc[\"56ce750daab44d1400b887b4\", \"answer_start\"] = 406\n",
    "df.loc[\"56cd5d3a62d2951400fa653e\", \"answer_text\"] = \"manually\"\n",
    "df.loc[\"56cd8ffa62d2951400fa6723\", \"question\"] = \"what is Akiko Kōmoto's nationality?\"\n",
    "df.loc[\"56cd8ffa62d2951400fa6723\", \"answer_text\"] = \"Japanese\"\n",
    "df.loc[\"56cf2e15aab44d1400b88dc9\", \"answer_text\"] = \"twenty-fourth\"\n",
    "df.loc[\"56cf2e15aab44d1400b88dcb\", \"answer_text\"] = \"fourth\"\n",
    "df.loc[\"56cf2e15aab44d1400b88dcb\", \"answer_start\"] = 114\n",
    "df.loc[\"56cdcf7d62d2951400fa686d\", \"answer_start\"] = 532\n",
    "df.loc[\"56cdcf7d62d2951400fa686e\", \"answer_start\"] = 581\n",
    "df.loc[\"56cf4113aab44d1400b88ee0\", \"answer_text\"] = \"fourth\"\n",
    "df.loc[\"56cf469eaab44d1400b88f00\", \"answer_text\"] = \"sixth\"\n",
    "df.loc[\"56cde1f462d2951400fa6961\", \"answer_text\"] = \"two\"\n",
    "df.loc[\"56cde1f462d2951400fa6961\", \"answer_start\"] = 551\n",
    "df.loc[\"56cebbdeaab44d1400b8895c\", \"answer_text\"] = \"a million\"\n",
    "df.loc[\"56cebbdeaab44d1400b8895c\", \"answer_start\"] = 275\n",
    "df.loc[\"56cf1a05aab44d1400b88d7f\", \"answer_start\"] = 342\n",
    "df.loc[\"56cf3442aab44d1400b88e39\", \"answer_start\"] = 379\n",
    "df.loc[\"56cfe987234ae51400d9c09b\", \"answer_text\"] = \"92\"\n",
    "df.loc[\"56cfe987234ae51400d9c09b\", \"answer_start\"] = 452\n",
    "df.loc[\"56cf36e5aab44d1400b88e71\", \"answer_start\"] = 652\n",
    "df.loc[\"56cffb63234ae51400d9c1e7\", \"answer_text\"] = \"two\"\n",
    "df.loc[\"56cffb63234ae51400d9c1e7\", \"answer_start\"] = 141\n",
    "df.loc[\"56cf572daab44d1400b89072\", \"answer_text\"] = \"41st\"\n",
    "df.loc[\"56cf5c2caab44d1400b8911d\", \"answer_start\"] = 170\n",
    "df.loc[\"56d3f37f2ccc5a1400d82f85\", \"answer_start\"] = 170\n",
    "df.loc[\"56cf4e9aaab44d1400b88f9c\", \"answer_text\"] = \"seventh\"\n",
    "df.loc[\"56cf4e9aaab44d1400b88f9c\", \"answer_start\"] = 1006\n",
    "df.loc[\"56d0f47a17492d1400aab69d\", \"answer_text\"] = \"seventh\"\n",
    "df.loc[\"56d0f47a17492d1400aab69d\", \"answer_start\"] = 1006\n",
    "df.loc[\"56cf58f7aab44d1400b890b8\", \"answer_text\"] = \"three\"\n",
    "df.loc[\"56cf58f7aab44d1400b890b8\", \"answer_start\"] = 288\n",
    "df.loc[\"56d0f8a117492d1400aab6af\", \"answer_text\"] = \"three\"\n",
    "df.loc[\"56d0f8a117492d1400aab6af\", \"answer_start\"] = 288\n",
    "df.loc[\"56cf64d24df3c31400b0d6f5\", \"answer_text\"] = \"three\"\n",
    "df.loc[\"56cf64d24df3c31400b0d6f5\", \"answer_start\"] = 940\n",
    "df.loc[\"56d1042317492d1400aab72f\", \"answer_text\"] = \"three\"\n",
    "df.loc[\"56d1042317492d1400aab72f\", \"answer_start\"] = 940\n",
    "df.loc[\"56cf657b4df3c31400b0d6ff\", \"answer_text\"] = \"two\"\n",
    "df.loc[\"56cf657b4df3c31400b0d6ff\", \"answer_start\"] = 99\n",
    "df.loc[\"56d1056017492d1400aab755\", \"answer_start\"] = 1090\n",
    "df.loc[\"56cf79be4df3c31400b0d80e\", \"answer_text\"] = \"two\"\n",
    "df.loc[\"56cf79be4df3c31400b0d80e\", \"answer_start\"] = 381\n",
    "df.loc[\"56d11a9217492d1400aab976\", \"answer_text\"] = \"two\"\n",
    "df.loc[\"56d11a9217492d1400aab976\", \"answer_start\"] = 381\n",
    "df.loc[\"56cf829c234ae51400d9bdd4\", \"answer_text\"] = \"two\"\n",
    "df.loc[\"56cf829c234ae51400d9bdd4\", \"answer_start\"] = 606\n",
    "df.loc[\"56d131ad17492d1400aabbd3\", \"answer_text\"] = \"two\"\n",
    "df.loc[\"56d131ad17492d1400aabbd3\", \"answer_start\"] = 964\n",
    "df.loc[\"56cf8915234ae51400d9be15\", \"answer_text\"] = \"three\"\n",
    "df.loc[\"56cf8915234ae51400d9be15\", \"answer_start\"] = 77\n",
    "df.loc[\"56d13983e7d4791d00902041\", \"answer_text\"] = \"three\"\n",
    "df.loc[\"56d13983e7d4791d00902041\", \"answer_start\"] = 77\n",
    "df.loc[\"56d1b926e7d4791d009020cf\", \"answer_text\"] = \"four\"\n",
    "df.loc[\"56d1b926e7d4791d009020cf\", \"answer_start\"] = 792\n",
    "df.loc[\"56d1c2d2e7d4791d00902121\", \"answer_text\"] = \"5th century ce\"\n",
    "df.loc[\"56d24a6fb329da140004ed00\", \"answer_start\"] = 521\n",
    "df.loc[\"56d2641d59d6e41400145f54\", \"answer_start\"] = 454\n",
    "df.loc[\"56d366ee59d6e414001462f6\", \"answer_text\"] = \"fifteenth\"\n",
    "df.loc[\"56d366ee59d6e414001462f6\", \"answer_start\"] = 342\n",
    "df.loc[\"56d36e4b59d6e4140014638c\", \"answer_text\"] = \"fourteenth\"\n",
    "df.loc[\"56db2190e7c41114004b4dd5\", \"answer_text\"] = \"fourth\"\n",
    "df.loc[\"56d383b159d6e414001465e6\", \"answer_text\"] = \"fifteenth\"\n",
    "df.loc[\"56d383b159d6e414001465e6\", \"answer_start\"] = 40\n",
    "df.loc[\"56d383b159d6e414001465e7\", \"answer_text\"] = \"fifth\"\n",
    "df.loc[\"56d383b159d6e414001465e7\", \"answer_start\"] = 336\n",
    "df.loc[\"56d3881459d6e41400146671\", \"answer_text\"] = \"fifteenth\"\n",
    "df.loc[\"56d3881459d6e41400146671\", \"answer_start\"] = 421\n",
    "df.loc[\"56d3883859d6e41400146678\", \"question\"] = \"For how long was American Idol the highest rated reality show on television?\"\n",
    "df.loc[\"56d3883859d6e41400146678\", \"answer_text\"] = \"almost a decade\"\n",
    "df.loc[\"56d3883859d6e41400146678\", \"answer_start\"] = 388\n",
    "df.loc[\"56d3887c59d6e4140014667b\", \"answer_text\"] = \"eight\"\n",
    "df.loc[\"56d3887c59d6e4140014667b\", \"answer_start\"] = 153\n",
    "df.loc[\"56d38b4e59d6e414001466d7\", \"answer_text\"] = \"nine\"\n",
    "df.loc[\"56d38b4e59d6e414001466d7\", \"answer_start\"] = 87\n",
    "df.loc[\"56d38b4e59d6e414001466d9\", \"question\"] = \"In which year did American Idol win an award for Best Reality Competition?\"\n",
    "df.loc[\"56d38b4e59d6e414001466d9\", \"answer_text\"] = \"2011\"\n",
    "df.loc[\"56d38b4e59d6e414001466d9\", \"answer_start\"] = 660\n",
    "df.loc[\"56d5fc2a1c85041400946ea0\", \"answer_text\"] = \"dog breeds\"\n",
    "df.loc[\"56d5fc2a1c85041400946ea0\", \"answer_start\"] = 285\n",
    "df.loc[\"56d62e521c85041400946f9f\", \"answer_text\"] = \"emotional\"\n",
    "df.loc[\"56d62f3e1c85041400946fa5\", \"answer_text\"] = \"hunting\"\n",
    "df.loc[\"56dafad1e7c41114004b4bfc\", \"answer_start\"] = 309\n",
    "df.loc[\"56dd1cf99a695914005b94d8\", \"answer_text\"] = \"southwestern\"\n",
    "df.loc[\"56dd1dc29a695914005b94e3\", \"answer_start\"] = 628\n",
    "df.loc[\"56dd1ef39a695914005b94f4\", \"answer_start\"] = 376\n",
    "df.loc[\"56de57394396321400ee2830\", \"answer_text\"] = \"sixth\"\n",
    "df.loc[\"56deebdc3277331400b4d81f\", \"question\"] = \"Each Brigade contains how many logistics battalions?\"\n",
    "df.loc[\"56deebdc3277331400b4d81f\", \"answer_start\"] = 466\n",
    "df.loc[\"56de0abc4396321400ee2563\", \"answer_text\"] = \"Islamic\"\n",
    "df.loc[\"56df844f56340a1900b29cca\", \"answer_text\"] = \"700 lumens\"\n",
    "df.loc[\"56df844f56340a1900b29cca\", \"answer_start\"] = 922\n",
    "df.loc[\"56df865956340a1900b29ceb\", \"question\"] = \"What technique considers the amount of daylight received indoors?\"\n",
    "df.loc[\"56df865956340a1900b29ceb\", \"answer_text\"] = \"daylight factor calculation\"\n",
    "df.loc[\"56df865956340a1900b29ceb\", \"answer_start\"] = 380\n",
    "df.loc[\"56df95d44a1a83140091eb81\", \"question\"] = \"What is the effect of high GAI value?\"\n",
    "df.loc[\"56df95d44a1a83140091eb81\", \"answer_text\"] = \"the greater the apparent saturation or vividness of the object colors\"\n",
    "df.loc[\"56df95d44a1a83140091eb81\", \"answer_start\"] = 315\n",
    "df.loc[\"56dfa6de7aa994140058df9a\", \"question\"] = \"What are the medical outcomes for patients with natural scenery?\"\n",
    "df.loc[\"56dfa6de7aa994140058df9a\", \"answer_text\"] = \"shorter postoperative hospital stays , received fewer negative evaluative comments in nurses' notes , and took fewer potent analegesics\"\n",
    "df.loc[\"56dfa6de7aa994140058df9a\", \"answer_start\"] = 248\n",
    "df.loc[\"56dfa6de7aa994140058df9b\", \"question\"] = \"when was the study conducted by robert ulrich?\"\n",
    "df.loc[\"56dfa6de7aa994140058df9b\", \"answer_text\"] = \"1972 and 1981\"\n",
    "df.loc[\"56dfa6de7aa994140058df9b\", \"answer_start\"] = 21\n",
    "df.loc[\"56dfbc1d231d4119001abd48\", \"answer_start\"] = 427\n",
    "df.loc[\"56e462c98c00841900fbaf71\", \"answer_start\"] = 101\n",
    "df.loc[\"56e4744d39bdeb140034793b\", \"answer_start\"] = 105\n",
    "df.loc[\"56e4793839bdeb140034794f\", \"question\"] = \"How should a building fulfil the contemporary ethos?\"\n",
    "df.loc[\"56e4793839bdeb140034794f\", \"answer_text\"] = \"constructed in a manner which is environmentally friendly\"\n",
    "df.loc[\"56e4793839bdeb140034794f\", \"answer_start\"] = 241\n",
    "df.loc[\"56df623596943c1400a5d494\", \"answer_start\"] = 924\n",
    "df.loc[\"56df736f5ca0a614008f9a91\", \"answer_text\"] = \"30\"\n",
    "df.loc[\"56df736f5ca0a614008f9a91\", \"answer_start\"] = 244\n",
    "df.loc[\"56d4baf92ccc5a1400d8317f\", \"answer_text\"] = \"destiny fulfilled\"\n",
    "df.loc[\"56d4baf92ccc5a1400d8317f\", \"answer_start\"] = 527\n",
    "df.loc[\"56bfb502a10cfb140055125c\", \"answer_start\"] = 597\n",
    "df.loc[\"56d39a6a59d6e414001467f5\", \"answer_text\"] = \"drone basses\"\n",
    "df.loc[\"56d39a6a59d6e414001467f5\", \"answer_start\"] = 244\n",
    "df.loc[\"56cffba5234ae51400d9c1f1\", \"answer_text\"] = \"intuitively\"\n",
    "df.loc[\"56cffba5234ae51400d9c1f1\", \"answer_start\"] = 443\n",
    "df.loc[\"56cf657b4df3c31400b0d700\", \"answer_text\"] = \"two\"\n",
    "df.loc[\"56cf657b4df3c31400b0d700\", \"answer_start\"] = 522\n",
    "df.loc[\"56d0e42e17492d1400aab68c\", \"question\"] = \"What details of buddha's life that most scholars accept?\"\n",
    "df.loc[\"56d0e42e17492d1400aab68c\", \"answer_text\"] = \"he lived , taught and founded a monastic order\"\n",
    "df.loc[\"56d0e42e17492d1400aab68c\", \"answer_start\"] = 400\n",
    "df.loc[\"56d1c2d2e7d4791d0090211f\", \"answer_start\"] = 367\n",
    "df.loc[\"56d240dbb329da140004ec77\", \"answer_start\"] = 118\n",
    "df.loc[\"56de4796cffd8e1900b4b777\", \"answer_start\"] = 83\n",
    "df.loc[\"56de4adf4396321400ee278e\", \"answer_text\"] = \"blue dashes\"\n",
    "df.loc[\"56de8542cffd8e1900b4b9da\", \"answer_text\"] = \"western european powers\"\n",
    "df.loc[\"56de8542cffd8e1900b4b9da\", \"answer_start\"] = 645\n",
    "df.loc[\"56df2305c65bf219000b3f98\", \"answer_text\"] = \"general electric\"\n",
    "df.loc[\"56df2305c65bf219000b3f98\", \"answer_start\"] = 204\n",
    "df.loc[\"56df5cdd96943c1400a5d438\", \"answer_text\"] = \"five\"\n",
    "df.loc[\"56df5cdd96943c1400a5d438\", \"answer_start\"] = 159\n",
    "df.loc[\"56df5e8e96943c1400a5d44d\", \"question\"] = \"who is the largest employer in the msa area?\"\n",
    "df.loc[\"56df5e8e96943c1400a5d44d\", \"answer_text\"] = \"tinker air force base\"\n",
    "df.loc[\"56df5e8e96943c1400a5d44d\", \"answer_start\"] = 90\n",
    "df.loc[\"56df86855ca0a614008f9c1d\", \"answer_text\"] = \"three\"\n",
    "df.loc[\"56df86855ca0a614008f9c1d\", \"answer_start\"] = 82\n",
    "df.loc[\"56dfa04b38dc421700152128\", \"answer_start\"] = 278\n",
    "df.loc[\"56e098707aa994140058e605\", \"answer_start\"] = 508\n",
    "df.loc[\"56df85525ca0a614008f9bfe\", \"answer_text\"] = \"single wire\"\n",
    "df.loc[\"56df85525ca0a614008f9bfe\", \"answer_start\"] = 198\n",
    "df.loc[\"56df8ce34a1a83140091eb26\", \"answer_text\"] = \"one\"\n",
    "df.loc[\"56df8ce34a1a83140091eb26\", \"answer_start\"] = 399\n",
    "df.loc[\"56df9ad738dc4217001520c8\", \"answer_text\"] = \"nine\"\n",
    "df.loc[\"56df9ad738dc4217001520c8\", \"answer_start\"] = 371\n",
    "df.loc[\"56df9dbd4a1a83140091eb99\", \"answer_text\"] = \"three\"\n",
    "df.loc[\"56df9dbd4a1a83140091eb99\", \"answer_start\"] = 192\n",
    "df.loc[\"56dfb5977aa994140058e02d\", \"answer_text\"] = \"1907–1912\"\n",
    "df.loc[\"56dfb5977aa994140058e02d\", \"answer_start\"] = 314\n",
    "df.loc[\"56dfb5977aa994140058e02e\", \"question\"] = \"what are the name of the tetrahedral wings?\"\n",
    "df.loc[\"56dfb5977aa994140058e02e\", \"answer_text\"] = \"cygnet i , ii and iii\"\n",
    "df.loc[\"56dfb5977aa994140058e02e\", \"answer_start\"] = 179\n",
    "df.loc[\"56dfc4ba231d4119001abdce\", \"answer_text\"] = \"ten\"\n",
    "df.loc[\"56dfc4ba231d4119001abdce\", \"answer_start\"] = 129\n",
    "df.loc[\"56e032247aa994140058e34b\", \"answer_text\"] = \"ninth arte\"\n",
    "df.loc[\"56e06db77aa994140058e49f\", \"answer_text\"] = \"fifteen\"\n",
    "df.loc[\"56e06db77aa994140058e49f\", \"answer_start\"] = 10\n",
    "df.loc[\"56e079df231d4119001ac19f\", \"answer_text\"] = \"one\"\n",
    "df.loc[\"56e079df231d4119001ac19f\", \"answer_start\"] = 66\n",
    "df.loc[\"56e07d387aa994140058e56d\", \"answer_text\"] = \"one\"\n",
    "df.loc[\"56e07d387aa994140058e56d\", \"answer_start\"] = 226\n",
    "df.loc[\"56e08070231d4119001ac203\", \"answer_start\"] = 210\n",
    "df.loc[\"56e080dc231d4119001ac20d\", \"answer_text\"] = \"single\"\n",
    "df.loc[\"56e080dc231d4119001ac20d\", \"answer_start\"] = 138\n",
    "df.loc[\"56e0840c231d4119001ac23a\", \"answer_text\"] = \"three\"\n",
    "df.loc[\"56e0840c231d4119001ac23a\", \"answer_start\"] = 77\n",
    "df.loc[\"56e042487aa994140058e409\", \"answer_text\"] = \"⟨p⟩\"\n",
    "df.loc[\"56e042487aa994140058e409\", \"answer_start\"] = 261\n",
    "df.loc[\"56e06b78231d4119001ac0e7\", \"answer_start\"] = 347\n",
    "df.loc[\"56e0711b231d4119001ac141\", \"answer_start\"] = 211\n",
    "df.loc[\"56e087957aa994140058e5c1\", \"answer_text\"] = \"two\"\n",
    "df.loc[\"56e087957aa994140058e5c1\", \"answer_start\"] = 12\n",
    "df.loc[\"56e0914c7aa994140058e5f8\", \"answer_text\"] = \"one\"\n",
    "df.loc[\"56e0914c7aa994140058e5f8\", \"answer_start\"] = 210\n",
    "df.loc[\"56e0bc7b231d4119001ac364\", \"answer_text\"] = \"december 6 , 1957\"\n",
    "df.loc[\"56e0ea497aa994140058e7af\", \"answer_text\"] = \"three\"\n",
    "df.loc[\"56e0ea497aa994140058e7af\", \"answer_start\"] = 104\n",
    "\n",
    "\n",
    "\n",
    "\n",
    "\n",
    "\n",
    "\n",
    "\n"
   ]
  },
  {
   "cell_type": "code",
   "execution_count": 347,
   "id": "a91da7c3",
   "metadata": {},
   "outputs": [
    {
     "name": "stdout",
     "output_type": "stream",
     "text": [
      "Wall time: 86 ms\n"
     ]
    }
   ],
   "source": [
    "%%time\n",
    "col = \"qc_length\"\n",
    "df[col] = df[\"question\"].str.len() + df[\"context\"].str.len() \n",
    "df[col] = df[col].astype(np.int32)"
   ]
  },
  {
   "cell_type": "code",
   "execution_count": 348,
   "id": "b99a48f2",
   "metadata": {},
   "outputs": [
    {
     "name": "stdout",
     "output_type": "stream",
     "text": [
      "Wall time: 48 ms\n"
     ]
    }
   ],
   "source": [
    "%%time\n",
    "col = \"a_length\"\n",
    "df[col] = df[\"answer_text\"].str.len()\n",
    "df[col] = df[col].astype(np.int32)"
   ]
  },
  {
   "cell_type": "code",
   "execution_count": 349,
   "id": "4e871ebe",
   "metadata": {},
   "outputs": [],
   "source": [
    "def word_length(cols: Iterable) -> Callable:\n",
    "    def f(row) -> int:\n",
    "        res = 0\n",
    "        for col in cols:\n",
    "            res += len(row[col].split())\n",
    "        return res\n",
    "    \n",
    "    return f"
   ]
  },
  {
   "cell_type": "code",
   "execution_count": 350,
   "id": "48da287d",
   "metadata": {},
   "outputs": [
    {
     "name": "stderr",
     "output_type": "stream",
     "text": [
      "100%|████████████████████████| 130319/130319 [00:02<00:00, 49240.33it/s]"
     ]
    },
    {
     "name": "stdout",
     "output_type": "stream",
     "text": [
      "Wall time: 2.65 s\n"
     ]
    },
    {
     "name": "stderr",
     "output_type": "stream",
     "text": [
      "\n"
     ]
    }
   ],
   "source": [
    "%%time\n",
    "col = \"qc_word_length\"\n",
    "df[col] = df.progress_apply(word_length([\"question\", \"context\"]), axis=1)\n",
    "df[col] = df[col].astype(np.int32)"
   ]
  },
  {
   "cell_type": "code",
   "execution_count": 351,
   "id": "568f9ac7",
   "metadata": {},
   "outputs": [
    {
     "name": "stderr",
     "output_type": "stream",
     "text": [
      "100%|███████████████████████| 130319/130319 [00:01<00:00, 108418.61it/s]"
     ]
    },
    {
     "name": "stdout",
     "output_type": "stream",
     "text": [
      "Wall time: 1.21 s\n"
     ]
    },
    {
     "name": "stderr",
     "output_type": "stream",
     "text": [
      "\n"
     ]
    }
   ],
   "source": [
    "%%time\n",
    "col = \"a_word_length\"\n",
    "df[col] = df.progress_apply(word_length([\"answer_text\"]), axis=1)\n",
    "df[col] = df[col].astype(np.int32)"
   ]
  },
  {
   "cell_type": "code",
   "execution_count": 352,
   "id": "ec848e89",
   "metadata": {},
   "outputs": [],
   "source": [
    "#pretrained_dir = \"../pretrained/google/electra-small-discriminator\"\n",
    "#tokenizer = AutoTokenizer.from_pretrained(pretrained_dir, model_max_length=512)\n",
    "#print(f\"{repr(tokenizer)}\\n{tokenizer.model_input_names}\")"
   ]
  },
  {
   "cell_type": "code",
   "execution_count": 353,
   "id": "a0aacf7f",
   "metadata": {},
   "outputs": [],
   "source": [
    "#pretrained_dir = \"../pretrained/albert-base-v2\"\n",
    "#sp_tokenizer = AutoTokenizer.from_pretrained(pretrained_dir, model_max_length=512)\n",
    "#print(f\"{repr(sp_tokenizer)}\\n{sp_tokenizer.model_input_names}\")"
   ]
  },
  {
   "cell_type": "code",
   "execution_count": 354,
   "id": "20894cd4",
   "metadata": {},
   "outputs": [],
   "source": [
    "#pretrained_dir = \"../pretrained/distilroberta-base\"\n",
    "#bpe_tokenizer = AutoTokenizer.from_pretrained(pretrained_dir, model_max_length=512)\n",
    "#print(f\"{repr(bpe_tokenizer)}\\n{bpe_tokenizer.model_input_names}\")"
   ]
  },
  {
   "cell_type": "code",
   "execution_count": 355,
   "id": "424ccbc8",
   "metadata": {},
   "outputs": [],
   "source": [
    "#%%time\n",
    "#x = tokenizer(questions, contexts)\n",
    "#print(f\"{repr(x.keys())}\\nlen={len(x['input_ids'])}\")\n",
    "#col = \"qc_wp_length\"\n",
    "#df[col] = [len(v) for v in x[\"input_ids\"]]\n",
    "#df[col] = df[col].astype(np.int16)"
   ]
  },
  {
   "cell_type": "code",
   "execution_count": 356,
   "id": "a29d0a5e",
   "metadata": {},
   "outputs": [],
   "source": [
    "#%%time\n",
    "#x = sp_tokenizer(questions, contexts)\n",
    "#print(f\"{repr(x.keys())}\\nlen={len(x['input_ids'])}\")\n",
    "#col = \"qc_sp_length\"\n",
    "#df[col] = [len(v) for v in x[\"input_ids\"]]\n",
    "#df[col] = df[col].astype(np.int16)"
   ]
  },
  {
   "cell_type": "code",
   "execution_count": 357,
   "id": "180ca6c9",
   "metadata": {},
   "outputs": [],
   "source": [
    "#%%time\n",
    "#x = bpe_tokenizer(questions, contexts)\n",
    "#print(f\"{repr(x.keys())}\\nlen={len(x['input_ids'])}\")\n",
    "#col = \"qc_bpe_length\"\n",
    "#df[col] = [len(v) for v in x[\"input_ids\"]]\n",
    "#df[col] = df[col].astype(np.int16)"
   ]
  },
  {
   "cell_type": "code",
   "execution_count": 358,
   "id": "a3abb85f",
   "metadata": {},
   "outputs": [],
   "source": [
    "#cols = [\"qc_length\", \"a_length\", \"qc_word_length\", \"a_word_length\", \n",
    "#        \"qc_wp_length\", \"qc_sp_length\", \"qc_bpe_length\"]\n",
    "#df[cols].describe(percentiles=percentiles)"
   ]
  },
  {
   "cell_type": "code",
   "execution_count": 359,
   "id": "30275467",
   "metadata": {},
   "outputs": [
    {
     "name": "stdout",
     "output_type": "stream",
     "text": [
      "<class 'pandas.core.frame.DataFrame'>\n",
      "Index: 130319 entries, 56be85543aeaaa14008c9063 to 5a7e070b70df9f001a87543d\n",
      "Data columns (total 10 columns):\n",
      " #   Column          Non-Null Count   Dtype \n",
      "---  ------          --------------   ----- \n",
      " 0   id              130319 non-null  object\n",
      " 1   title           130319 non-null  object\n",
      " 2   question        130319 non-null  object\n",
      " 3   answer_text     130319 non-null  object\n",
      " 4   answer_start    130319 non-null  int16 \n",
      " 5   context         130319 non-null  object\n",
      " 6   qc_length       130319 non-null  int32 \n",
      " 7   a_length        130319 non-null  int32 \n",
      " 8   qc_word_length  130319 non-null  int32 \n",
      " 9   a_word_length   130319 non-null  int32 \n",
      "dtypes: int16(1), int32(4), object(5)\n",
      "memory usage: 12.2+ MB\n"
     ]
    }
   ],
   "source": [
    "df.info()"
   ]
  },
  {
   "cell_type": "code",
   "execution_count": 360,
   "id": "724e5796",
   "metadata": {},
   "outputs": [
    {
     "name": "stdout",
     "output_type": "stream",
     "text": [
      "Wall time: 295 ms\n"
     ]
    }
   ],
   "source": [
    "%%time\n",
    "df.to_parquet(\"output/train.parquet\", index=False)"
   ]
  }
 ],
 "metadata": {
  "kernelspec": {
   "display_name": "Python 3 (ipykernel)",
   "language": "python",
   "name": "python3"
  },
  "language_info": {
   "codemirror_mode": {
    "name": "ipython",
    "version": 3
   },
   "file_extension": ".py",
   "mimetype": "text/x-python",
   "name": "python",
   "nbconvert_exporter": "python",
   "pygments_lexer": "ipython3",
   "version": "3.7.5"
  }
 },
 "nbformat": 4,
 "nbformat_minor": 5
}
