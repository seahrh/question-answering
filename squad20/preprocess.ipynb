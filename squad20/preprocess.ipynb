{
 "cells": [
  {
   "cell_type": "code",
   "execution_count": 253,
   "id": "6852263f",
   "metadata": {},
   "outputs": [],
   "source": [
    "import os\n",
    "import numpy as np\n",
    "import pandas as pd\n",
    "from transformers import AutoTokenizer\n",
    "from tqdm import tqdm\n",
    "from typing import Iterable, Callable\n",
    "from questionanswering import squad"
   ]
  },
  {
   "cell_type": "code",
   "execution_count": 254,
   "id": "f23cb0b3",
   "metadata": {},
   "outputs": [],
   "source": [
    "percentiles=[.01, .05, .1, .2, .3, .4, .5, .6, .7, .8, .9, .95, .99]\n",
    "pd.set_option(\"use_inf_as_na\", True)\n",
    "pd.set_option(\"max_info_columns\", 9999)\n",
    "pd.set_option(\"display.max_columns\", 9999)\n",
    "pd.set_option(\"display.max_rows\", 9999)\n",
    "pd.set_option('max_colwidth', 9999)\n",
    "tqdm.pandas()\n",
    "os.environ[\"TOKENIZERS_PARALLELISM\"] = \"false\""
   ]
  },
  {
   "cell_type": "code",
   "execution_count": 255,
   "id": "ef6b53b4",
   "metadata": {},
   "outputs": [
    {
     "name": "stderr",
     "output_type": "stream",
     "text": [
      "100%|████████████████████████████████| 442/442 [00:00<00:00, 683.69it/s]\n"
     ]
    },
    {
     "name": "stdout",
     "output_type": "stream",
     "text": [
      "<class 'pandas.core.frame.DataFrame'>\n",
      "RangeIndex: 130319 entries, 0 to 130318\n",
      "Data columns (total 6 columns):\n",
      " #   Column        Non-Null Count   Dtype \n",
      "---  ------        --------------   ----- \n",
      " 0   id            130319 non-null  object\n",
      " 1   title         130319 non-null  object\n",
      " 2   question      130319 non-null  object\n",
      " 3   answer_text   130319 non-null  object\n",
      " 4   context       130319 non-null  object\n",
      " 5   answer_start  130319 non-null  int16 \n",
      "dtypes: int16(1), object(5)\n",
      "memory usage: 5.2+ MB\n"
     ]
    }
   ],
   "source": [
    "df = squad.parse_json_file(\"input/train-v2.0.json\")\n",
    "questions = list(df[\"question\"])\n",
    "contexts = list(df[\"context\"])\n",
    "df.info()"
   ]
  },
  {
   "cell_type": "code",
   "execution_count": 256,
   "id": "8f9b2cb9",
   "metadata": {},
   "outputs": [
    {
     "data": {
      "text/html": [
       "<div>\n",
       "<style scoped>\n",
       "    .dataframe tbody tr th:only-of-type {\n",
       "        vertical-align: middle;\n",
       "    }\n",
       "\n",
       "    .dataframe tbody tr th {\n",
       "        vertical-align: top;\n",
       "    }\n",
       "\n",
       "    .dataframe thead th {\n",
       "        text-align: right;\n",
       "    }\n",
       "</style>\n",
       "<table border=\"1\" class=\"dataframe\">\n",
       "  <thead>\n",
       "    <tr style=\"text-align: right;\">\n",
       "      <th></th>\n",
       "      <th>id</th>\n",
       "      <th>title</th>\n",
       "      <th>question</th>\n",
       "      <th>answer_text</th>\n",
       "      <th>context</th>\n",
       "      <th>answer_start</th>\n",
       "    </tr>\n",
       "  </thead>\n",
       "  <tbody>\n",
       "    <tr>\n",
       "      <th>0</th>\n",
       "      <td>56be85543aeaaa14008c9063</td>\n",
       "      <td>Beyoncé</td>\n",
       "      <td>When did Beyonce start becoming popular?</td>\n",
       "      <td>in the late 1990s</td>\n",
       "      <td>Beyoncé Giselle Knowles-Carter (/biːˈjɒnseɪ/ bee-YON-say) (born September 4, 1981) is an American singer, songwriter, record producer and actress. Born and raised in Houston, Texas, she performed in various singing and dancing competitions as a child, and rose to fame in the late 1990s as lead singer of R&amp;B girl-group Destiny's Child. Managed by her father, Mathew Knowles, the group became one of the world's best-selling girl groups of all time. Their hiatus saw the release of Beyoncé's debut album, Dangerously in Love (2003), which established her as a solo artist worldwide, earned five Grammy Awards and featured the Billboard Hot 100 number-one singles \"Crazy in Love\" and \"Baby Boy\".</td>\n",
       "      <td>269</td>\n",
       "    </tr>\n",
       "    <tr>\n",
       "      <th>1</th>\n",
       "      <td>56be85543aeaaa14008c9065</td>\n",
       "      <td>Beyoncé</td>\n",
       "      <td>What areas did Beyonce compete in when she was growing up?</td>\n",
       "      <td>singing and dancing</td>\n",
       "      <td>Beyoncé Giselle Knowles-Carter (/biːˈjɒnseɪ/ bee-YON-say) (born September 4, 1981) is an American singer, songwriter, record producer and actress. Born and raised in Houston, Texas, she performed in various singing and dancing competitions as a child, and rose to fame in the late 1990s as lead singer of R&amp;B girl-group Destiny's Child. Managed by her father, Mathew Knowles, the group became one of the world's best-selling girl groups of all time. Their hiatus saw the release of Beyoncé's debut album, Dangerously in Love (2003), which established her as a solo artist worldwide, earned five Grammy Awards and featured the Billboard Hot 100 number-one singles \"Crazy in Love\" and \"Baby Boy\".</td>\n",
       "      <td>207</td>\n",
       "    </tr>\n",
       "    <tr>\n",
       "      <th>2</th>\n",
       "      <td>56be85543aeaaa14008c9066</td>\n",
       "      <td>Beyoncé</td>\n",
       "      <td>When did Beyonce leave Destiny's Child and become a solo singer?</td>\n",
       "      <td>2003</td>\n",
       "      <td>Beyoncé Giselle Knowles-Carter (/biːˈjɒnseɪ/ bee-YON-say) (born September 4, 1981) is an American singer, songwriter, record producer and actress. Born and raised in Houston, Texas, she performed in various singing and dancing competitions as a child, and rose to fame in the late 1990s as lead singer of R&amp;B girl-group Destiny's Child. Managed by her father, Mathew Knowles, the group became one of the world's best-selling girl groups of all time. Their hiatus saw the release of Beyoncé's debut album, Dangerously in Love (2003), which established her as a solo artist worldwide, earned five Grammy Awards and featured the Billboard Hot 100 number-one singles \"Crazy in Love\" and \"Baby Boy\".</td>\n",
       "      <td>526</td>\n",
       "    </tr>\n",
       "    <tr>\n",
       "      <th>3</th>\n",
       "      <td>56bf6b0f3aeaaa14008c9601</td>\n",
       "      <td>Beyoncé</td>\n",
       "      <td>In what city and state did Beyonce grow up?</td>\n",
       "      <td>Houston, Texas</td>\n",
       "      <td>Beyoncé Giselle Knowles-Carter (/biːˈjɒnseɪ/ bee-YON-say) (born September 4, 1981) is an American singer, songwriter, record producer and actress. Born and raised in Houston, Texas, she performed in various singing and dancing competitions as a child, and rose to fame in the late 1990s as lead singer of R&amp;B girl-group Destiny's Child. Managed by her father, Mathew Knowles, the group became one of the world's best-selling girl groups of all time. Their hiatus saw the release of Beyoncé's debut album, Dangerously in Love (2003), which established her as a solo artist worldwide, earned five Grammy Awards and featured the Billboard Hot 100 number-one singles \"Crazy in Love\" and \"Baby Boy\".</td>\n",
       "      <td>166</td>\n",
       "    </tr>\n",
       "    <tr>\n",
       "      <th>4</th>\n",
       "      <td>56bf6b0f3aeaaa14008c9602</td>\n",
       "      <td>Beyoncé</td>\n",
       "      <td>In which decade did Beyonce become famous?</td>\n",
       "      <td>late 1990s</td>\n",
       "      <td>Beyoncé Giselle Knowles-Carter (/biːˈjɒnseɪ/ bee-YON-say) (born September 4, 1981) is an American singer, songwriter, record producer and actress. Born and raised in Houston, Texas, she performed in various singing and dancing competitions as a child, and rose to fame in the late 1990s as lead singer of R&amp;B girl-group Destiny's Child. Managed by her father, Mathew Knowles, the group became one of the world's best-selling girl groups of all time. Their hiatus saw the release of Beyoncé's debut album, Dangerously in Love (2003), which established her as a solo artist worldwide, earned five Grammy Awards and featured the Billboard Hot 100 number-one singles \"Crazy in Love\" and \"Baby Boy\".</td>\n",
       "      <td>276</td>\n",
       "    </tr>\n",
       "  </tbody>\n",
       "</table>\n",
       "</div>"
      ],
      "text/plain": [
       "                         id    title  \\\n",
       "0  56be85543aeaaa14008c9063  Beyoncé   \n",
       "1  56be85543aeaaa14008c9065  Beyoncé   \n",
       "2  56be85543aeaaa14008c9066  Beyoncé   \n",
       "3  56bf6b0f3aeaaa14008c9601  Beyoncé   \n",
       "4  56bf6b0f3aeaaa14008c9602  Beyoncé   \n",
       "\n",
       "                                                           question  \\\n",
       "0                          When did Beyonce start becoming popular?   \n",
       "1        What areas did Beyonce compete in when she was growing up?   \n",
       "2  When did Beyonce leave Destiny's Child and become a solo singer?   \n",
       "3                       In what city and state did Beyonce grow up?   \n",
       "4                        In which decade did Beyonce become famous?   \n",
       "\n",
       "           answer_text  \\\n",
       "0    in the late 1990s   \n",
       "1  singing and dancing   \n",
       "2                 2003   \n",
       "3       Houston, Texas   \n",
       "4           late 1990s   \n",
       "\n",
       "                                                                                                                                                                                                                                                                                                                                                                                                                                                                                                                                                                                                                                                                                                                  context  \\\n",
       "0  Beyoncé Giselle Knowles-Carter (/biːˈjɒnseɪ/ bee-YON-say) (born September 4, 1981) is an American singer, songwriter, record producer and actress. Born and raised in Houston, Texas, she performed in various singing and dancing competitions as a child, and rose to fame in the late 1990s as lead singer of R&B girl-group Destiny's Child. Managed by her father, Mathew Knowles, the group became one of the world's best-selling girl groups of all time. Their hiatus saw the release of Beyoncé's debut album, Dangerously in Love (2003), which established her as a solo artist worldwide, earned five Grammy Awards and featured the Billboard Hot 100 number-one singles \"Crazy in Love\" and \"Baby Boy\".   \n",
       "1  Beyoncé Giselle Knowles-Carter (/biːˈjɒnseɪ/ bee-YON-say) (born September 4, 1981) is an American singer, songwriter, record producer and actress. Born and raised in Houston, Texas, she performed in various singing and dancing competitions as a child, and rose to fame in the late 1990s as lead singer of R&B girl-group Destiny's Child. Managed by her father, Mathew Knowles, the group became one of the world's best-selling girl groups of all time. Their hiatus saw the release of Beyoncé's debut album, Dangerously in Love (2003), which established her as a solo artist worldwide, earned five Grammy Awards and featured the Billboard Hot 100 number-one singles \"Crazy in Love\" and \"Baby Boy\".   \n",
       "2  Beyoncé Giselle Knowles-Carter (/biːˈjɒnseɪ/ bee-YON-say) (born September 4, 1981) is an American singer, songwriter, record producer and actress. Born and raised in Houston, Texas, she performed in various singing and dancing competitions as a child, and rose to fame in the late 1990s as lead singer of R&B girl-group Destiny's Child. Managed by her father, Mathew Knowles, the group became one of the world's best-selling girl groups of all time. Their hiatus saw the release of Beyoncé's debut album, Dangerously in Love (2003), which established her as a solo artist worldwide, earned five Grammy Awards and featured the Billboard Hot 100 number-one singles \"Crazy in Love\" and \"Baby Boy\".   \n",
       "3  Beyoncé Giselle Knowles-Carter (/biːˈjɒnseɪ/ bee-YON-say) (born September 4, 1981) is an American singer, songwriter, record producer and actress. Born and raised in Houston, Texas, she performed in various singing and dancing competitions as a child, and rose to fame in the late 1990s as lead singer of R&B girl-group Destiny's Child. Managed by her father, Mathew Knowles, the group became one of the world's best-selling girl groups of all time. Their hiatus saw the release of Beyoncé's debut album, Dangerously in Love (2003), which established her as a solo artist worldwide, earned five Grammy Awards and featured the Billboard Hot 100 number-one singles \"Crazy in Love\" and \"Baby Boy\".   \n",
       "4  Beyoncé Giselle Knowles-Carter (/biːˈjɒnseɪ/ bee-YON-say) (born September 4, 1981) is an American singer, songwriter, record producer and actress. Born and raised in Houston, Texas, she performed in various singing and dancing competitions as a child, and rose to fame in the late 1990s as lead singer of R&B girl-group Destiny's Child. Managed by her father, Mathew Knowles, the group became one of the world's best-selling girl groups of all time. Their hiatus saw the release of Beyoncé's debut album, Dangerously in Love (2003), which established her as a solo artist worldwide, earned five Grammy Awards and featured the Billboard Hot 100 number-one singles \"Crazy in Love\" and \"Baby Boy\".   \n",
       "\n",
       "   answer_start  \n",
       "0           269  \n",
       "1           207  \n",
       "2           526  \n",
       "3           166  \n",
       "4           276  "
      ]
     },
     "execution_count": 256,
     "metadata": {},
     "output_type": "execute_result"
    }
   ],
   "source": [
    "assert len(df) == 130319\n",
    "assert len(df) == len(set(df[\"id\"]))\n",
    "df.head()"
   ]
  },
  {
   "cell_type": "code",
   "execution_count": 257,
   "id": "7cdecccf",
   "metadata": {},
   "outputs": [
    {
     "data": {
      "text/plain": [
       "False    0.666219\n",
       "True     0.333781\n",
       "dtype: float64"
      ]
     },
     "execution_count": 257,
     "metadata": {},
     "output_type": "execute_result"
    }
   ],
   "source": [
    "s = pd.Series(np.where(df[\"answer_start\"]==-1, True, False))\n",
    "assert s.value_counts()[True] == 43498\n",
    "s.value_counts(normalize=True)"
   ]
  },
  {
   "cell_type": "code",
   "execution_count": 258,
   "id": "02307c13",
   "metadata": {},
   "outputs": [
    {
     "data": {
      "text/html": [
       "<div>\n",
       "<style scoped>\n",
       "    .dataframe tbody tr th:only-of-type {\n",
       "        vertical-align: middle;\n",
       "    }\n",
       "\n",
       "    .dataframe tbody tr th {\n",
       "        vertical-align: top;\n",
       "    }\n",
       "\n",
       "    .dataframe thead th {\n",
       "        text-align: right;\n",
       "    }\n",
       "</style>\n",
       "<table border=\"1\" class=\"dataframe\">\n",
       "  <thead>\n",
       "    <tr style=\"text-align: right;\">\n",
       "      <th></th>\n",
       "      <th>id</th>\n",
       "      <th>title</th>\n",
       "      <th>question</th>\n",
       "      <th>answer_text</th>\n",
       "      <th>context</th>\n",
       "      <th>answer_start</th>\n",
       "    </tr>\n",
       "  </thead>\n",
       "  <tbody>\n",
       "    <tr>\n",
       "      <th>103649</th>\n",
       "      <td>5acd7b6807355d001abf4420</td>\n",
       "      <td>Railway_electrification_system</td>\n",
       "      <td>Many newer sections in tunnels are energised to what voltage?</td>\n",
       "      <td></td>\n",
       "      <td>The London Underground in England is one of the few networks that uses a four-rail system. The additional rail carries the electrical return that, on third rail and overhead networks, is provided by the running rails. On the London Underground, a top-contact third rail is beside the track, energized at +420v DC, and a top-contact fourth rail is located centrally between the running rails at −210v DC, which combine to provide a traction voltage of 630v DC. London Underground is now upgrading its fourth rail system to 750v DC with a positive conductor rail energised to +500v DC and a negative conductor rail energised to -250v DC. However, many older sections in tunnels are still energised to 630v DC. The same system was used for Milan's earliest underground line, Milan Metro's line 1, whose more recent lines use an overhead catenary or a third rail.</td>\n",
       "      <td>-1</td>\n",
       "    </tr>\n",
       "    <tr>\n",
       "      <th>122352</th>\n",
       "      <td>5ad141f4645df0001a2d140c</td>\n",
       "      <td>Separation_of_church_and_state_in_the_United_States</td>\n",
       "      <td>What does the second amendment to the US Constitution state?</td>\n",
       "      <td></td>\n",
       "      <td>The first amendment to the US Constitution states \"Congress shall make no law respecting an establishment of religion, or prohibiting the free exercise thereof\" The two parts, known as the \"establishment clause\" and the \"free exercise clause\" respectively, form the textual basis for the Supreme Court's interpretations of the \"separation of church and state\" doctrine. Three central concepts were derived from the 1st Amendment which became America's doctrine for church-state separation: no coercion in religious matters, no expectation to support a religion against one's will, and religious liberty encompasses all religions. In sum, citizens are free to embrace or reject a faith, any support for religion - financial or physical - must be voluntary, and all religions are equal in the eyes of the law with no special preference or favoritism.</td>\n",
       "      <td>-1</td>\n",
       "    </tr>\n",
       "    <tr>\n",
       "      <th>33848</th>\n",
       "      <td>5a486fb084b8a4001a7e786d</td>\n",
       "      <td>Imperial_College_London</td>\n",
       "      <td>How many nonoperational and development properties were in the portfolio?</td>\n",
       "      <td></td>\n",
       "      <td>The College's endowment is sub-divided into three distinct portfolios: (i) Unitised Scheme – a unit trust vehicle for College, Faculties and Departments to invest endowments and unfettered income to produce returns for the long term; (ii) Non-Core Property – a portfolio containing around 120 operational and developmental properties which College has determined are not core to the academic mission; and (iii) Strategic Asset Investments – containing College's shareholding in Imperial Innovations and other restricted equity holdings. During the year 2014/15, the market value of the endowment increased by £78 million (18%) to £512.4 million on 31 July 2015.</td>\n",
       "      <td>-1</td>\n",
       "    </tr>\n",
       "    <tr>\n",
       "      <th>83015</th>\n",
       "      <td>5acd69f607355d001abf411f</td>\n",
       "      <td>Strasbourg</td>\n",
       "      <td>In what year did the construction begin of the Immeuble Louise Weiss?</td>\n",
       "      <td></td>\n",
       "      <td>In 1949, the city was chosen to be the seat of the Council of Europe with its European Court of Human Rights and European Pharmacopoeia. Since 1952, the European Parliament has met in Strasbourg, which was formally designated its official 'seat' at the Edinburgh meeting of the European Council of EU heads of state and government in December 1992. (This position was reconfirmed and given treaty status in the 1997 Treaty of Amsterdam). However, only the (four-day) plenary sessions of the Parliament are held in Strasbourg each month, with all other business being conducted in Brussels and Luxembourg. Those sessions take place in the Immeuble Louise Weiss, inaugurated in 1999, which houses the largest parliamentary assembly room in Europe and of any democratic institution in the world. Before that, the EP sessions had to take place in the main Council of Europe building, the Palace of Europe, whose unusual inner architecture had become a familiar sight to European TV audiences. In 1992, Strasbourg became the seat of the Franco-German TV channel and movie-production society Arte.</td>\n",
       "      <td>-1</td>\n",
       "    </tr>\n",
       "    <tr>\n",
       "      <th>92242</th>\n",
       "      <td>5a6a60c0a9e0c9001a4e9dc1</td>\n",
       "      <td>Liberal_Party_of_Australia</td>\n",
       "      <td>Which areas were involved with the NATO Treaty?</td>\n",
       "      <td></td>\n",
       "      <td>In 1951, during the early stages of the Cold War, Menzies spoke of the possibility of a looming third world war. The Menzies Government entered Australia's first formal military alliance outside of the British Commonwealth with the signing of the ANZUS Treaty between Australia, New Zealand and the United States in San Francisco in 1951. External Affairs Minister Percy Spender had put forward the proposal to work along similar lines to the NATO Alliance. The Treaty declared that any attack on one of the three parties in the Pacific area would be viewed as a threat to each, and that the common danger would be met in accordance with each nation's constitutional processes. In 1954 the Menzies Government signed the South East Asia Collective Defence Treaty (SEATO) as a South East Asian counterpart to NATO. That same year, Soviet diplomat Vladimir Petrov and his wife defected from the Soviet embassy in Canberra, revealing evidence of Russian spying activities; Menzies called a Royal Commission to investigate.</td>\n",
       "      <td>-1</td>\n",
       "    </tr>\n",
       "  </tbody>\n",
       "</table>\n",
       "</div>"
      ],
      "text/plain": [
       "                              id  \\\n",
       "103649  5acd7b6807355d001abf4420   \n",
       "122352  5ad141f4645df0001a2d140c   \n",
       "33848   5a486fb084b8a4001a7e786d   \n",
       "83015   5acd69f607355d001abf411f   \n",
       "92242   5a6a60c0a9e0c9001a4e9dc1   \n",
       "\n",
       "                                                      title  \\\n",
       "103649                       Railway_electrification_system   \n",
       "122352  Separation_of_church_and_state_in_the_United_States   \n",
       "33848                               Imperial_College_London   \n",
       "83015                                            Strasbourg   \n",
       "92242                            Liberal_Party_of_Australia   \n",
       "\n",
       "                                                                         question  \\\n",
       "103649              Many newer sections in tunnels are energised to what voltage?   \n",
       "122352               What does the second amendment to the US Constitution state?   \n",
       "33848   How many nonoperational and development properties were in the portfolio?   \n",
       "83015       In what year did the construction begin of the Immeuble Louise Weiss?   \n",
       "92242                             Which areas were involved with the NATO Treaty?   \n",
       "\n",
       "       answer_text  \\\n",
       "103649               \n",
       "122352               \n",
       "33848                \n",
       "83015                \n",
       "92242                \n",
       "\n",
       "                                                                                                                                                                                                                                                                                                                                                                                                                                                                                                                                                                                                                                                                                                                                                                                                                                                                                                                                                                                                                                                                                                                                    context  \\\n",
       "103649                                                                                                                                                                                                                                          The London Underground in England is one of the few networks that uses a four-rail system. The additional rail carries the electrical return that, on third rail and overhead networks, is provided by the running rails. On the London Underground, a top-contact third rail is beside the track, energized at +420v DC, and a top-contact fourth rail is located centrally between the running rails at −210v DC, which combine to provide a traction voltage of 630v DC. London Underground is now upgrading its fourth rail system to 750v DC with a positive conductor rail energised to +500v DC and a negative conductor rail energised to -250v DC. However, many older sections in tunnels are still energised to 630v DC. The same system was used for Milan's earliest underground line, Milan Metro's line 1, whose more recent lines use an overhead catenary or a third rail.   \n",
       "122352                                                                                                                                                                                                                                                     The first amendment to the US Constitution states \"Congress shall make no law respecting an establishment of religion, or prohibiting the free exercise thereof\" The two parts, known as the \"establishment clause\" and the \"free exercise clause\" respectively, form the textual basis for the Supreme Court's interpretations of the \"separation of church and state\" doctrine. Three central concepts were derived from the 1st Amendment which became America's doctrine for church-state separation: no coercion in religious matters, no expectation to support a religion against one's will, and religious liberty encompasses all religions. In sum, citizens are free to embrace or reject a faith, any support for religion - financial or physical - must be voluntary, and all religions are equal in the eyes of the law with no special preference or favoritism.   \n",
       "33848                                                                                                                                                                                                                                                                                                                                                                                                                                                 The College's endowment is sub-divided into three distinct portfolios: (i) Unitised Scheme – a unit trust vehicle for College, Faculties and Departments to invest endowments and unfettered income to produce returns for the long term; (ii) Non-Core Property – a portfolio containing around 120 operational and developmental properties which College has determined are not core to the academic mission; and (iii) Strategic Asset Investments – containing College's shareholding in Imperial Innovations and other restricted equity holdings. During the year 2014/15, the market value of the endowment increased by £78 million (18%) to £512.4 million on 31 July 2015.   \n",
       "83015   In 1949, the city was chosen to be the seat of the Council of Europe with its European Court of Human Rights and European Pharmacopoeia. Since 1952, the European Parliament has met in Strasbourg, which was formally designated its official 'seat' at the Edinburgh meeting of the European Council of EU heads of state and government in December 1992. (This position was reconfirmed and given treaty status in the 1997 Treaty of Amsterdam). However, only the (four-day) plenary sessions of the Parliament are held in Strasbourg each month, with all other business being conducted in Brussels and Luxembourg. Those sessions take place in the Immeuble Louise Weiss, inaugurated in 1999, which houses the largest parliamentary assembly room in Europe and of any democratic institution in the world. Before that, the EP sessions had to take place in the main Council of Europe building, the Palace of Europe, whose unusual inner architecture had become a familiar sight to European TV audiences. In 1992, Strasbourg became the seat of the Franco-German TV channel and movie-production society Arte.   \n",
       "92242                                                                            In 1951, during the early stages of the Cold War, Menzies spoke of the possibility of a looming third world war. The Menzies Government entered Australia's first formal military alliance outside of the British Commonwealth with the signing of the ANZUS Treaty between Australia, New Zealand and the United States in San Francisco in 1951. External Affairs Minister Percy Spender had put forward the proposal to work along similar lines to the NATO Alliance. The Treaty declared that any attack on one of the three parties in the Pacific area would be viewed as a threat to each, and that the common danger would be met in accordance with each nation's constitutional processes. In 1954 the Menzies Government signed the South East Asia Collective Defence Treaty (SEATO) as a South East Asian counterpart to NATO. That same year, Soviet diplomat Vladimir Petrov and his wife defected from the Soviet embassy in Canberra, revealing evidence of Russian spying activities; Menzies called a Royal Commission to investigate.   \n",
       "\n",
       "        answer_start  \n",
       "103649            -1  \n",
       "122352            -1  \n",
       "33848             -1  \n",
       "83015             -1  \n",
       "92242             -1  "
      ]
     },
     "execution_count": 258,
     "metadata": {},
     "output_type": "execute_result"
    }
   ],
   "source": [
    "df[df[\"answer_start\"] == -1].sample(5).head(5)"
   ]
  },
  {
   "cell_type": "markdown",
   "id": "e0727e1e",
   "metadata": {},
   "source": [
    "# Answer corrections"
   ]
  },
  {
   "cell_type": "code",
   "execution_count": 259,
   "id": "b09ca081",
   "metadata": {},
   "outputs": [
    {
     "name": "stdout",
     "output_type": "stream",
     "text": [
      "Wall time: 545 ms\n"
     ]
    }
   ],
   "source": [
    "%%time\n",
    "df.loc[df[\"id\"]==\"56bf7e603aeaaa14008c9681\", \"answer_text\"] = \"split with Luckett and Roberson\"\n",
    "df.loc[df[\"id\"]==\"56be973d3aeaaa14008c9123\", \"answer_text\"] = \"sixth\"\n",
    "df.loc[df[\"id\"]==\"56d3ac8e2ccc5a1400d82e1b\", \"answer_text\"] = \"operatic\"\n",
    "df.loc[df[\"id\"]==\"56cbdea66d243a140015edae\", \"answer_text\"] = \"seven\"\n",
    "df.loc[df[\"id\"]==\"56cbdea66d243a140015edae\", \"answer_start\"] = 332\n",
    "df.loc[df[\"id\"]==\"56cf609aaab44d1400b89187\", \"answer_text\"] = \"seven\"\n",
    "df.loc[df[\"id\"]==\"56cf609aaab44d1400b89187\", \"answer_start\"] = 332\n",
    "df.loc[df[\"id\"]==\"56d20a6ae7d4791d0090261a\", \"answer_text\"] = \"seven\"\n",
    "df.loc[df[\"id\"]==\"56d20a6ae7d4791d0090261a\", \"answer_start\"] = 332\n",
    "df.loc[df[\"id\"]==\"56ccde7862d2951400fa64d9\", \"answer_start\"] = 790\n",
    "df.loc[df[\"id\"]==\"56cd682162d2951400fa658e\", \"answer_start\"] = 463\n",
    "df.loc[df[\"id\"]==\"56ce726faab44d1400b88793\", \"answer_text\"] = \"three\"\n",
    "df.loc[df[\"id\"]==\"56ce726faab44d1400b88793\", \"answer_start\"] = 302\n",
    "df.loc[df[\"id\"]==\"56cc57466d243a140015ef24\", \"question\"] = \"in which year did the sales of iPhone exceed iPod?\"\n",
    "df.loc[df[\"id\"]==\"56cc57466d243a140015ef24\", \"answer_text\"] = \"2010\"\n",
    "df.loc[df[\"id\"]==\"56cc57466d243a140015ef24\", \"answer_start\"] = 444\n",
    "df.loc[df[\"id\"]==\"56ce750daab44d1400b887b4\", \"answer_start\"] = 396\n",
    "df.loc[df[\"id\"]==\"56cd5d3a62d2951400fa653e\", \"answer_text\"] = \"manually\"\n",
    "df.loc[df[\"id\"]==\"56cd8ffa62d2951400fa6723\", \"question\"] = \"what is Akiko Kōmoto's nationality?\"\n",
    "df.loc[df[\"id\"]==\"56cd8ffa62d2951400fa6723\", \"answer_text\"] = \"Japanese\"\n",
    "df.loc[df[\"id\"]==\"56cf2e15aab44d1400b88dc9\", \"answer_text\"] = \"twenty-fourth\"\n",
    "df.loc[df[\"id\"]==\"56cf2e15aab44d1400b88dcb\", \"answer_text\"] = \"fourth\"\n",
    "df.loc[df[\"id\"]==\"56cf2e15aab44d1400b88dcb\", \"answer_start\"] = 113\n"
   ]
  },
  {
   "cell_type": "code",
   "execution_count": 260,
   "id": "a91da7c3",
   "metadata": {},
   "outputs": [
    {
     "name": "stdout",
     "output_type": "stream",
     "text": [
      "Wall time: 122 ms\n"
     ]
    }
   ],
   "source": [
    "%%time\n",
    "col = \"qc_length\"\n",
    "df[col] = df[\"question\"].str.len() + df[\"context\"].str.len() \n",
    "df[col] = df[col].astype(np.int32)"
   ]
  },
  {
   "cell_type": "code",
   "execution_count": 261,
   "id": "b99a48f2",
   "metadata": {},
   "outputs": [
    {
     "name": "stdout",
     "output_type": "stream",
     "text": [
      "Wall time: 78 ms\n"
     ]
    }
   ],
   "source": [
    "%%time\n",
    "col = \"a_length\"\n",
    "df[col] = df[\"answer_text\"].str.len()\n",
    "df[col] = df[col].astype(np.int32)"
   ]
  },
  {
   "cell_type": "code",
   "execution_count": 262,
   "id": "4e871ebe",
   "metadata": {},
   "outputs": [],
   "source": [
    "def word_length(cols: Iterable) -> Callable:\n",
    "    def f(row) -> int:\n",
    "        res = 0\n",
    "        for col in cols:\n",
    "            res += len(row[col].split())\n",
    "        return res\n",
    "    \n",
    "    return f"
   ]
  },
  {
   "cell_type": "code",
   "execution_count": 263,
   "id": "48da287d",
   "metadata": {},
   "outputs": [
    {
     "name": "stderr",
     "output_type": "stream",
     "text": [
      "100%|████████████████████████| 130319/130319 [00:02<00:00, 48088.64it/s]"
     ]
    },
    {
     "name": "stdout",
     "output_type": "stream",
     "text": [
      "Wall time: 2.72 s\n"
     ]
    },
    {
     "name": "stderr",
     "output_type": "stream",
     "text": [
      "\n"
     ]
    }
   ],
   "source": [
    "%%time\n",
    "col = \"qc_word_length\"\n",
    "df[col] = df.progress_apply(word_length([\"question\", \"context\"]), axis=1)\n",
    "df[col] = df[col].astype(np.int32)"
   ]
  },
  {
   "cell_type": "code",
   "execution_count": 264,
   "id": "568f9ac7",
   "metadata": {},
   "outputs": [
    {
     "name": "stderr",
     "output_type": "stream",
     "text": [
      "100%|███████████████████████| 130319/130319 [00:01<00:00, 102271.86it/s]"
     ]
    },
    {
     "name": "stdout",
     "output_type": "stream",
     "text": [
      "Wall time: 1.28 s\n"
     ]
    },
    {
     "name": "stderr",
     "output_type": "stream",
     "text": [
      "\n"
     ]
    }
   ],
   "source": [
    "%%time\n",
    "col = \"a_word_length\"\n",
    "df[col] = df.progress_apply(word_length([\"answer_text\"]), axis=1)\n",
    "df[col] = df[col].astype(np.int32)"
   ]
  },
  {
   "cell_type": "code",
   "execution_count": 265,
   "id": "ec848e89",
   "metadata": {},
   "outputs": [
    {
     "name": "stdout",
     "output_type": "stream",
     "text": [
      "PreTrainedTokenizerFast(name_or_path='../pretrained/google/electra-small-discriminator', vocab_size=30522, model_max_len=512, is_fast=True, padding_side='right', special_tokens={'unk_token': '[UNK]', 'sep_token': '[SEP]', 'pad_token': '[PAD]', 'cls_token': '[CLS]', 'mask_token': '[MASK]'})\n",
      "['input_ids', 'token_type_ids', 'attention_mask']\n"
     ]
    }
   ],
   "source": [
    "pretrained_dir = \"../pretrained/google/electra-small-discriminator\"\n",
    "tokenizer = AutoTokenizer.from_pretrained(pretrained_dir, model_max_length=512)\n",
    "print(f\"{repr(tokenizer)}\\n{tokenizer.model_input_names}\")"
   ]
  },
  {
   "cell_type": "code",
   "execution_count": 266,
   "id": "a0aacf7f",
   "metadata": {},
   "outputs": [
    {
     "name": "stdout",
     "output_type": "stream",
     "text": [
      "PreTrainedTokenizerFast(name_or_path='../pretrained/albert-base-v2', vocab_size=30000, model_max_len=512, is_fast=True, padding_side='right', special_tokens={'bos_token': '[CLS]', 'eos_token': '[SEP]', 'unk_token': '<unk>', 'sep_token': '[SEP]', 'pad_token': '<pad>', 'cls_token': '[CLS]', 'mask_token': AddedToken(\"[MASK]\", rstrip=False, lstrip=True, single_word=False, normalized=False)})\n",
      "['input_ids', 'token_type_ids', 'attention_mask']\n"
     ]
    }
   ],
   "source": [
    "pretrained_dir = \"../pretrained/albert-base-v2\"\n",
    "sp_tokenizer = AutoTokenizer.from_pretrained(pretrained_dir, model_max_length=512)\n",
    "print(f\"{repr(sp_tokenizer)}\\n{sp_tokenizer.model_input_names}\")"
   ]
  },
  {
   "cell_type": "code",
   "execution_count": 267,
   "id": "20894cd4",
   "metadata": {},
   "outputs": [
    {
     "name": "stdout",
     "output_type": "stream",
     "text": [
      "PreTrainedTokenizerFast(name_or_path='../pretrained/distilroberta-base', vocab_size=50265, model_max_len=512, is_fast=True, padding_side='right', special_tokens={'bos_token': '<s>', 'eos_token': '</s>', 'unk_token': '<unk>', 'sep_token': '</s>', 'pad_token': '<pad>', 'cls_token': '<s>', 'mask_token': AddedToken(\"<mask>\", rstrip=False, lstrip=True, single_word=False, normalized=False)})\n",
      "['input_ids', 'attention_mask']\n"
     ]
    }
   ],
   "source": [
    "pretrained_dir = \"../pretrained/distilroberta-base\"\n",
    "bpe_tokenizer = AutoTokenizer.from_pretrained(pretrained_dir, model_max_length=512)\n",
    "print(f\"{repr(bpe_tokenizer)}\\n{bpe_tokenizer.model_input_names}\")"
   ]
  },
  {
   "cell_type": "code",
   "execution_count": 268,
   "id": "424ccbc8",
   "metadata": {},
   "outputs": [
    {
     "name": "stdout",
     "output_type": "stream",
     "text": [
      "dict_keys(['input_ids', 'token_type_ids', 'attention_mask'])\n",
      "len=130319\n",
      "Wall time: 3min 11s\n"
     ]
    }
   ],
   "source": [
    "%%time\n",
    "x = tokenizer(questions, contexts)\n",
    "print(f\"{repr(x.keys())}\\nlen={len(x['input_ids'])}\")\n",
    "col = \"qc_wp_length\"\n",
    "df[col] = [len(v) for v in x[\"input_ids\"]]\n",
    "df[col] = df[col].astype(np.int16)"
   ]
  },
  {
   "cell_type": "code",
   "execution_count": 269,
   "id": "a29d0a5e",
   "metadata": {},
   "outputs": [
    {
     "name": "stdout",
     "output_type": "stream",
     "text": [
      "dict_keys(['input_ids', 'token_type_ids', 'attention_mask'])\n",
      "len=130319\n",
      "Wall time: 4min 2s\n"
     ]
    }
   ],
   "source": [
    "%%time\n",
    "x = sp_tokenizer(questions, contexts)\n",
    "print(f\"{repr(x.keys())}\\nlen={len(x['input_ids'])}\")\n",
    "col = \"qc_sp_length\"\n",
    "df[col] = [len(v) for v in x[\"input_ids\"]]\n",
    "df[col] = df[col].astype(np.int16)"
   ]
  },
  {
   "cell_type": "code",
   "execution_count": 270,
   "id": "180ca6c9",
   "metadata": {},
   "outputs": [
    {
     "name": "stdout",
     "output_type": "stream",
     "text": [
      "dict_keys(['input_ids', 'attention_mask'])\n",
      "len=130319\n",
      "Wall time: 2min 48s\n"
     ]
    }
   ],
   "source": [
    "%%time\n",
    "x = bpe_tokenizer(questions, contexts)\n",
    "print(f\"{repr(x.keys())}\\nlen={len(x['input_ids'])}\")\n",
    "col = \"qc_bpe_length\"\n",
    "df[col] = [len(v) for v in x[\"input_ids\"]]\n",
    "df[col] = df[col].astype(np.int16)"
   ]
  },
  {
   "cell_type": "code",
   "execution_count": 271,
   "id": "a3abb85f",
   "metadata": {},
   "outputs": [
    {
     "data": {
      "text/html": [
       "<div>\n",
       "<style scoped>\n",
       "    .dataframe tbody tr th:only-of-type {\n",
       "        vertical-align: middle;\n",
       "    }\n",
       "\n",
       "    .dataframe tbody tr th {\n",
       "        vertical-align: top;\n",
       "    }\n",
       "\n",
       "    .dataframe thead th {\n",
       "        text-align: right;\n",
       "    }\n",
       "</style>\n",
       "<table border=\"1\" class=\"dataframe\">\n",
       "  <thead>\n",
       "    <tr style=\"text-align: right;\">\n",
       "      <th></th>\n",
       "      <th>qc_length</th>\n",
       "      <th>a_length</th>\n",
       "      <th>qc_word_length</th>\n",
       "      <th>a_word_length</th>\n",
       "      <th>qc_wp_length</th>\n",
       "      <th>qc_sp_length</th>\n",
       "      <th>qc_bpe_length</th>\n",
       "    </tr>\n",
       "  </thead>\n",
       "  <tbody>\n",
       "    <tr>\n",
       "      <th>count</th>\n",
       "      <td>130319.000000</td>\n",
       "      <td>130319.000000</td>\n",
       "      <td>130319.000000</td>\n",
       "      <td>130319.000000</td>\n",
       "      <td>130319.000000</td>\n",
       "      <td>130319.000000</td>\n",
       "      <td>130319.000000</td>\n",
       "    </tr>\n",
       "    <tr>\n",
       "      <th>mean</th>\n",
       "      <td>812.810450</td>\n",
       "      <td>13.423983</td>\n",
       "      <td>129.508061</td>\n",
       "      <td>2.107099</td>\n",
       "      <td>170.726632</td>\n",
       "      <td>174.188384</td>\n",
       "      <td>172.696813</td>\n",
       "    </tr>\n",
       "    <tr>\n",
       "      <th>std</th>\n",
       "      <td>308.710726</td>\n",
       "      <td>20.016896</td>\n",
       "      <td>49.604341</td>\n",
       "      <td>3.144031</td>\n",
       "      <td>65.407215</td>\n",
       "      <td>67.240044</td>\n",
       "      <td>65.938716</td>\n",
       "    </tr>\n",
       "    <tr>\n",
       "      <th>min</th>\n",
       "      <td>178.000000</td>\n",
       "      <td>0.000000</td>\n",
       "      <td>25.000000</td>\n",
       "      <td>0.000000</td>\n",
       "      <td>35.000000</td>\n",
       "      <td>35.000000</td>\n",
       "      <td>36.000000</td>\n",
       "    </tr>\n",
       "    <tr>\n",
       "      <th>1%</th>\n",
       "      <td>254.000000</td>\n",
       "      <td>0.000000</td>\n",
       "      <td>40.180000</td>\n",
       "      <td>0.000000</td>\n",
       "      <td>55.000000</td>\n",
       "      <td>56.000000</td>\n",
       "      <td>57.000000</td>\n",
       "    </tr>\n",
       "    <tr>\n",
       "      <th>5%</th>\n",
       "      <td>390.000000</td>\n",
       "      <td>0.000000</td>\n",
       "      <td>62.000000</td>\n",
       "      <td>0.000000</td>\n",
       "      <td>84.000000</td>\n",
       "      <td>86.000000</td>\n",
       "      <td>86.000000</td>\n",
       "    </tr>\n",
       "    <tr>\n",
       "      <th>10%</th>\n",
       "      <td>531.000000</td>\n",
       "      <td>0.000000</td>\n",
       "      <td>82.000000</td>\n",
       "      <td>0.000000</td>\n",
       "      <td>108.000000</td>\n",
       "      <td>109.000000</td>\n",
       "      <td>109.000000</td>\n",
       "    </tr>\n",
       "    <tr>\n",
       "      <th>20%</th>\n",
       "      <td>596.000000</td>\n",
       "      <td>0.000000</td>\n",
       "      <td>95.000000</td>\n",
       "      <td>0.000000</td>\n",
       "      <td>124.000000</td>\n",
       "      <td>126.000000</td>\n",
       "      <td>125.000000</td>\n",
       "    </tr>\n",
       "    <tr>\n",
       "      <th>30%</th>\n",
       "      <td>642.000000</td>\n",
       "      <td>0.000000</td>\n",
       "      <td>102.000000</td>\n",
       "      <td>0.000000</td>\n",
       "      <td>135.000000</td>\n",
       "      <td>137.000000</td>\n",
       "      <td>136.000000</td>\n",
       "    </tr>\n",
       "    <tr>\n",
       "      <th>40%</th>\n",
       "      <td>693.000000</td>\n",
       "      <td>4.000000</td>\n",
       "      <td>111.000000</td>\n",
       "      <td>1.000000</td>\n",
       "      <td>146.000000</td>\n",
       "      <td>149.000000</td>\n",
       "      <td>148.000000</td>\n",
       "    </tr>\n",
       "    <tr>\n",
       "      <th>50%</th>\n",
       "      <td>750.000000</td>\n",
       "      <td>7.000000</td>\n",
       "      <td>120.000000</td>\n",
       "      <td>1.000000</td>\n",
       "      <td>158.000000</td>\n",
       "      <td>161.000000</td>\n",
       "      <td>160.000000</td>\n",
       "    </tr>\n",
       "    <tr>\n",
       "      <th>60%</th>\n",
       "      <td>816.000000</td>\n",
       "      <td>11.000000</td>\n",
       "      <td>130.000000</td>\n",
       "      <td>2.000000</td>\n",
       "      <td>172.000000</td>\n",
       "      <td>175.000000</td>\n",
       "      <td>174.000000</td>\n",
       "    </tr>\n",
       "    <tr>\n",
       "      <th>70%</th>\n",
       "      <td>900.000000</td>\n",
       "      <td>15.000000</td>\n",
       "      <td>143.000000</td>\n",
       "      <td>2.000000</td>\n",
       "      <td>189.000000</td>\n",
       "      <td>193.000000</td>\n",
       "      <td>191.000000</td>\n",
       "    </tr>\n",
       "    <tr>\n",
       "      <th>80%</th>\n",
       "      <td>1015.000000</td>\n",
       "      <td>20.000000</td>\n",
       "      <td>161.000000</td>\n",
       "      <td>3.000000</td>\n",
       "      <td>213.000000</td>\n",
       "      <td>218.000000</td>\n",
       "      <td>215.000000</td>\n",
       "    </tr>\n",
       "    <tr>\n",
       "      <th>90%</th>\n",
       "      <td>1204.000000</td>\n",
       "      <td>33.000000</td>\n",
       "      <td>192.000000</td>\n",
       "      <td>5.000000</td>\n",
       "      <td>253.000000</td>\n",
       "      <td>259.000000</td>\n",
       "      <td>256.000000</td>\n",
       "    </tr>\n",
       "    <tr>\n",
       "      <th>95%</th>\n",
       "      <td>1385.000000</td>\n",
       "      <td>50.000000</td>\n",
       "      <td>222.000000</td>\n",
       "      <td>8.000000</td>\n",
       "      <td>292.000000</td>\n",
       "      <td>298.000000</td>\n",
       "      <td>294.000000</td>\n",
       "    </tr>\n",
       "    <tr>\n",
       "      <th>99%</th>\n",
       "      <td>1831.000000</td>\n",
       "      <td>105.000000</td>\n",
       "      <td>295.000000</td>\n",
       "      <td>17.000000</td>\n",
       "      <td>389.000000</td>\n",
       "      <td>397.000000</td>\n",
       "      <td>389.820000</td>\n",
       "    </tr>\n",
       "    <tr>\n",
       "      <th>max</th>\n",
       "      <td>3772.000000</td>\n",
       "      <td>239.000000</td>\n",
       "      <td>666.000000</td>\n",
       "      <td>43.000000</td>\n",
       "      <td>870.000000</td>\n",
       "      <td>978.000000</td>\n",
       "      <td>896.000000</td>\n",
       "    </tr>\n",
       "  </tbody>\n",
       "</table>\n",
       "</div>"
      ],
      "text/plain": [
       "           qc_length       a_length  qc_word_length  a_word_length  \\\n",
       "count  130319.000000  130319.000000   130319.000000  130319.000000   \n",
       "mean      812.810450      13.423983      129.508061       2.107099   \n",
       "std       308.710726      20.016896       49.604341       3.144031   \n",
       "min       178.000000       0.000000       25.000000       0.000000   \n",
       "1%        254.000000       0.000000       40.180000       0.000000   \n",
       "5%        390.000000       0.000000       62.000000       0.000000   \n",
       "10%       531.000000       0.000000       82.000000       0.000000   \n",
       "20%       596.000000       0.000000       95.000000       0.000000   \n",
       "30%       642.000000       0.000000      102.000000       0.000000   \n",
       "40%       693.000000       4.000000      111.000000       1.000000   \n",
       "50%       750.000000       7.000000      120.000000       1.000000   \n",
       "60%       816.000000      11.000000      130.000000       2.000000   \n",
       "70%       900.000000      15.000000      143.000000       2.000000   \n",
       "80%      1015.000000      20.000000      161.000000       3.000000   \n",
       "90%      1204.000000      33.000000      192.000000       5.000000   \n",
       "95%      1385.000000      50.000000      222.000000       8.000000   \n",
       "99%      1831.000000     105.000000      295.000000      17.000000   \n",
       "max      3772.000000     239.000000      666.000000      43.000000   \n",
       "\n",
       "        qc_wp_length   qc_sp_length  qc_bpe_length  \n",
       "count  130319.000000  130319.000000  130319.000000  \n",
       "mean      170.726632     174.188384     172.696813  \n",
       "std        65.407215      67.240044      65.938716  \n",
       "min        35.000000      35.000000      36.000000  \n",
       "1%         55.000000      56.000000      57.000000  \n",
       "5%         84.000000      86.000000      86.000000  \n",
       "10%       108.000000     109.000000     109.000000  \n",
       "20%       124.000000     126.000000     125.000000  \n",
       "30%       135.000000     137.000000     136.000000  \n",
       "40%       146.000000     149.000000     148.000000  \n",
       "50%       158.000000     161.000000     160.000000  \n",
       "60%       172.000000     175.000000     174.000000  \n",
       "70%       189.000000     193.000000     191.000000  \n",
       "80%       213.000000     218.000000     215.000000  \n",
       "90%       253.000000     259.000000     256.000000  \n",
       "95%       292.000000     298.000000     294.000000  \n",
       "99%       389.000000     397.000000     389.820000  \n",
       "max       870.000000     978.000000     896.000000  "
      ]
     },
     "execution_count": 271,
     "metadata": {},
     "output_type": "execute_result"
    }
   ],
   "source": [
    "cols = [\"qc_length\", \"a_length\", \"qc_word_length\", \"a_word_length\", \n",
    "        \"qc_wp_length\", \"qc_sp_length\", \"qc_bpe_length\"]\n",
    "df[cols].describe(percentiles=percentiles)"
   ]
  },
  {
   "cell_type": "code",
   "execution_count": 272,
   "id": "30275467",
   "metadata": {},
   "outputs": [
    {
     "name": "stdout",
     "output_type": "stream",
     "text": [
      "<class 'pandas.core.frame.DataFrame'>\n",
      "RangeIndex: 130319 entries, 0 to 130318\n",
      "Data columns (total 13 columns):\n",
      " #   Column          Non-Null Count   Dtype \n",
      "---  ------          --------------   ----- \n",
      " 0   id              130319 non-null  object\n",
      " 1   title           130319 non-null  object\n",
      " 2   question        130319 non-null  object\n",
      " 3   answer_text     130319 non-null  object\n",
      " 4   context         130319 non-null  object\n",
      " 5   answer_start    130319 non-null  int16 \n",
      " 6   qc_length       130319 non-null  int32 \n",
      " 7   a_length        130319 non-null  int32 \n",
      " 8   qc_word_length  130319 non-null  int32 \n",
      " 9   a_word_length   130319 non-null  int32 \n",
      " 10  qc_wp_length    130319 non-null  int16 \n",
      " 11  qc_sp_length    130319 non-null  int16 \n",
      " 12  qc_bpe_length   130319 non-null  int16 \n",
      "dtypes: int16(4), int32(4), object(5)\n",
      "memory usage: 8.0+ MB\n"
     ]
    }
   ],
   "source": [
    "df.info()"
   ]
  },
  {
   "cell_type": "code",
   "execution_count": 273,
   "id": "724e5796",
   "metadata": {},
   "outputs": [
    {
     "name": "stdout",
     "output_type": "stream",
     "text": [
      "Wall time: 568 ms\n"
     ]
    }
   ],
   "source": [
    "%%time\n",
    "df.to_parquet(\"output/train.parquet\", index=False)"
   ]
  }
 ],
 "metadata": {
  "kernelspec": {
   "display_name": "Python 3 (ipykernel)",
   "language": "python",
   "name": "python3"
  },
  "language_info": {
   "codemirror_mode": {
    "name": "ipython",
    "version": 3
   },
   "file_extension": ".py",
   "mimetype": "text/x-python",
   "name": "python",
   "nbconvert_exporter": "python",
   "pygments_lexer": "ipython3",
   "version": "3.7.5"
  }
 },
 "nbformat": 4,
 "nbformat_minor": 5
}
