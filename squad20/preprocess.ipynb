{
 "cells": [
  {
   "cell_type": "code",
   "execution_count": 1,
   "id": "6852263f",
   "metadata": {},
   "outputs": [],
   "source": [
    "import os\n",
    "import numpy as np\n",
    "import pandas as pd\n",
    "from transformers import AutoTokenizer\n",
    "from tqdm import tqdm\n",
    "from typing import Iterable, Callable\n",
    "os.environ[\"LOGGING_INI\"] = \"../logging.ini\"\n",
    "from questionanswering import squad"
   ]
  },
  {
   "cell_type": "code",
   "execution_count": 2,
   "id": "f23cb0b3",
   "metadata": {},
   "outputs": [],
   "source": [
    "percentiles=[.01, .05, .1, .2, .3, .4, .5, .6, .7, .8, .9, .95, .99]\n",
    "pd.set_option(\"use_inf_as_na\", True)\n",
    "pd.set_option(\"max_info_columns\", 9999)\n",
    "pd.set_option(\"display.max_columns\", 9999)\n",
    "pd.set_option(\"display.max_rows\", 9999)\n",
    "pd.set_option('max_colwidth', 9999)\n",
    "tqdm.pandas()\n",
    "os.environ[\"TOKENIZERS_PARALLELISM\"] = \"false\""
   ]
  },
  {
   "cell_type": "code",
   "execution_count": 3,
   "id": "ef6b53b4",
   "metadata": {},
   "outputs": [
    {
     "name": "stderr",
     "output_type": "stream",
     "text": [
      "100%|█████████████████████████████████| 442/442 [00:14<00:00, 29.86it/s]\n"
     ]
    },
    {
     "name": "stdout",
     "output_type": "stream",
     "text": [
      "<class 'pandas.core.frame.DataFrame'>\n",
      "RangeIndex: 130319 entries, 0 to 130318\n",
      "Data columns (total 6 columns):\n",
      " #   Column        Non-Null Count   Dtype \n",
      "---  ------        --------------   ----- \n",
      " 0   id            130319 non-null  object\n",
      " 1   title         130319 non-null  object\n",
      " 2   question      130319 non-null  object\n",
      " 3   answer_text   130319 non-null  object\n",
      " 4   answer_start  130319 non-null  int16 \n",
      " 5   context       130319 non-null  object\n",
      "dtypes: int16(1), object(5)\n",
      "memory usage: 5.2+ MB\n"
     ]
    }
   ],
   "source": [
    "df = squad.parse_json_file(\"input/train-v2.0.json\")\n",
    "questions = list(df[\"question\"])\n",
    "contexts = list(df[\"context\"])\n",
    "df.info()"
   ]
  },
  {
   "cell_type": "code",
   "execution_count": 4,
   "id": "8f9b2cb9",
   "metadata": {},
   "outputs": [
    {
     "data": {
      "text/html": [
       "<div>\n",
       "<style scoped>\n",
       "    .dataframe tbody tr th:only-of-type {\n",
       "        vertical-align: middle;\n",
       "    }\n",
       "\n",
       "    .dataframe tbody tr th {\n",
       "        vertical-align: top;\n",
       "    }\n",
       "\n",
       "    .dataframe thead th {\n",
       "        text-align: right;\n",
       "    }\n",
       "</style>\n",
       "<table border=\"1\" class=\"dataframe\">\n",
       "  <thead>\n",
       "    <tr style=\"text-align: right;\">\n",
       "      <th></th>\n",
       "      <th>id</th>\n",
       "      <th>title</th>\n",
       "      <th>question</th>\n",
       "      <th>answer_text</th>\n",
       "      <th>answer_start</th>\n",
       "      <th>context</th>\n",
       "    </tr>\n",
       "    <tr>\n",
       "      <th>id</th>\n",
       "      <th></th>\n",
       "      <th></th>\n",
       "      <th></th>\n",
       "      <th></th>\n",
       "      <th></th>\n",
       "      <th></th>\n",
       "    </tr>\n",
       "  </thead>\n",
       "  <tbody>\n",
       "    <tr>\n",
       "      <th>56be85543aeaaa14008c9063</th>\n",
       "      <td>56be85543aeaaa14008c9063</td>\n",
       "      <td>Beyoncé</td>\n",
       "      <td>when did beyonce start becoming popular?</td>\n",
       "      <td>in the late 1990s</td>\n",
       "      <td>280</td>\n",
       "      <td>beyoncé giselle knowles - carter / biːˈjɒnseɪ / bee - yon - say born september 4 , 1981 is an american singer , songwriter , record producer and actress . born and raised in houston , texas , she performed in various singing and dancing competitions as a child , and rose to fame in the late 1990s as lead singer of r&amp;b girl - group destiny's child . managed by her father , mathew knowles , the group became one of the world's best - selling girl groups of all time . their hiatus saw the release of beyoncé's debut album , dangerously in love 2003 , which established her as a solo artist worldwide , earned five grammy awards and featured the billboard hot 100 number - one singles crazy in love and baby boy .</td>\n",
       "    </tr>\n",
       "    <tr>\n",
       "      <th>56be85543aeaaa14008c9065</th>\n",
       "      <td>56be85543aeaaa14008c9065</td>\n",
       "      <td>Beyoncé</td>\n",
       "      <td>what areas did beyonce compete in when she was growing up?</td>\n",
       "      <td>singing and dancing</td>\n",
       "      <td>217</td>\n",
       "      <td>beyoncé giselle knowles - carter / biːˈjɒnseɪ / bee - yon - say born september 4 , 1981 is an american singer , songwriter , record producer and actress . born and raised in houston , texas , she performed in various singing and dancing competitions as a child , and rose to fame in the late 1990s as lead singer of r&amp;b girl - group destiny's child . managed by her father , mathew knowles , the group became one of the world's best - selling girl groups of all time . their hiatus saw the release of beyoncé's debut album , dangerously in love 2003 , which established her as a solo artist worldwide , earned five grammy awards and featured the billboard hot 100 number - one singles crazy in love and baby boy .</td>\n",
       "    </tr>\n",
       "    <tr>\n",
       "      <th>56be85543aeaaa14008c9066</th>\n",
       "      <td>56be85543aeaaa14008c9066</td>\n",
       "      <td>Beyoncé</td>\n",
       "      <td>when did beyonce leave destiny's child and become a solo singer?</td>\n",
       "      <td>2003</td>\n",
       "      <td>545</td>\n",
       "      <td>beyoncé giselle knowles - carter / biːˈjɒnseɪ / bee - yon - say born september 4 , 1981 is an american singer , songwriter , record producer and actress . born and raised in houston , texas , she performed in various singing and dancing competitions as a child , and rose to fame in the late 1990s as lead singer of r&amp;b girl - group destiny's child . managed by her father , mathew knowles , the group became one of the world's best - selling girl groups of all time . their hiatus saw the release of beyoncé's debut album , dangerously in love 2003 , which established her as a solo artist worldwide , earned five grammy awards and featured the billboard hot 100 number - one singles crazy in love and baby boy .</td>\n",
       "    </tr>\n",
       "    <tr>\n",
       "      <th>56bf6b0f3aeaaa14008c9601</th>\n",
       "      <td>56bf6b0f3aeaaa14008c9601</td>\n",
       "      <td>Beyoncé</td>\n",
       "      <td>in what city and state did beyonce grow up?</td>\n",
       "      <td>houston , texas</td>\n",
       "      <td>174</td>\n",
       "      <td>beyoncé giselle knowles - carter / biːˈjɒnseɪ / bee - yon - say born september 4 , 1981 is an american singer , songwriter , record producer and actress . born and raised in houston , texas , she performed in various singing and dancing competitions as a child , and rose to fame in the late 1990s as lead singer of r&amp;b girl - group destiny's child . managed by her father , mathew knowles , the group became one of the world's best - selling girl groups of all time . their hiatus saw the release of beyoncé's debut album , dangerously in love 2003 , which established her as a solo artist worldwide , earned five grammy awards and featured the billboard hot 100 number - one singles crazy in love and baby boy .</td>\n",
       "    </tr>\n",
       "    <tr>\n",
       "      <th>56bf6b0f3aeaaa14008c9602</th>\n",
       "      <td>56bf6b0f3aeaaa14008c9602</td>\n",
       "      <td>Beyoncé</td>\n",
       "      <td>in which decade did beyonce become famous?</td>\n",
       "      <td>late 1990s</td>\n",
       "      <td>287</td>\n",
       "      <td>beyoncé giselle knowles - carter / biːˈjɒnseɪ / bee - yon - say born september 4 , 1981 is an american singer , songwriter , record producer and actress . born and raised in houston , texas , she performed in various singing and dancing competitions as a child , and rose to fame in the late 1990s as lead singer of r&amp;b girl - group destiny's child . managed by her father , mathew knowles , the group became one of the world's best - selling girl groups of all time . their hiatus saw the release of beyoncé's debut album , dangerously in love 2003 , which established her as a solo artist worldwide , earned five grammy awards and featured the billboard hot 100 number - one singles crazy in love and baby boy .</td>\n",
       "    </tr>\n",
       "  </tbody>\n",
       "</table>\n",
       "</div>"
      ],
      "text/plain": [
       "                                                id    title  \\\n",
       "id                                                            \n",
       "56be85543aeaaa14008c9063  56be85543aeaaa14008c9063  Beyoncé   \n",
       "56be85543aeaaa14008c9065  56be85543aeaaa14008c9065  Beyoncé   \n",
       "56be85543aeaaa14008c9066  56be85543aeaaa14008c9066  Beyoncé   \n",
       "56bf6b0f3aeaaa14008c9601  56bf6b0f3aeaaa14008c9601  Beyoncé   \n",
       "56bf6b0f3aeaaa14008c9602  56bf6b0f3aeaaa14008c9602  Beyoncé   \n",
       "\n",
       "                                                                                  question  \\\n",
       "id                                                                                           \n",
       "56be85543aeaaa14008c9063                          when did beyonce start becoming popular?   \n",
       "56be85543aeaaa14008c9065        what areas did beyonce compete in when she was growing up?   \n",
       "56be85543aeaaa14008c9066  when did beyonce leave destiny's child and become a solo singer?   \n",
       "56bf6b0f3aeaaa14008c9601                       in what city and state did beyonce grow up?   \n",
       "56bf6b0f3aeaaa14008c9602                        in which decade did beyonce become famous?   \n",
       "\n",
       "                                  answer_text  answer_start  \\\n",
       "id                                                            \n",
       "56be85543aeaaa14008c9063    in the late 1990s           280   \n",
       "56be85543aeaaa14008c9065  singing and dancing           217   \n",
       "56be85543aeaaa14008c9066                 2003           545   \n",
       "56bf6b0f3aeaaa14008c9601      houston , texas           174   \n",
       "56bf6b0f3aeaaa14008c9602           late 1990s           287   \n",
       "\n",
       "                                                                                                                                                                                                                                                                                                                                                                                                                                                                                                                                                                                                                                                                                                                                                            context  \n",
       "id                                                                                                                                                                                                                                                                                                                                                                                                                                                                                                                                                                                                                                                                                                                                                                   \n",
       "56be85543aeaaa14008c9063  beyoncé giselle knowles - carter / biːˈjɒnseɪ / bee - yon - say born september 4 , 1981 is an american singer , songwriter , record producer and actress . born and raised in houston , texas , she performed in various singing and dancing competitions as a child , and rose to fame in the late 1990s as lead singer of r&b girl - group destiny's child . managed by her father , mathew knowles , the group became one of the world's best - selling girl groups of all time . their hiatus saw the release of beyoncé's debut album , dangerously in love 2003 , which established her as a solo artist worldwide , earned five grammy awards and featured the billboard hot 100 number - one singles crazy in love and baby boy .  \n",
       "56be85543aeaaa14008c9065  beyoncé giselle knowles - carter / biːˈjɒnseɪ / bee - yon - say born september 4 , 1981 is an american singer , songwriter , record producer and actress . born and raised in houston , texas , she performed in various singing and dancing competitions as a child , and rose to fame in the late 1990s as lead singer of r&b girl - group destiny's child . managed by her father , mathew knowles , the group became one of the world's best - selling girl groups of all time . their hiatus saw the release of beyoncé's debut album , dangerously in love 2003 , which established her as a solo artist worldwide , earned five grammy awards and featured the billboard hot 100 number - one singles crazy in love and baby boy .  \n",
       "56be85543aeaaa14008c9066  beyoncé giselle knowles - carter / biːˈjɒnseɪ / bee - yon - say born september 4 , 1981 is an american singer , songwriter , record producer and actress . born and raised in houston , texas , she performed in various singing and dancing competitions as a child , and rose to fame in the late 1990s as lead singer of r&b girl - group destiny's child . managed by her father , mathew knowles , the group became one of the world's best - selling girl groups of all time . their hiatus saw the release of beyoncé's debut album , dangerously in love 2003 , which established her as a solo artist worldwide , earned five grammy awards and featured the billboard hot 100 number - one singles crazy in love and baby boy .  \n",
       "56bf6b0f3aeaaa14008c9601  beyoncé giselle knowles - carter / biːˈjɒnseɪ / bee - yon - say born september 4 , 1981 is an american singer , songwriter , record producer and actress . born and raised in houston , texas , she performed in various singing and dancing competitions as a child , and rose to fame in the late 1990s as lead singer of r&b girl - group destiny's child . managed by her father , mathew knowles , the group became one of the world's best - selling girl groups of all time . their hiatus saw the release of beyoncé's debut album , dangerously in love 2003 , which established her as a solo artist worldwide , earned five grammy awards and featured the billboard hot 100 number - one singles crazy in love and baby boy .  \n",
       "56bf6b0f3aeaaa14008c9602  beyoncé giselle knowles - carter / biːˈjɒnseɪ / bee - yon - say born september 4 , 1981 is an american singer , songwriter , record producer and actress . born and raised in houston , texas , she performed in various singing and dancing competitions as a child , and rose to fame in the late 1990s as lead singer of r&b girl - group destiny's child . managed by her father , mathew knowles , the group became one of the world's best - selling girl groups of all time . their hiatus saw the release of beyoncé's debut album , dangerously in love 2003 , which established her as a solo artist worldwide , earned five grammy awards and featured the billboard hot 100 number - one singles crazy in love and baby boy .  "
      ]
     },
     "execution_count": 4,
     "metadata": {},
     "output_type": "execute_result"
    }
   ],
   "source": [
    "assert len(df) == 130319\n",
    "assert len(df) == len(set(df[\"id\"]))\n",
    "df.set_index(\"id\", drop=False, inplace=True)\n",
    "df.head()"
   ]
  },
  {
   "cell_type": "code",
   "execution_count": 5,
   "id": "7cdecccf",
   "metadata": {},
   "outputs": [
    {
     "data": {
      "text/plain": [
       "False    0.666219\n",
       "True     0.333781\n",
       "dtype: float64"
      ]
     },
     "execution_count": 5,
     "metadata": {},
     "output_type": "execute_result"
    }
   ],
   "source": [
    "s = pd.Series(np.where(df[\"answer_start\"]==-1, True, False))\n",
    "assert s.value_counts()[True] == 43498\n",
    "s.value_counts(normalize=True)"
   ]
  },
  {
   "cell_type": "markdown",
   "id": "e0727e1e",
   "metadata": {},
   "source": [
    "# Answer corrections"
   ]
  },
  {
   "cell_type": "code",
   "execution_count": 6,
   "id": "b09ca081",
   "metadata": {},
   "outputs": [],
   "source": [
    "#%%time\n"
   ]
  },
  {
   "cell_type": "code",
   "execution_count": 7,
   "id": "a91da7c3",
   "metadata": {},
   "outputs": [
    {
     "name": "stdout",
     "output_type": "stream",
     "text": [
      "Wall time: 74.8 ms\n"
     ]
    }
   ],
   "source": [
    "%%time\n",
    "col = \"qc_length\"\n",
    "df[col] = df[\"question\"].str.len() + df[\"context\"].str.len() \n",
    "df[col] = df[col].astype(np.int32)"
   ]
  },
  {
   "cell_type": "code",
   "execution_count": 8,
   "id": "b99a48f2",
   "metadata": {},
   "outputs": [
    {
     "name": "stdout",
     "output_type": "stream",
     "text": [
      "Wall time: 49 ms\n"
     ]
    }
   ],
   "source": [
    "%%time\n",
    "col = \"a_length\"\n",
    "df[col] = df[\"answer_text\"].str.len()\n",
    "df[col] = df[col].astype(np.int32)"
   ]
  },
  {
   "cell_type": "code",
   "execution_count": 9,
   "id": "4e871ebe",
   "metadata": {},
   "outputs": [],
   "source": [
    "def word_length(cols: Iterable) -> Callable:\n",
    "    def f(row) -> int:\n",
    "        res = 0\n",
    "        for col in cols:\n",
    "            res += len(row[col].split())\n",
    "        return res\n",
    "    \n",
    "    return f"
   ]
  },
  {
   "cell_type": "code",
   "execution_count": 10,
   "id": "48da287d",
   "metadata": {},
   "outputs": [
    {
     "name": "stderr",
     "output_type": "stream",
     "text": [
      "100%|████████████████████████| 130319/130319 [00:02<00:00, 49609.34it/s]"
     ]
    },
    {
     "name": "stdout",
     "output_type": "stream",
     "text": [
      "Wall time: 2.63 s\n"
     ]
    },
    {
     "name": "stderr",
     "output_type": "stream",
     "text": [
      "\n"
     ]
    }
   ],
   "source": [
    "%%time\n",
    "col = \"qc_word_length\"\n",
    "df[col] = df.progress_apply(word_length([\"question\", \"context\"]), axis=1)\n",
    "df[col] = df[col].astype(np.int32)"
   ]
  },
  {
   "cell_type": "code",
   "execution_count": 11,
   "id": "568f9ac7",
   "metadata": {},
   "outputs": [
    {
     "name": "stderr",
     "output_type": "stream",
     "text": [
      "100%|███████████████████████| 130319/130319 [00:01<00:00, 106912.95it/s]"
     ]
    },
    {
     "name": "stdout",
     "output_type": "stream",
     "text": [
      "Wall time: 1.22 s\n"
     ]
    },
    {
     "name": "stderr",
     "output_type": "stream",
     "text": [
      "\n"
     ]
    }
   ],
   "source": [
    "%%time\n",
    "col = \"a_word_length\"\n",
    "df[col] = df.progress_apply(word_length([\"answer_text\"]), axis=1)\n",
    "df[col] = df[col].astype(np.int32)"
   ]
  },
  {
   "cell_type": "code",
   "execution_count": 12,
   "id": "ec848e89",
   "metadata": {},
   "outputs": [],
   "source": [
    "#pretrained_dir = \"../pretrained/google/electra-small-discriminator\"\n",
    "#tokenizer = AutoTokenizer.from_pretrained(pretrained_dir, model_max_length=512)\n",
    "#print(f\"{repr(tokenizer)}\\n{tokenizer.model_input_names}\")"
   ]
  },
  {
   "cell_type": "code",
   "execution_count": 13,
   "id": "a0aacf7f",
   "metadata": {},
   "outputs": [],
   "source": [
    "#pretrained_dir = \"../pretrained/albert-base-v2\"\n",
    "#sp_tokenizer = AutoTokenizer.from_pretrained(pretrained_dir, model_max_length=512)\n",
    "#print(f\"{repr(sp_tokenizer)}\\n{sp_tokenizer.model_input_names}\")"
   ]
  },
  {
   "cell_type": "code",
   "execution_count": 14,
   "id": "20894cd4",
   "metadata": {},
   "outputs": [],
   "source": [
    "#pretrained_dir = \"../pretrained/distilroberta-base\"\n",
    "#bpe_tokenizer = AutoTokenizer.from_pretrained(pretrained_dir, model_max_length=512)\n",
    "#print(f\"{repr(bpe_tokenizer)}\\n{bpe_tokenizer.model_input_names}\")"
   ]
  },
  {
   "cell_type": "code",
   "execution_count": 15,
   "id": "424ccbc8",
   "metadata": {},
   "outputs": [],
   "source": [
    "#%%time\n",
    "#x = tokenizer(questions, contexts)\n",
    "#print(f\"{repr(x.keys())}\\nlen={len(x['input_ids'])}\")\n",
    "#col = \"qc_wp_length\"\n",
    "#df[col] = [len(v) for v in x[\"input_ids\"]]\n",
    "#df[col] = df[col].astype(np.int16)"
   ]
  },
  {
   "cell_type": "code",
   "execution_count": 16,
   "id": "a29d0a5e",
   "metadata": {},
   "outputs": [],
   "source": [
    "#%%time\n",
    "#x = sp_tokenizer(questions, contexts)\n",
    "#print(f\"{repr(x.keys())}\\nlen={len(x['input_ids'])}\")\n",
    "#col = \"qc_sp_length\"\n",
    "#df[col] = [len(v) for v in x[\"input_ids\"]]\n",
    "#df[col] = df[col].astype(np.int16)"
   ]
  },
  {
   "cell_type": "code",
   "execution_count": 17,
   "id": "180ca6c9",
   "metadata": {},
   "outputs": [],
   "source": [
    "#%%time\n",
    "#x = bpe_tokenizer(questions, contexts)\n",
    "#print(f\"{repr(x.keys())}\\nlen={len(x['input_ids'])}\")\n",
    "#col = \"qc_bpe_length\"\n",
    "#df[col] = [len(v) for v in x[\"input_ids\"]]\n",
    "#df[col] = df[col].astype(np.int16)"
   ]
  },
  {
   "cell_type": "code",
   "execution_count": 18,
   "id": "a3abb85f",
   "metadata": {},
   "outputs": [],
   "source": [
    "#cols = [\"qc_length\", \"a_length\", \"qc_word_length\", \"a_word_length\", \n",
    "#        \"qc_wp_length\", \"qc_sp_length\", \"qc_bpe_length\"]\n",
    "#df[cols].describe(percentiles=percentiles)"
   ]
  },
  {
   "cell_type": "code",
   "execution_count": 19,
   "id": "30275467",
   "metadata": {},
   "outputs": [
    {
     "name": "stdout",
     "output_type": "stream",
     "text": [
      "<class 'pandas.core.frame.DataFrame'>\n",
      "Index: 130319 entries, 56be85543aeaaa14008c9063 to 5a7e070b70df9f001a87543d\n",
      "Data columns (total 10 columns):\n",
      " #   Column          Non-Null Count   Dtype \n",
      "---  ------          --------------   ----- \n",
      " 0   id              130319 non-null  object\n",
      " 1   title           130319 non-null  object\n",
      " 2   question        130319 non-null  object\n",
      " 3   answer_text     130319 non-null  object\n",
      " 4   answer_start    130319 non-null  int16 \n",
      " 5   context         130319 non-null  object\n",
      " 6   qc_length       130319 non-null  int32 \n",
      " 7   a_length        130319 non-null  int32 \n",
      " 8   qc_word_length  130319 non-null  int32 \n",
      " 9   a_word_length   130319 non-null  int32 \n",
      "dtypes: int16(1), int32(4), object(5)\n",
      "memory usage: 8.2+ MB\n"
     ]
    }
   ],
   "source": [
    "df.info()"
   ]
  },
  {
   "cell_type": "code",
   "execution_count": 20,
   "id": "724e5796",
   "metadata": {},
   "outputs": [
    {
     "name": "stdout",
     "output_type": "stream",
     "text": [
      "Wall time: 300 ms\n"
     ]
    }
   ],
   "source": [
    "%%time\n",
    "df.to_parquet(\"output/train.parquet\", index=False)"
   ]
  }
 ],
 "metadata": {
  "kernelspec": {
   "display_name": "Python 3 (ipykernel)",
   "language": "python",
   "name": "python3"
  },
  "language_info": {
   "codemirror_mode": {
    "name": "ipython",
    "version": 3
   },
   "file_extension": ".py",
   "mimetype": "text/x-python",
   "name": "python",
   "nbconvert_exporter": "python",
   "pygments_lexer": "ipython3",
   "version": "3.7.5"
  }
 },
 "nbformat": 4,
 "nbformat_minor": 5
}
