{
 "cells": [
  {
   "cell_type": "code",
   "execution_count": 1,
   "id": "6852263f",
   "metadata": {},
   "outputs": [],
   "source": [
    "import os\n",
    "import json\n",
    "from pathlib import Path\n",
    "import numpy as np\n",
    "import pandas as pd\n",
    "from transformers import AutoTokenizer\n",
    "from tqdm import tqdm"
   ]
  },
  {
   "cell_type": "code",
   "execution_count": 2,
   "id": "f23cb0b3",
   "metadata": {},
   "outputs": [],
   "source": [
    "percentiles=[.01, .05, .1, .2, .3, .4, .5, .6, .7, .8, .9, .95, .99]\n",
    "pd.set_option(\"use_inf_as_na\", True)\n",
    "pd.set_option(\"max_info_columns\", 9999)\n",
    "pd.set_option(\"display.max_columns\", 9999)\n",
    "pd.set_option(\"display.max_rows\", 9999)\n",
    "pd.set_option('max_colwidth', 9999)\n",
    "tqdm.pandas()\n",
    "os.environ[\"TOKENIZERS_PARALLELISM\"] = \"false\""
   ]
  },
  {
   "cell_type": "code",
   "execution_count": 3,
   "id": "8ec36b1f",
   "metadata": {},
   "outputs": [],
   "source": [
    "def _read_squad(path):\n",
    "    path = Path(path)\n",
    "    squad_dict = None\n",
    "    with open(path) as f:\n",
    "        squad_dict = json.load(f)\n",
    "    rows = []\n",
    "    for group in tqdm(squad_dict['data']):\n",
    "        title = group[\"title\"]\n",
    "        for passage in group['paragraphs']:\n",
    "            context = passage['context']\n",
    "            for qa in passage['qas']:\n",
    "                _id = qa[\"id\"]\n",
    "                is_impossible = qa[\"is_impossible\"]\n",
    "                question = qa['question']\n",
    "                for a in qa[\"answers\"]:\n",
    "                    row = {}\n",
    "                    row[\"id\"] = _id \n",
    "                    row[\"is_impossible\"] = is_impossible\n",
    "                    row[\"title\"] = title\n",
    "                    row[\"question\"] = question\n",
    "                    row[\"answer_start\"] = a[\"answer_start\"]\n",
    "                    i = row[\"answer_start\"]\n",
    "                    j = row[\"answer_start\"] + len(a[\"text\"])\n",
    "                    assert a[\"text\"] == context[i:j]\n",
    "                    # first position which follows AFTER the answer span\n",
    "                    row[\"answer_end\"] = j\n",
    "                    row[\"answer_text\"] = a[\"text\"]\n",
    "                    row[\"context\"] = context\n",
    "                    rows.append(row)\n",
    "                if is_impossible:\n",
    "                    if \"plausible_answers\" in qa and len(qa[\"plausible_answers\"]) != 0:\n",
    "                        for a in qa[\"plausible_answers\"]:\n",
    "                            row = {}\n",
    "                            row[\"id\"] = _id \n",
    "                            row[\"is_impossible\"] = is_impossible\n",
    "                            row[\"title\"] = title\n",
    "                            row[\"question\"] = question\n",
    "                            row[\"answer_start\"] = a[\"answer_start\"]\n",
    "                            i = row[\"answer_start\"]\n",
    "                            j = row[\"answer_start\"] + len(a[\"text\"])\n",
    "                            assert a[\"text\"] == context[i:j]\n",
    "                            row[\"answer_end\"] = j\n",
    "                            row[\"answer_text\"] = a[\"text\"]\n",
    "                            row[\"context\"] = context\n",
    "                            rows.append(row)\n",
    "                    else:\n",
    "                        # at least one entry for \"impossible\" pair\n",
    "                        row = {}\n",
    "                        row[\"id\"] = _id \n",
    "                        row[\"is_impossible\"] = is_impossible\n",
    "                        row[\"title\"] = title\n",
    "                        row[\"question\"] = question\n",
    "                        row[\"answer_start\"] = -1\n",
    "                        row[\"answer_end\"] = -1\n",
    "                        row[\"answer_text\"] = \"\"\n",
    "                        row[\"context\"] = context\n",
    "                        rows.append(row)\n",
    "    df = pd.DataFrame.from_records(rows)\n",
    "    df[\"answer_start\"] = df[\"answer_start\"].astype(np.int16)\n",
    "    df[\"answer_end\"] = df[\"answer_end\"].astype(np.int16)\n",
    "    df[\"is_impossible\"] = df[\"is_impossible\"].astype(np.int8)\n",
    "    return df"
   ]
  },
  {
   "cell_type": "code",
   "execution_count": 4,
   "id": "ef6b53b4",
   "metadata": {},
   "outputs": [
    {
     "name": "stderr",
     "output_type": "stream",
     "text": [
      "100%|███████████████████████████████| 442/442 [00:00<00:00, 3507.84it/s]\n"
     ]
    },
    {
     "name": "stdout",
     "output_type": "stream",
     "text": [
      "<class 'pandas.core.frame.DataFrame'>\n",
      "RangeIndex: 130319 entries, 0 to 130318\n",
      "Data columns (total 8 columns):\n",
      " #   Column         Non-Null Count   Dtype \n",
      "---  ------         --------------   ----- \n",
      " 0   id             130319 non-null  object\n",
      " 1   is_impossible  130319 non-null  int8  \n",
      " 2   title          130319 non-null  object\n",
      " 3   question       130319 non-null  object\n",
      " 4   answer_start   130319 non-null  int16 \n",
      " 5   answer_end     130319 non-null  int16 \n",
      " 6   answer_text    130319 non-null  object\n",
      " 7   context        130319 non-null  object\n",
      "dtypes: int16(2), int8(1), object(5)\n",
      "memory usage: 5.6+ MB\n"
     ]
    }
   ],
   "source": [
    "df = _read_squad(\"input/train-v2.0.json\")\n",
    "df.info()"
   ]
  },
  {
   "cell_type": "code",
   "execution_count": 5,
   "id": "79f23dda",
   "metadata": {},
   "outputs": [],
   "source": [
    "assert len(df) == len(set(df[\"id\"]))"
   ]
  },
  {
   "cell_type": "code",
   "execution_count": 6,
   "id": "8f9b2cb9",
   "metadata": {},
   "outputs": [
    {
     "data": {
      "text/html": [
       "<div>\n",
       "<style scoped>\n",
       "    .dataframe tbody tr th:only-of-type {\n",
       "        vertical-align: middle;\n",
       "    }\n",
       "\n",
       "    .dataframe tbody tr th {\n",
       "        vertical-align: top;\n",
       "    }\n",
       "\n",
       "    .dataframe thead th {\n",
       "        text-align: right;\n",
       "    }\n",
       "</style>\n",
       "<table border=\"1\" class=\"dataframe\">\n",
       "  <thead>\n",
       "    <tr style=\"text-align: right;\">\n",
       "      <th></th>\n",
       "      <th>id</th>\n",
       "      <th>is_impossible</th>\n",
       "      <th>title</th>\n",
       "      <th>question</th>\n",
       "      <th>answer_start</th>\n",
       "      <th>answer_end</th>\n",
       "      <th>answer_text</th>\n",
       "      <th>context</th>\n",
       "    </tr>\n",
       "  </thead>\n",
       "  <tbody>\n",
       "    <tr>\n",
       "      <th>0</th>\n",
       "      <td>56be85543aeaaa14008c9063</td>\n",
       "      <td>0</td>\n",
       "      <td>Beyoncé</td>\n",
       "      <td>When did Beyonce start becoming popular?</td>\n",
       "      <td>269</td>\n",
       "      <td>286</td>\n",
       "      <td>in the late 1990s</td>\n",
       "      <td>Beyoncé Giselle Knowles-Carter (/biːˈjɒnseɪ/ bee-YON-say) (born September 4, 1981) is an American singer, songwriter, record producer and actress. Born and raised in Houston, Texas, she performed in various singing and dancing competitions as a child, and rose to fame in the late 1990s as lead singer of R&amp;B girl-group Destiny's Child. Managed by her father, Mathew Knowles, the group became one of the world's best-selling girl groups of all time. Their hiatus saw the release of Beyoncé's debut album, Dangerously in Love (2003), which established her as a solo artist worldwide, earned five Grammy Awards and featured the Billboard Hot 100 number-one singles \"Crazy in Love\" and \"Baby Boy\".</td>\n",
       "    </tr>\n",
       "    <tr>\n",
       "      <th>1</th>\n",
       "      <td>56be85543aeaaa14008c9065</td>\n",
       "      <td>0</td>\n",
       "      <td>Beyoncé</td>\n",
       "      <td>What areas did Beyonce compete in when she was growing up?</td>\n",
       "      <td>207</td>\n",
       "      <td>226</td>\n",
       "      <td>singing and dancing</td>\n",
       "      <td>Beyoncé Giselle Knowles-Carter (/biːˈjɒnseɪ/ bee-YON-say) (born September 4, 1981) is an American singer, songwriter, record producer and actress. Born and raised in Houston, Texas, she performed in various singing and dancing competitions as a child, and rose to fame in the late 1990s as lead singer of R&amp;B girl-group Destiny's Child. Managed by her father, Mathew Knowles, the group became one of the world's best-selling girl groups of all time. Their hiatus saw the release of Beyoncé's debut album, Dangerously in Love (2003), which established her as a solo artist worldwide, earned five Grammy Awards and featured the Billboard Hot 100 number-one singles \"Crazy in Love\" and \"Baby Boy\".</td>\n",
       "    </tr>\n",
       "    <tr>\n",
       "      <th>2</th>\n",
       "      <td>56be85543aeaaa14008c9066</td>\n",
       "      <td>0</td>\n",
       "      <td>Beyoncé</td>\n",
       "      <td>When did Beyonce leave Destiny's Child and become a solo singer?</td>\n",
       "      <td>526</td>\n",
       "      <td>530</td>\n",
       "      <td>2003</td>\n",
       "      <td>Beyoncé Giselle Knowles-Carter (/biːˈjɒnseɪ/ bee-YON-say) (born September 4, 1981) is an American singer, songwriter, record producer and actress. Born and raised in Houston, Texas, she performed in various singing and dancing competitions as a child, and rose to fame in the late 1990s as lead singer of R&amp;B girl-group Destiny's Child. Managed by her father, Mathew Knowles, the group became one of the world's best-selling girl groups of all time. Their hiatus saw the release of Beyoncé's debut album, Dangerously in Love (2003), which established her as a solo artist worldwide, earned five Grammy Awards and featured the Billboard Hot 100 number-one singles \"Crazy in Love\" and \"Baby Boy\".</td>\n",
       "    </tr>\n",
       "    <tr>\n",
       "      <th>3</th>\n",
       "      <td>56bf6b0f3aeaaa14008c9601</td>\n",
       "      <td>0</td>\n",
       "      <td>Beyoncé</td>\n",
       "      <td>In what city and state did Beyonce  grow up?</td>\n",
       "      <td>166</td>\n",
       "      <td>180</td>\n",
       "      <td>Houston, Texas</td>\n",
       "      <td>Beyoncé Giselle Knowles-Carter (/biːˈjɒnseɪ/ bee-YON-say) (born September 4, 1981) is an American singer, songwriter, record producer and actress. Born and raised in Houston, Texas, she performed in various singing and dancing competitions as a child, and rose to fame in the late 1990s as lead singer of R&amp;B girl-group Destiny's Child. Managed by her father, Mathew Knowles, the group became one of the world's best-selling girl groups of all time. Their hiatus saw the release of Beyoncé's debut album, Dangerously in Love (2003), which established her as a solo artist worldwide, earned five Grammy Awards and featured the Billboard Hot 100 number-one singles \"Crazy in Love\" and \"Baby Boy\".</td>\n",
       "    </tr>\n",
       "    <tr>\n",
       "      <th>4</th>\n",
       "      <td>56bf6b0f3aeaaa14008c9602</td>\n",
       "      <td>0</td>\n",
       "      <td>Beyoncé</td>\n",
       "      <td>In which decade did Beyonce become famous?</td>\n",
       "      <td>276</td>\n",
       "      <td>286</td>\n",
       "      <td>late 1990s</td>\n",
       "      <td>Beyoncé Giselle Knowles-Carter (/biːˈjɒnseɪ/ bee-YON-say) (born September 4, 1981) is an American singer, songwriter, record producer and actress. Born and raised in Houston, Texas, she performed in various singing and dancing competitions as a child, and rose to fame in the late 1990s as lead singer of R&amp;B girl-group Destiny's Child. Managed by her father, Mathew Knowles, the group became one of the world's best-selling girl groups of all time. Their hiatus saw the release of Beyoncé's debut album, Dangerously in Love (2003), which established her as a solo artist worldwide, earned five Grammy Awards and featured the Billboard Hot 100 number-one singles \"Crazy in Love\" and \"Baby Boy\".</td>\n",
       "    </tr>\n",
       "  </tbody>\n",
       "</table>\n",
       "</div>"
      ],
      "text/plain": [
       "                         id  is_impossible    title  \\\n",
       "0  56be85543aeaaa14008c9063              0  Beyoncé   \n",
       "1  56be85543aeaaa14008c9065              0  Beyoncé   \n",
       "2  56be85543aeaaa14008c9066              0  Beyoncé   \n",
       "3  56bf6b0f3aeaaa14008c9601              0  Beyoncé   \n",
       "4  56bf6b0f3aeaaa14008c9602              0  Beyoncé   \n",
       "\n",
       "                                                           question  \\\n",
       "0                          When did Beyonce start becoming popular?   \n",
       "1        What areas did Beyonce compete in when she was growing up?   \n",
       "2  When did Beyonce leave Destiny's Child and become a solo singer?   \n",
       "3                     In what city and state did Beyonce  grow up?    \n",
       "4                        In which decade did Beyonce become famous?   \n",
       "\n",
       "   answer_start  answer_end          answer_text  \\\n",
       "0           269         286    in the late 1990s   \n",
       "1           207         226  singing and dancing   \n",
       "2           526         530                 2003   \n",
       "3           166         180       Houston, Texas   \n",
       "4           276         286           late 1990s   \n",
       "\n",
       "                                                                                                                                                                                                                                                                                                                                                                                                                                                                                                                                                                                                                                                                                                                  context  \n",
       "0  Beyoncé Giselle Knowles-Carter (/biːˈjɒnseɪ/ bee-YON-say) (born September 4, 1981) is an American singer, songwriter, record producer and actress. Born and raised in Houston, Texas, she performed in various singing and dancing competitions as a child, and rose to fame in the late 1990s as lead singer of R&B girl-group Destiny's Child. Managed by her father, Mathew Knowles, the group became one of the world's best-selling girl groups of all time. Their hiatus saw the release of Beyoncé's debut album, Dangerously in Love (2003), which established her as a solo artist worldwide, earned five Grammy Awards and featured the Billboard Hot 100 number-one singles \"Crazy in Love\" and \"Baby Boy\".  \n",
       "1  Beyoncé Giselle Knowles-Carter (/biːˈjɒnseɪ/ bee-YON-say) (born September 4, 1981) is an American singer, songwriter, record producer and actress. Born and raised in Houston, Texas, she performed in various singing and dancing competitions as a child, and rose to fame in the late 1990s as lead singer of R&B girl-group Destiny's Child. Managed by her father, Mathew Knowles, the group became one of the world's best-selling girl groups of all time. Their hiatus saw the release of Beyoncé's debut album, Dangerously in Love (2003), which established her as a solo artist worldwide, earned five Grammy Awards and featured the Billboard Hot 100 number-one singles \"Crazy in Love\" and \"Baby Boy\".  \n",
       "2  Beyoncé Giselle Knowles-Carter (/biːˈjɒnseɪ/ bee-YON-say) (born September 4, 1981) is an American singer, songwriter, record producer and actress. Born and raised in Houston, Texas, she performed in various singing and dancing competitions as a child, and rose to fame in the late 1990s as lead singer of R&B girl-group Destiny's Child. Managed by her father, Mathew Knowles, the group became one of the world's best-selling girl groups of all time. Their hiatus saw the release of Beyoncé's debut album, Dangerously in Love (2003), which established her as a solo artist worldwide, earned five Grammy Awards and featured the Billboard Hot 100 number-one singles \"Crazy in Love\" and \"Baby Boy\".  \n",
       "3  Beyoncé Giselle Knowles-Carter (/biːˈjɒnseɪ/ bee-YON-say) (born September 4, 1981) is an American singer, songwriter, record producer and actress. Born and raised in Houston, Texas, she performed in various singing and dancing competitions as a child, and rose to fame in the late 1990s as lead singer of R&B girl-group Destiny's Child. Managed by her father, Mathew Knowles, the group became one of the world's best-selling girl groups of all time. Their hiatus saw the release of Beyoncé's debut album, Dangerously in Love (2003), which established her as a solo artist worldwide, earned five Grammy Awards and featured the Billboard Hot 100 number-one singles \"Crazy in Love\" and \"Baby Boy\".  \n",
       "4  Beyoncé Giselle Knowles-Carter (/biːˈjɒnseɪ/ bee-YON-say) (born September 4, 1981) is an American singer, songwriter, record producer and actress. Born and raised in Houston, Texas, she performed in various singing and dancing competitions as a child, and rose to fame in the late 1990s as lead singer of R&B girl-group Destiny's Child. Managed by her father, Mathew Knowles, the group became one of the world's best-selling girl groups of all time. Their hiatus saw the release of Beyoncé's debut album, Dangerously in Love (2003), which established her as a solo artist worldwide, earned five Grammy Awards and featured the Billboard Hot 100 number-one singles \"Crazy in Love\" and \"Baby Boy\".  "
      ]
     },
     "execution_count": 6,
     "metadata": {},
     "output_type": "execute_result"
    }
   ],
   "source": [
    "df.head()"
   ]
  },
  {
   "cell_type": "code",
   "execution_count": 7,
   "id": "7cdecccf",
   "metadata": {},
   "outputs": [
    {
     "data": {
      "text/plain": [
       "0    0.666219\n",
       "1    0.333781\n",
       "Name: is_impossible, dtype: float64"
      ]
     },
     "execution_count": 7,
     "metadata": {},
     "output_type": "execute_result"
    }
   ],
   "source": [
    "df[\"is_impossible\"].value_counts(normalize=True)"
   ]
  },
  {
   "cell_type": "code",
   "execution_count": 8,
   "id": "02307c13",
   "metadata": {},
   "outputs": [
    {
     "data": {
      "text/html": [
       "<div>\n",
       "<style scoped>\n",
       "    .dataframe tbody tr th:only-of-type {\n",
       "        vertical-align: middle;\n",
       "    }\n",
       "\n",
       "    .dataframe tbody tr th {\n",
       "        vertical-align: top;\n",
       "    }\n",
       "\n",
       "    .dataframe thead th {\n",
       "        text-align: right;\n",
       "    }\n",
       "</style>\n",
       "<table border=\"1\" class=\"dataframe\">\n",
       "  <thead>\n",
       "    <tr style=\"text-align: right;\">\n",
       "      <th></th>\n",
       "      <th>id</th>\n",
       "      <th>is_impossible</th>\n",
       "      <th>title</th>\n",
       "      <th>question</th>\n",
       "      <th>answer_start</th>\n",
       "      <th>answer_end</th>\n",
       "      <th>answer_text</th>\n",
       "      <th>context</th>\n",
       "    </tr>\n",
       "  </thead>\n",
       "  <tbody>\n",
       "    <tr>\n",
       "      <th>115175</th>\n",
       "      <td>5a65bfbec2b11c001a425d2f</td>\n",
       "      <td>1</td>\n",
       "      <td>Antibiotics</td>\n",
       "      <td>What is one common result of using genes from a young age?</td>\n",
       "      <td>57</td>\n",
       "      <td>76</td>\n",
       "      <td>increased body mass</td>\n",
       "      <td>Exposure to antibiotics early in life is associated with increased body mass in humans and mouse models. Early life is a critical period for the establishment of the intestinal microbiota and for metabolic development. Mice exposed to subtherapeutic antibiotic treatment (STAT)– with either penicillin, vancomycin, penicillin and vancomycin, or chlortetracycline had altered composition of the gut microbiota as well as its metabolic capabilities. Moreover, research have shown that mice given low-dose penicillin (1 μg/g body weight) around birth and throughout the weaning process had an increased body mass and fat mass, accelerated growth, and increased hepatic expression of genes involved in adipogenesis, compared to controlled mice. In addition, penicillin in combination with a high-fat diet increased fasting insulin levels in mice. However, it is unclear whether or not antibiotics cause obesity in humans. Studies have found a correlation between early exposure of antibiotics (&lt;6 months) and increased body mass (at 10 and 20 months). Another study found that the type of antibiotic exposure was also significant with the highest risk of being overweight in those given macrolides compared to penicillin and cephalosporin. Therefore, there is correlation between antibiotic exposure in early life and obesity in humans, but whether or not there is a causal relationship remains unclear. Although there is a correlation between antibiotic use in early life and obesity, the effect of antibiotics on obesity in humans needs to be weighed against the beneficial effects of clinically indicated treatment with antibiotics in infancy.</td>\n",
       "    </tr>\n",
       "    <tr>\n",
       "      <th>73077</th>\n",
       "      <td>5ad417a0604f3c001a4003aa</td>\n",
       "      <td>1</td>\n",
       "      <td>Affirmative_action_in_the_United_States</td>\n",
       "      <td>What is the failure rate for black law school graduates compared to asians for the bar exam?</td>\n",
       "      <td>358</td>\n",
       "      <td>368</td>\n",
       "      <td>four times</td>\n",
       "      <td>Richard Sander claims that by artificially elevating minority students into schools they otherwise would not be capable of attending, this discourages them and tends to engender failure and high dropout rates for these students. For example, about half of black college students rank in the bottom 20 percent of their classes, black law school graduates are four times as likely to fail bar exams as are whites, and interracial friendships are more likely to form among students with relatively similar levels of academic preparation; thus, blacks and Hispanics are more socially integrated on campuses where they are less academically mismatched. He claims that the supposed \"beneficiaries\" of affirmative action – minorities – do not actually benefit and rather are harmed by the policy. Sander's claims have been disputed, and his empirical analyses have been subject to substantial criticism. A group including some of the country's lead statistical methodologists told the Supreme Court that Sander's analyses were sufficiently flawed that the Court would be wise to ignore them entirely. At the same time many scholars have found that minorities gain substantially from affirmative action.</td>\n",
       "    </tr>\n",
       "    <tr>\n",
       "      <th>32136</th>\n",
       "      <td>5a361229788daf001a5f86f9</td>\n",
       "      <td>1</td>\n",
       "      <td>Himachal_Pradesh</td>\n",
       "      <td>How does the climate vary in the trans-Himalayan region?</td>\n",
       "      <td>122</td>\n",
       "      <td>270</td>\n",
       "      <td>from hot and subhumid tropical in the southern tracts to, with more elevation, cold, alpine, and glacial in the northern and eastern mountain ranges</td>\n",
       "      <td>Due to extreme variation in elevation, great variation occurs in the climatic conditions of Himachal . The climate varies from hot and subhumid tropical in the southern tracts to, with more elevation, cold, alpine, and glacial in the northern and eastern mountain ranges. The state has areas like Dharamsala that receive very heavy rainfall, as well as those like Lahaul and Spiti that are cold and almost rainless. Broadly, Himachal experiences three seasons: summer, winter, and rainy season. Summer lasts from mid-April till the end of June and most parts become very hot (except in the alpine zone which experiences a mild summer) with the average temperature ranging from 28 to 32 °C (82 to 90 °F). Winter lasts from late November till mid March. Snowfall is common in alpine tracts (generally above 2,200 metres (7,218 ft) i.e. in the higher and trans-Himalayan region).</td>\n",
       "    </tr>\n",
       "    <tr>\n",
       "      <th>63845</th>\n",
       "      <td>5ad3eb6c604f3c001a3ff728</td>\n",
       "      <td>1</td>\n",
       "      <td>Yale_University</td>\n",
       "      <td>What did President Salovey believe wouldn't happen if Calhoun's name was removed from the college?</td>\n",
       "      <td>1793</td>\n",
       "      <td>1862</td>\n",
       "      <td>it would \"obscure\" his \"legacy of slavery rather than addressing it.\"</td>\n",
       "      <td>In the wake of the racially-motivated\" church shooting in Charleston, South Carolina, Yale was under criticism again in the summer of 2015 for Calhoun College, one of 12 residential colleges, which was named after John C. Calhoun, a slave-owner and strong slavery supporter in the nineteenth century. In July 2015 students signed a petition calling for the name change. They argued in the petition that—while Calhoun was respected in the 19th century as an \"extraordinary American statesman\"—he was \"one of the most prolific defenders of slavery and white supremacy\" in the history of the United States. In August 2015 Yale President Peter Salovey addressed the Freshman Class of 2019 in which he responded to the racial tensions but explained why the college would not be renamed. He described Calhoun as a \"a notable political theorist, a vice president to two different U.S. presidents, a secretary of war and of state, and a congressman and senator representing South Carolina.\" He acknowledged that Calhoun also \"believed that the highest forms of civilization depend on involuntary servitude. Not only that, but he also believed that the races he thought to be inferior, black people in particular, ought to be subjected to it for the sake of their own best interests.\" Racial tensions increased in the fall of 2015 centering on comments by Nicholas A. Christakis and his wife Erika regarding freedom of speech. In April 2016 Salovey announced that \"despite decades of vigorous alumni and student protests,\" Calhoun's name will remain on the Yale residential college explaining that it is preferable for Yale students to live in Calhoun's \"shadow\" so they will be \"better prepared to rise to the challenges of the present and the future.\" He claimed that if they removed Calhoun's name, it would \"obscure\" his \"legacy of slavery rather than addressing it.\" \"Yale is part of that history\" and \"We cannot erase American history, but we can confront it, teach it and learn from it.\" One change that will be issued is the title of “master” for faculty members who serve as residential college leaders will be renamed to “head of college” due to its connotation of slavery.</td>\n",
       "    </tr>\n",
       "    <tr>\n",
       "      <th>7992</th>\n",
       "      <td>5ad0104777cf76001a686878</td>\n",
       "      <td>1</td>\n",
       "      <td>Republic_of_the_Congo</td>\n",
       "      <td>What did Sassou's regime not attempt to censor?</td>\n",
       "      <td>49</td>\n",
       "      <td>71</td>\n",
       "      <td>corruption revelations</td>\n",
       "      <td>Internationally, Sassou's regime has been hit by corruption revelations despite attempts to censor them. One French investigation found over 110 bank accounts and dozens of lavish properties in France; Sassou denounced embezzlement investigations as \"racist\" and \"colonial\".</td>\n",
       "    </tr>\n",
       "  </tbody>\n",
       "</table>\n",
       "</div>"
      ],
      "text/plain": [
       "                              id  is_impossible  \\\n",
       "115175  5a65bfbec2b11c001a425d2f              1   \n",
       "73077   5ad417a0604f3c001a4003aa              1   \n",
       "32136   5a361229788daf001a5f86f9              1   \n",
       "63845   5ad3eb6c604f3c001a3ff728              1   \n",
       "7992    5ad0104777cf76001a686878              1   \n",
       "\n",
       "                                          title  \\\n",
       "115175                              Antibiotics   \n",
       "73077   Affirmative_action_in_the_United_States   \n",
       "32136                          Himachal_Pradesh   \n",
       "63845                           Yale_University   \n",
       "7992                      Republic_of_the_Congo   \n",
       "\n",
       "                                                                                                  question  \\\n",
       "115175                                          What is one common result of using genes from a young age?   \n",
       "73077         What is the failure rate for black law school graduates compared to asians for the bar exam?   \n",
       "32136                                             How does the climate vary in the trans-Himalayan region?   \n",
       "63845   What did President Salovey believe wouldn't happen if Calhoun's name was removed from the college?   \n",
       "7992                                                       What did Sassou's regime not attempt to censor?   \n",
       "\n",
       "        answer_start  answer_end  \\\n",
       "115175            57          76   \n",
       "73077            358         368   \n",
       "32136            122         270   \n",
       "63845           1793        1862   \n",
       "7992              49          71   \n",
       "\n",
       "                                                                                                                                                 answer_text  \\\n",
       "115175                                                                                                                                   increased body mass   \n",
       "73077                                                                                                                                             four times   \n",
       "32136   from hot and subhumid tropical in the southern tracts to, with more elevation, cold, alpine, and glacial in the northern and eastern mountain ranges   \n",
       "63845                                                                                  it would \"obscure\" his \"legacy of slavery rather than addressing it.\"   \n",
       "7992                                                                                                                                  corruption revelations   \n",
       "\n",
       "                                                                                                                                                                                                                                                                                                                                                                                                                                                                                                                                                                                                                                                                                                                                                                                                                                                                                                                                                                                                                                                                                                                                                                                                                                                                                                                                                                                                                                                                                                                                                                                                                                                                                                                                                                                                                                                                                                                                                                                                                                                                                                                                                                                                                                                               context  \n",
       "115175                                                                                                                                                                                                                                                                                                                                                                                                                                                                                                                                                      Exposure to antibiotics early in life is associated with increased body mass in humans and mouse models. Early life is a critical period for the establishment of the intestinal microbiota and for metabolic development. Mice exposed to subtherapeutic antibiotic treatment (STAT)– with either penicillin, vancomycin, penicillin and vancomycin, or chlortetracycline had altered composition of the gut microbiota as well as its metabolic capabilities. Moreover, research have shown that mice given low-dose penicillin (1 μg/g body weight) around birth and throughout the weaning process had an increased body mass and fat mass, accelerated growth, and increased hepatic expression of genes involved in adipogenesis, compared to controlled mice. In addition, penicillin in combination with a high-fat diet increased fasting insulin levels in mice. However, it is unclear whether or not antibiotics cause obesity in humans. Studies have found a correlation between early exposure of antibiotics (<6 months) and increased body mass (at 10 and 20 months). Another study found that the type of antibiotic exposure was also significant with the highest risk of being overweight in those given macrolides compared to penicillin and cephalosporin. Therefore, there is correlation between antibiotic exposure in early life and obesity in humans, but whether or not there is a causal relationship remains unclear. Although there is a correlation between antibiotic use in early life and obesity, the effect of antibiotics on obesity in humans needs to be weighed against the beneficial effects of clinically indicated treatment with antibiotics in infancy.  \n",
       "73077                                                                                                                                                                                                                                                                                                                                                                                                                                                                                                                                                                                                                                                                                                                                                                                                                                                                                                                                                                                                                      Richard Sander claims that by artificially elevating minority students into schools they otherwise would not be capable of attending, this discourages them and tends to engender failure and high dropout rates for these students. For example, about half of black college students rank in the bottom 20 percent of their classes, black law school graduates are four times as likely to fail bar exams as are whites, and interracial friendships are more likely to form among students with relatively similar levels of academic preparation; thus, blacks and Hispanics are more socially integrated on campuses where they are less academically mismatched. He claims that the supposed \"beneficiaries\" of affirmative action – minorities – do not actually benefit and rather are harmed by the policy. Sander's claims have been disputed, and his empirical analyses have been subject to substantial criticism. A group including some of the country's lead statistical methodologists told the Supreme Court that Sander's analyses were sufficiently flawed that the Court would be wise to ignore them entirely. At the same time many scholars have found that minorities gain substantially from affirmative action.  \n",
       "32136                                                                                                                                                                                                                                                                                                                                                                                                                                                                                                                                                                                                                                                                                                                                                                                                                                                                                                                                                                                                                                                                                                                                                                                                                                                                                                                                                     Due to extreme variation in elevation, great variation occurs in the climatic conditions of Himachal . The climate varies from hot and subhumid tropical in the southern tracts to, with more elevation, cold, alpine, and glacial in the northern and eastern mountain ranges. The state has areas like Dharamsala that receive very heavy rainfall, as well as those like Lahaul and Spiti that are cold and almost rainless. Broadly, Himachal experiences three seasons: summer, winter, and rainy season. Summer lasts from mid-April till the end of June and most parts become very hot (except in the alpine zone which experiences a mild summer) with the average temperature ranging from 28 to 32 °C (82 to 90 °F). Winter lasts from late November till mid March. Snowfall is common in alpine tracts (generally above 2,200 metres (7,218 ft) i.e. in the higher and trans-Himalayan region).  \n",
       "63845   In the wake of the racially-motivated\" church shooting in Charleston, South Carolina, Yale was under criticism again in the summer of 2015 for Calhoun College, one of 12 residential colleges, which was named after John C. Calhoun, a slave-owner and strong slavery supporter in the nineteenth century. In July 2015 students signed a petition calling for the name change. They argued in the petition that—while Calhoun was respected in the 19th century as an \"extraordinary American statesman\"—he was \"one of the most prolific defenders of slavery and white supremacy\" in the history of the United States. In August 2015 Yale President Peter Salovey addressed the Freshman Class of 2019 in which he responded to the racial tensions but explained why the college would not be renamed. He described Calhoun as a \"a notable political theorist, a vice president to two different U.S. presidents, a secretary of war and of state, and a congressman and senator representing South Carolina.\" He acknowledged that Calhoun also \"believed that the highest forms of civilization depend on involuntary servitude. Not only that, but he also believed that the races he thought to be inferior, black people in particular, ought to be subjected to it for the sake of their own best interests.\" Racial tensions increased in the fall of 2015 centering on comments by Nicholas A. Christakis and his wife Erika regarding freedom of speech. In April 2016 Salovey announced that \"despite decades of vigorous alumni and student protests,\" Calhoun's name will remain on the Yale residential college explaining that it is preferable for Yale students to live in Calhoun's \"shadow\" so they will be \"better prepared to rise to the challenges of the present and the future.\" He claimed that if they removed Calhoun's name, it would \"obscure\" his \"legacy of slavery rather than addressing it.\" \"Yale is part of that history\" and \"We cannot erase American history, but we can confront it, teach it and learn from it.\" One change that will be issued is the title of “master” for faculty members who serve as residential college leaders will be renamed to “head of college” due to its connotation of slavery.  \n",
       "7992                                                                                                                                                                                                                                                                                                                                                                                                                                                                                                                                                                                                                                                                                                                                                                                                                                                                                                                                                                                                                                                                                                                                                                                                                                                                                                                                                                                                                                                                                                                                                                                                                                                                                                                                                                                                                                                                                                                                                                                Internationally, Sassou's regime has been hit by corruption revelations despite attempts to censor them. One French investigation found over 110 bank accounts and dozens of lavish properties in France; Sassou denounced embezzlement investigations as \"racist\" and \"colonial\".  "
      ]
     },
     "execution_count": 8,
     "metadata": {},
     "output_type": "execute_result"
    }
   ],
   "source": [
    "df[df[\"is_impossible\"] == 1].sample(5).head(5)"
   ]
  },
  {
   "cell_type": "code",
   "execution_count": 9,
   "id": "a91da7c3",
   "metadata": {},
   "outputs": [
    {
     "name": "stdout",
     "output_type": "stream",
     "text": [
      "Wall time: 88 ms\n"
     ]
    }
   ],
   "source": [
    "%%time\n",
    "df[\"cq_length\"] = df[\"context\"].str.len() + df[\"question\"].str.len() \n",
    "df[\"cq_length\"] = df[\"cq_length\"].astype(np.int16)"
   ]
  },
  {
   "cell_type": "code",
   "execution_count": 10,
   "id": "ec848e89",
   "metadata": {},
   "outputs": [
    {
     "name": "stdout",
     "output_type": "stream",
     "text": [
      "PreTrainedTokenizerFast(name_or_path='../pretrained/google/electra-small-discriminator', vocab_size=30522, model_max_len=512, is_fast=True, padding_side='right', special_tokens={'unk_token': '[UNK]', 'sep_token': '[SEP]', 'pad_token': '[PAD]', 'cls_token': '[CLS]', 'mask_token': '[MASK]'})\n",
      "['input_ids', 'token_type_ids', 'attention_mask']\n"
     ]
    }
   ],
   "source": [
    "pretrained_dir = \"../pretrained/google/electra-small-discriminator\"\n",
    "model_max_length = 512\n",
    "tokenizer = AutoTokenizer.from_pretrained(pretrained_dir, model_max_length=model_max_length)\n",
    "print(f\"{repr(tokenizer)}\\n{tokenizer.model_input_names}\")"
   ]
  },
  {
   "cell_type": "code",
   "execution_count": 11,
   "id": "a0aacf7f",
   "metadata": {},
   "outputs": [
    {
     "name": "stdout",
     "output_type": "stream",
     "text": [
      "PreTrainedTokenizerFast(name_or_path='../pretrained/albert-base-v2', vocab_size=30000, model_max_len=512, is_fast=True, padding_side='right', special_tokens={'bos_token': '[CLS]', 'eos_token': '[SEP]', 'unk_token': '<unk>', 'sep_token': '[SEP]', 'pad_token': '<pad>', 'cls_token': '[CLS]', 'mask_token': AddedToken(\"[MASK]\", rstrip=False, lstrip=True, single_word=False, normalized=False)})\n",
      "['input_ids', 'token_type_ids', 'attention_mask']\n"
     ]
    }
   ],
   "source": [
    "pretrained_dir = \"../pretrained/albert-base-v2\"\n",
    "model_max_length = 512\n",
    "sp_tokenizer = AutoTokenizer.from_pretrained(pretrained_dir, model_max_length=model_max_length)\n",
    "print(f\"{repr(sp_tokenizer)}\\n{sp_tokenizer.model_input_names}\")"
   ]
  },
  {
   "cell_type": "code",
   "execution_count": 12,
   "id": "20894cd4",
   "metadata": {},
   "outputs": [
    {
     "name": "stdout",
     "output_type": "stream",
     "text": [
      "PreTrainedTokenizerFast(name_or_path='../pretrained/distilroberta-base', vocab_size=50265, model_max_len=512, is_fast=True, padding_side='right', special_tokens={'bos_token': '<s>', 'eos_token': '</s>', 'unk_token': '<unk>', 'sep_token': '</s>', 'pad_token': '<pad>', 'cls_token': '<s>', 'mask_token': AddedToken(\"<mask>\", rstrip=False, lstrip=True, single_word=False, normalized=False)})\n",
      "['input_ids', 'attention_mask']\n"
     ]
    }
   ],
   "source": [
    "pretrained_dir = \"../pretrained/distilroberta-base\"\n",
    "model_max_length = 512\n",
    "bpe_tokenizer = AutoTokenizer.from_pretrained(pretrained_dir, model_max_length=model_max_length)\n",
    "print(f\"{repr(bpe_tokenizer)}\\n{bpe_tokenizer.model_input_names}\")"
   ]
  },
  {
   "cell_type": "code",
   "execution_count": 13,
   "id": "424ccbc8",
   "metadata": {},
   "outputs": [
    {
     "name": "stderr",
     "output_type": "stream",
     "text": [
      "Token indices sequence length is longer than the specified maximum sequence length for this model (518 > 512). Running this sequence through the model will result in indexing errors\n"
     ]
    },
    {
     "name": "stdout",
     "output_type": "stream",
     "text": [
      "dict_keys(['input_ids', 'token_type_ids', 'attention_mask'])\n",
      "len=130319\n",
      "Wall time: 56.4 s\n"
     ]
    }
   ],
   "source": [
    "%%time\n",
    "x = tokenizer(list(df[\"context\"]), list(df[\"question\"]))\n",
    "print(f\"{repr(x.keys())}\\nlen={len(x['input_ids'])}\")\n",
    "col = \"cq_wp_length\"\n",
    "df[col] = [len(v) for v in x[\"input_ids\"]]\n",
    "df[col] = df[col].astype(np.int16)"
   ]
  },
  {
   "cell_type": "code",
   "execution_count": 14,
   "id": "a29d0a5e",
   "metadata": {},
   "outputs": [
    {
     "name": "stderr",
     "output_type": "stream",
     "text": [
      "Token indices sequence length is longer than the specified maximum sequence length for this model (549 > 512). Running this sequence through the model will result in indexing errors\n"
     ]
    },
    {
     "name": "stdout",
     "output_type": "stream",
     "text": [
      "dict_keys(['input_ids', 'token_type_ids', 'attention_mask'])\n",
      "len=130319\n",
      "Wall time: 1min 35s\n"
     ]
    }
   ],
   "source": [
    "%%time\n",
    "x = sp_tokenizer(list(df[\"context\"]), list(df[\"question\"]))\n",
    "print(f\"{repr(x.keys())}\\nlen={len(x['input_ids'])}\")\n",
    "col = \"cq_sp_length\"\n",
    "df[col] = [len(v) for v in x[\"input_ids\"]]\n",
    "df[col] = df[col].astype(np.int16)"
   ]
  },
  {
   "cell_type": "code",
   "execution_count": 15,
   "id": "180ca6c9",
   "metadata": {},
   "outputs": [
    {
     "name": "stderr",
     "output_type": "stream",
     "text": [
      "Token indices sequence length is longer than the specified maximum sequence length for this model (527 > 512). Running this sequence through the model will result in indexing errors\n"
     ]
    },
    {
     "name": "stdout",
     "output_type": "stream",
     "text": [
      "dict_keys(['input_ids', 'attention_mask'])\n",
      "len=130319\n",
      "Wall time: 1min 7s\n"
     ]
    }
   ],
   "source": [
    "%%time\n",
    "x = bpe_tokenizer(list(df[\"context\"]), list(df[\"question\"]))\n",
    "print(f\"{repr(x.keys())}\\nlen={len(x['input_ids'])}\")\n",
    "col = \"cq_bpe_length\"\n",
    "df[col] = [len(v) for v in x[\"input_ids\"]]\n",
    "df[col] = df[col].astype(np.int16)"
   ]
  },
  {
   "cell_type": "code",
   "execution_count": 16,
   "id": "a3abb85f",
   "metadata": {},
   "outputs": [
    {
     "data": {
      "text/html": [
       "<div>\n",
       "<style scoped>\n",
       "    .dataframe tbody tr th:only-of-type {\n",
       "        vertical-align: middle;\n",
       "    }\n",
       "\n",
       "    .dataframe tbody tr th {\n",
       "        vertical-align: top;\n",
       "    }\n",
       "\n",
       "    .dataframe thead th {\n",
       "        text-align: right;\n",
       "    }\n",
       "</style>\n",
       "<table border=\"1\" class=\"dataframe\">\n",
       "  <thead>\n",
       "    <tr style=\"text-align: right;\">\n",
       "      <th></th>\n",
       "      <th>cq_wp_length</th>\n",
       "      <th>cq_sp_length</th>\n",
       "      <th>cq_bpe_length</th>\n",
       "    </tr>\n",
       "  </thead>\n",
       "  <tbody>\n",
       "    <tr>\n",
       "      <th>count</th>\n",
       "      <td>130319.000000</td>\n",
       "      <td>130319.000000</td>\n",
       "      <td>130319.000000</td>\n",
       "    </tr>\n",
       "    <tr>\n",
       "      <th>mean</th>\n",
       "      <td>170.726632</td>\n",
       "      <td>174.188384</td>\n",
       "      <td>173.005740</td>\n",
       "    </tr>\n",
       "    <tr>\n",
       "      <th>std</th>\n",
       "      <td>65.407215</td>\n",
       "      <td>67.240044</td>\n",
       "      <td>96.779923</td>\n",
       "    </tr>\n",
       "    <tr>\n",
       "      <th>min</th>\n",
       "      <td>35.000000</td>\n",
       "      <td>35.000000</td>\n",
       "      <td>37.000000</td>\n",
       "    </tr>\n",
       "    <tr>\n",
       "      <th>1%</th>\n",
       "      <td>55.000000</td>\n",
       "      <td>56.000000</td>\n",
       "      <td>57.000000</td>\n",
       "    </tr>\n",
       "    <tr>\n",
       "      <th>5%</th>\n",
       "      <td>84.000000</td>\n",
       "      <td>86.000000</td>\n",
       "      <td>86.000000</td>\n",
       "    </tr>\n",
       "    <tr>\n",
       "      <th>10%</th>\n",
       "      <td>108.000000</td>\n",
       "      <td>109.000000</td>\n",
       "      <td>109.000000</td>\n",
       "    </tr>\n",
       "    <tr>\n",
       "      <th>20%</th>\n",
       "      <td>124.000000</td>\n",
       "      <td>126.000000</td>\n",
       "      <td>125.000000</td>\n",
       "    </tr>\n",
       "    <tr>\n",
       "      <th>30%</th>\n",
       "      <td>135.000000</td>\n",
       "      <td>137.000000</td>\n",
       "      <td>136.000000</td>\n",
       "    </tr>\n",
       "    <tr>\n",
       "      <th>40%</th>\n",
       "      <td>146.000000</td>\n",
       "      <td>149.000000</td>\n",
       "      <td>148.000000</td>\n",
       "    </tr>\n",
       "    <tr>\n",
       "      <th>50%</th>\n",
       "      <td>158.000000</td>\n",
       "      <td>161.000000</td>\n",
       "      <td>160.000000</td>\n",
       "    </tr>\n",
       "    <tr>\n",
       "      <th>60%</th>\n",
       "      <td>172.000000</td>\n",
       "      <td>175.000000</td>\n",
       "      <td>174.000000</td>\n",
       "    </tr>\n",
       "    <tr>\n",
       "      <th>70%</th>\n",
       "      <td>189.000000</td>\n",
       "      <td>193.000000</td>\n",
       "      <td>191.000000</td>\n",
       "    </tr>\n",
       "    <tr>\n",
       "      <th>80%</th>\n",
       "      <td>213.000000</td>\n",
       "      <td>218.000000</td>\n",
       "      <td>215.000000</td>\n",
       "    </tr>\n",
       "    <tr>\n",
       "      <th>90%</th>\n",
       "      <td>253.000000</td>\n",
       "      <td>259.000000</td>\n",
       "      <td>256.000000</td>\n",
       "    </tr>\n",
       "    <tr>\n",
       "      <th>95%</th>\n",
       "      <td>292.000000</td>\n",
       "      <td>298.000000</td>\n",
       "      <td>294.000000</td>\n",
       "    </tr>\n",
       "    <tr>\n",
       "      <th>99%</th>\n",
       "      <td>389.000000</td>\n",
       "      <td>397.000000</td>\n",
       "      <td>390.000000</td>\n",
       "    </tr>\n",
       "    <tr>\n",
       "      <th>max</th>\n",
       "      <td>870.000000</td>\n",
       "      <td>978.000000</td>\n",
       "      <td>25724.000000</td>\n",
       "    </tr>\n",
       "  </tbody>\n",
       "</table>\n",
       "</div>"
      ],
      "text/plain": [
       "        cq_wp_length   cq_sp_length  cq_bpe_length\n",
       "count  130319.000000  130319.000000  130319.000000\n",
       "mean      170.726632     174.188384     173.005740\n",
       "std        65.407215      67.240044      96.779923\n",
       "min        35.000000      35.000000      37.000000\n",
       "1%         55.000000      56.000000      57.000000\n",
       "5%         84.000000      86.000000      86.000000\n",
       "10%       108.000000     109.000000     109.000000\n",
       "20%       124.000000     126.000000     125.000000\n",
       "30%       135.000000     137.000000     136.000000\n",
       "40%       146.000000     149.000000     148.000000\n",
       "50%       158.000000     161.000000     160.000000\n",
       "60%       172.000000     175.000000     174.000000\n",
       "70%       189.000000     193.000000     191.000000\n",
       "80%       213.000000     218.000000     215.000000\n",
       "90%       253.000000     259.000000     256.000000\n",
       "95%       292.000000     298.000000     294.000000\n",
       "99%       389.000000     397.000000     390.000000\n",
       "max       870.000000     978.000000   25724.000000"
      ]
     },
     "execution_count": 16,
     "metadata": {},
     "output_type": "execute_result"
    }
   ],
   "source": [
    "cols = [\"cq_wp_length\", \"cq_sp_length\", \"cq_bpe_length\"]\n",
    "df[cols].describe(percentiles=percentiles)"
   ]
  },
  {
   "cell_type": "code",
   "execution_count": 17,
   "id": "c95f8e0c",
   "metadata": {},
   "outputs": [
    {
     "data": {
      "text/plain": [
       "count      29.000000\n",
       "mean     2327.482759\n",
       "std       174.631167\n",
       "min      2174.000000\n",
       "1%       2174.000000\n",
       "5%       2174.400000\n",
       "10%      2175.000000\n",
       "20%      2187.600000\n",
       "30%      2229.800000\n",
       "40%      2238.000000\n",
       "50%      2272.000000\n",
       "60%      2287.600000\n",
       "70%      2295.000000\n",
       "80%      2496.000000\n",
       "90%      2571.200000\n",
       "95%      2715.200000\n",
       "99%      2741.600000\n",
       "max      2750.000000\n",
       "Name: cq_length, dtype: float64"
      ]
     },
     "execution_count": 17,
     "metadata": {},
     "output_type": "execute_result"
    }
   ],
   "source": [
    "index = df[(df[\"cq_wp_length\"] > 499) & (df[\"cq_wp_length\"] <= 512)].index\n",
    "df.loc[index, \"cq_length\"].describe(percentiles=percentiles)"
   ]
  },
  {
   "cell_type": "code",
   "execution_count": 18,
   "id": "83dd90fe",
   "metadata": {},
   "outputs": [
    {
     "data": {
      "text/plain": [
       "count    2394.000000\n",
       "mean     1185.904344\n",
       "std       108.709116\n",
       "min       678.000000\n",
       "1%        854.930000\n",
       "5%       1000.000000\n",
       "10%      1052.300000\n",
       "20%      1107.600000\n",
       "30%      1144.000000\n",
       "40%      1169.000000\n",
       "50%      1191.500000\n",
       "60%      1216.800000\n",
       "70%      1243.000000\n",
       "80%      1278.000000\n",
       "90%      1314.700000\n",
       "95%      1346.350000\n",
       "99%      1397.140000\n",
       "max      1465.000000\n",
       "Name: cq_length, dtype: float64"
      ]
     },
     "execution_count": 18,
     "metadata": {},
     "output_type": "execute_result"
    }
   ],
   "source": [
    "index = df[(df[\"cq_wp_length\"] > 246) & (df[\"cq_wp_length\"] <= 256)].index\n",
    "df.loc[index, \"cq_length\"].describe(percentiles=percentiles)"
   ]
  },
  {
   "cell_type": "code",
   "execution_count": 19,
   "id": "437fc1b8",
   "metadata": {},
   "outputs": [
    {
     "data": {
      "text/plain": [
       "count    10876.000000\n",
       "mean       607.685546\n",
       "std         46.221126\n",
       "min        332.000000\n",
       "1%         485.000000\n",
       "5%         543.000000\n",
       "10%        556.000000\n",
       "20%        572.000000\n",
       "30%        584.000000\n",
       "40%        595.000000\n",
       "50%        606.000000\n",
       "60%        617.000000\n",
       "70%        629.000000\n",
       "80%        644.000000\n",
       "90%        666.000000\n",
       "95%        685.000000\n",
       "99%        723.000000\n",
       "max        796.000000\n",
       "Name: cq_length, dtype: float64"
      ]
     },
     "execution_count": 19,
     "metadata": {},
     "output_type": "execute_result"
    }
   ],
   "source": [
    "index = df[(df[\"cq_wp_length\"] > 118) & (df[\"cq_wp_length\"] <= 128)].index\n",
    "df.loc[index, \"cq_length\"].describe(percentiles=percentiles)"
   ]
  },
  {
   "cell_type": "code",
   "execution_count": 20,
   "id": "30275467",
   "metadata": {},
   "outputs": [
    {
     "name": "stdout",
     "output_type": "stream",
     "text": [
      "<class 'pandas.core.frame.DataFrame'>\n",
      "RangeIndex: 130319 entries, 0 to 130318\n",
      "Data columns (total 12 columns):\n",
      " #   Column         Non-Null Count   Dtype \n",
      "---  ------         --------------   ----- \n",
      " 0   id             130319 non-null  object\n",
      " 1   is_impossible  130319 non-null  int8  \n",
      " 2   title          130319 non-null  object\n",
      " 3   question       130319 non-null  object\n",
      " 4   answer_start   130319 non-null  int16 \n",
      " 5   answer_end     130319 non-null  int16 \n",
      " 6   answer_text    130319 non-null  object\n",
      " 7   context        130319 non-null  object\n",
      " 8   cq_length      130319 non-null  int16 \n",
      " 9   cq_wp_length   130319 non-null  int16 \n",
      " 10  cq_sp_length   130319 non-null  int16 \n",
      " 11  cq_bpe_length  130319 non-null  int16 \n",
      "dtypes: int16(6), int8(1), object(5)\n",
      "memory usage: 6.6+ MB\n"
     ]
    }
   ],
   "source": [
    "df.info()"
   ]
  },
  {
   "cell_type": "code",
   "execution_count": 21,
   "id": "724e5796",
   "metadata": {},
   "outputs": [
    {
     "name": "stdout",
     "output_type": "stream",
     "text": [
      "Wall time: 450 ms\n"
     ]
    }
   ],
   "source": [
    "%%time\n",
    "df.to_parquet(\"output/train.parquet\", index=False)"
   ]
  },
  {
   "cell_type": "markdown",
   "id": "82e03787",
   "metadata": {},
   "source": [
    "# Dev set"
   ]
  },
  {
   "cell_type": "code",
   "execution_count": 22,
   "id": "3337e200",
   "metadata": {},
   "outputs": [
    {
     "name": "stderr",
     "output_type": "stream",
     "text": [
      "100%|█████████████████████████████████| 35/35 [00:00<00:00, 1521.39it/s]"
     ]
    },
    {
     "name": "stdout",
     "output_type": "stream",
     "text": [
      "<class 'pandas.core.frame.DataFrame'>\n",
      "RangeIndex: 26247 entries, 0 to 26246\n",
      "Data columns (total 8 columns):\n",
      " #   Column         Non-Null Count  Dtype \n",
      "---  ------         --------------  ----- \n",
      " 0   id             26247 non-null  object\n",
      " 1   is_impossible  26247 non-null  int8  \n",
      " 2   title          26247 non-null  object\n",
      " 3   question       26247 non-null  object\n",
      " 4   answer_start   26247 non-null  int16 \n",
      " 5   answer_end     26247 non-null  int16 \n",
      " 6   answer_text    26247 non-null  object\n",
      " 7   context        26247 non-null  object\n",
      "dtypes: int16(2), int8(1), object(5)\n",
      "memory usage: 1.1+ MB\n"
     ]
    },
    {
     "name": "stderr",
     "output_type": "stream",
     "text": [
      "\n"
     ]
    }
   ],
   "source": [
    "df = _read_squad(\"input/dev-v2.0.json\")\n",
    "df.info()"
   ]
  },
  {
   "cell_type": "code",
   "execution_count": 23,
   "id": "7a17c935",
   "metadata": {},
   "outputs": [
    {
     "data": {
      "text/html": [
       "<div>\n",
       "<style scoped>\n",
       "    .dataframe tbody tr th:only-of-type {\n",
       "        vertical-align: middle;\n",
       "    }\n",
       "\n",
       "    .dataframe tbody tr th {\n",
       "        vertical-align: top;\n",
       "    }\n",
       "\n",
       "    .dataframe thead th {\n",
       "        text-align: right;\n",
       "    }\n",
       "</style>\n",
       "<table border=\"1\" class=\"dataframe\">\n",
       "  <thead>\n",
       "    <tr style=\"text-align: right;\">\n",
       "      <th></th>\n",
       "      <th>id</th>\n",
       "      <th>is_impossible</th>\n",
       "      <th>title</th>\n",
       "      <th>question</th>\n",
       "      <th>answer_start</th>\n",
       "      <th>answer_end</th>\n",
       "      <th>answer_text</th>\n",
       "      <th>context</th>\n",
       "    </tr>\n",
       "  </thead>\n",
       "  <tbody>\n",
       "    <tr>\n",
       "      <th>0</th>\n",
       "      <td>56ddde6b9a695914005b9628</td>\n",
       "      <td>0</td>\n",
       "      <td>Normans</td>\n",
       "      <td>In what country is Normandy located?</td>\n",
       "      <td>159</td>\n",
       "      <td>165</td>\n",
       "      <td>France</td>\n",
       "      <td>The Normans (Norman: Nourmands; French: Normands; Latin: Normanni) were the people who in the 10th and 11th centuries gave their name to Normandy, a region in France. They were descended from Norse (\"Norman\" comes from \"Norseman\") raiders and pirates from Denmark, Iceland and Norway who, under their leader Rollo, agreed to swear fealty to King Charles III of West Francia. Through generations of assimilation and mixing with the native Frankish and Roman-Gaulish populations, their descendants would gradually merge with the Carolingian-based cultures of West Francia. The distinct cultural and ethnic identity of the Normans emerged initially in the first half of the 10th century, and it continued to evolve over the succeeding centuries.</td>\n",
       "    </tr>\n",
       "    <tr>\n",
       "      <th>1</th>\n",
       "      <td>56ddde6b9a695914005b9628</td>\n",
       "      <td>0</td>\n",
       "      <td>Normans</td>\n",
       "      <td>In what country is Normandy located?</td>\n",
       "      <td>159</td>\n",
       "      <td>165</td>\n",
       "      <td>France</td>\n",
       "      <td>The Normans (Norman: Nourmands; French: Normands; Latin: Normanni) were the people who in the 10th and 11th centuries gave their name to Normandy, a region in France. They were descended from Norse (\"Norman\" comes from \"Norseman\") raiders and pirates from Denmark, Iceland and Norway who, under their leader Rollo, agreed to swear fealty to King Charles III of West Francia. Through generations of assimilation and mixing with the native Frankish and Roman-Gaulish populations, their descendants would gradually merge with the Carolingian-based cultures of West Francia. The distinct cultural and ethnic identity of the Normans emerged initially in the first half of the 10th century, and it continued to evolve over the succeeding centuries.</td>\n",
       "    </tr>\n",
       "    <tr>\n",
       "      <th>2</th>\n",
       "      <td>56ddde6b9a695914005b9628</td>\n",
       "      <td>0</td>\n",
       "      <td>Normans</td>\n",
       "      <td>In what country is Normandy located?</td>\n",
       "      <td>159</td>\n",
       "      <td>165</td>\n",
       "      <td>France</td>\n",
       "      <td>The Normans (Norman: Nourmands; French: Normands; Latin: Normanni) were the people who in the 10th and 11th centuries gave their name to Normandy, a region in France. They were descended from Norse (\"Norman\" comes from \"Norseman\") raiders and pirates from Denmark, Iceland and Norway who, under their leader Rollo, agreed to swear fealty to King Charles III of West Francia. Through generations of assimilation and mixing with the native Frankish and Roman-Gaulish populations, their descendants would gradually merge with the Carolingian-based cultures of West Francia. The distinct cultural and ethnic identity of the Normans emerged initially in the first half of the 10th century, and it continued to evolve over the succeeding centuries.</td>\n",
       "    </tr>\n",
       "    <tr>\n",
       "      <th>3</th>\n",
       "      <td>56ddde6b9a695914005b9628</td>\n",
       "      <td>0</td>\n",
       "      <td>Normans</td>\n",
       "      <td>In what country is Normandy located?</td>\n",
       "      <td>159</td>\n",
       "      <td>165</td>\n",
       "      <td>France</td>\n",
       "      <td>The Normans (Norman: Nourmands; French: Normands; Latin: Normanni) were the people who in the 10th and 11th centuries gave their name to Normandy, a region in France. They were descended from Norse (\"Norman\" comes from \"Norseman\") raiders and pirates from Denmark, Iceland and Norway who, under their leader Rollo, agreed to swear fealty to King Charles III of West Francia. Through generations of assimilation and mixing with the native Frankish and Roman-Gaulish populations, their descendants would gradually merge with the Carolingian-based cultures of West Francia. The distinct cultural and ethnic identity of the Normans emerged initially in the first half of the 10th century, and it continued to evolve over the succeeding centuries.</td>\n",
       "    </tr>\n",
       "    <tr>\n",
       "      <th>4</th>\n",
       "      <td>56ddde6b9a695914005b9629</td>\n",
       "      <td>0</td>\n",
       "      <td>Normans</td>\n",
       "      <td>When were the Normans in Normandy?</td>\n",
       "      <td>94</td>\n",
       "      <td>117</td>\n",
       "      <td>10th and 11th centuries</td>\n",
       "      <td>The Normans (Norman: Nourmands; French: Normands; Latin: Normanni) were the people who in the 10th and 11th centuries gave their name to Normandy, a region in France. They were descended from Norse (\"Norman\" comes from \"Norseman\") raiders and pirates from Denmark, Iceland and Norway who, under their leader Rollo, agreed to swear fealty to King Charles III of West Francia. Through generations of assimilation and mixing with the native Frankish and Roman-Gaulish populations, their descendants would gradually merge with the Carolingian-based cultures of West Francia. The distinct cultural and ethnic identity of the Normans emerged initially in the first half of the 10th century, and it continued to evolve over the succeeding centuries.</td>\n",
       "    </tr>\n",
       "  </tbody>\n",
       "</table>\n",
       "</div>"
      ],
      "text/plain": [
       "                         id  is_impossible    title  \\\n",
       "0  56ddde6b9a695914005b9628              0  Normans   \n",
       "1  56ddde6b9a695914005b9628              0  Normans   \n",
       "2  56ddde6b9a695914005b9628              0  Normans   \n",
       "3  56ddde6b9a695914005b9628              0  Normans   \n",
       "4  56ddde6b9a695914005b9629              0  Normans   \n",
       "\n",
       "                               question  answer_start  answer_end  \\\n",
       "0  In what country is Normandy located?           159         165   \n",
       "1  In what country is Normandy located?           159         165   \n",
       "2  In what country is Normandy located?           159         165   \n",
       "3  In what country is Normandy located?           159         165   \n",
       "4    When were the Normans in Normandy?            94         117   \n",
       "\n",
       "               answer_text  \\\n",
       "0                   France   \n",
       "1                   France   \n",
       "2                   France   \n",
       "3                   France   \n",
       "4  10th and 11th centuries   \n",
       "\n",
       "                                                                                                                                                                                                                                                                                                                                                                                                                                                                                                                                                                                                                                                                                                                                                                  context  \n",
       "0  The Normans (Norman: Nourmands; French: Normands; Latin: Normanni) were the people who in the 10th and 11th centuries gave their name to Normandy, a region in France. They were descended from Norse (\"Norman\" comes from \"Norseman\") raiders and pirates from Denmark, Iceland and Norway who, under their leader Rollo, agreed to swear fealty to King Charles III of West Francia. Through generations of assimilation and mixing with the native Frankish and Roman-Gaulish populations, their descendants would gradually merge with the Carolingian-based cultures of West Francia. The distinct cultural and ethnic identity of the Normans emerged initially in the first half of the 10th century, and it continued to evolve over the succeeding centuries.  \n",
       "1  The Normans (Norman: Nourmands; French: Normands; Latin: Normanni) were the people who in the 10th and 11th centuries gave their name to Normandy, a region in France. They were descended from Norse (\"Norman\" comes from \"Norseman\") raiders and pirates from Denmark, Iceland and Norway who, under their leader Rollo, agreed to swear fealty to King Charles III of West Francia. Through generations of assimilation and mixing with the native Frankish and Roman-Gaulish populations, their descendants would gradually merge with the Carolingian-based cultures of West Francia. The distinct cultural and ethnic identity of the Normans emerged initially in the first half of the 10th century, and it continued to evolve over the succeeding centuries.  \n",
       "2  The Normans (Norman: Nourmands; French: Normands; Latin: Normanni) were the people who in the 10th and 11th centuries gave their name to Normandy, a region in France. They were descended from Norse (\"Norman\" comes from \"Norseman\") raiders and pirates from Denmark, Iceland and Norway who, under their leader Rollo, agreed to swear fealty to King Charles III of West Francia. Through generations of assimilation and mixing with the native Frankish and Roman-Gaulish populations, their descendants would gradually merge with the Carolingian-based cultures of West Francia. The distinct cultural and ethnic identity of the Normans emerged initially in the first half of the 10th century, and it continued to evolve over the succeeding centuries.  \n",
       "3  The Normans (Norman: Nourmands; French: Normands; Latin: Normanni) were the people who in the 10th and 11th centuries gave their name to Normandy, a region in France. They were descended from Norse (\"Norman\" comes from \"Norseman\") raiders and pirates from Denmark, Iceland and Norway who, under their leader Rollo, agreed to swear fealty to King Charles III of West Francia. Through generations of assimilation and mixing with the native Frankish and Roman-Gaulish populations, their descendants would gradually merge with the Carolingian-based cultures of West Francia. The distinct cultural and ethnic identity of the Normans emerged initially in the first half of the 10th century, and it continued to evolve over the succeeding centuries.  \n",
       "4  The Normans (Norman: Nourmands; French: Normands; Latin: Normanni) were the people who in the 10th and 11th centuries gave their name to Normandy, a region in France. They were descended from Norse (\"Norman\" comes from \"Norseman\") raiders and pirates from Denmark, Iceland and Norway who, under their leader Rollo, agreed to swear fealty to King Charles III of West Francia. Through generations of assimilation and mixing with the native Frankish and Roman-Gaulish populations, their descendants would gradually merge with the Carolingian-based cultures of West Francia. The distinct cultural and ethnic identity of the Normans emerged initially in the first half of the 10th century, and it continued to evolve over the succeeding centuries.  "
      ]
     },
     "execution_count": 23,
     "metadata": {},
     "output_type": "execute_result"
    }
   ],
   "source": [
    "df.head()"
   ]
  },
  {
   "cell_type": "code",
   "execution_count": 24,
   "id": "04166797",
   "metadata": {},
   "outputs": [
    {
     "data": {
      "text/plain": [
       "0    0.773498\n",
       "1    0.226502\n",
       "Name: is_impossible, dtype: float64"
      ]
     },
     "execution_count": 24,
     "metadata": {},
     "output_type": "execute_result"
    }
   ],
   "source": [
    "df[\"is_impossible\"].value_counts(normalize=True)"
   ]
  },
  {
   "cell_type": "code",
   "execution_count": 25,
   "id": "434ca878",
   "metadata": {},
   "outputs": [
    {
     "name": "stdout",
     "output_type": "stream",
     "text": [
      "Wall time: 21 ms\n"
     ]
    }
   ],
   "source": [
    "%%time\n",
    "df[\"cq_length\"] = df[\"context\"].str.len() + df[\"question\"].str.len() \n",
    "df[\"cq_length\"] = df[\"cq_length\"].astype(np.int16)"
   ]
  },
  {
   "cell_type": "code",
   "execution_count": 26,
   "id": "af1ad651",
   "metadata": {},
   "outputs": [
    {
     "name": "stdout",
     "output_type": "stream",
     "text": [
      "dict_keys(['input_ids', 'token_type_ids', 'attention_mask'])\n",
      "len=26247\n",
      "Wall time: 14.3 s\n"
     ]
    }
   ],
   "source": [
    "%%time\n",
    "x = tokenizer(list(df[\"context\"]), list(df[\"question\"]))\n",
    "print(f\"{repr(x.keys())}\\nlen={len(x['input_ids'])}\")\n",
    "col = \"cq_wp_length\"\n",
    "df[col] = [len(v) for v in x[\"input_ids\"]]\n",
    "df[col] = df[col].astype(np.int16)"
   ]
  },
  {
   "cell_type": "code",
   "execution_count": 27,
   "id": "262122dd",
   "metadata": {},
   "outputs": [
    {
     "name": "stdout",
     "output_type": "stream",
     "text": [
      "dict_keys(['input_ids', 'token_type_ids', 'attention_mask'])\n",
      "len=26247\n",
      "Wall time: 22.1 s\n"
     ]
    }
   ],
   "source": [
    "%%time\n",
    "x = sp_tokenizer(list(df[\"context\"]), list(df[\"question\"]))\n",
    "print(f\"{repr(x.keys())}\\nlen={len(x['input_ids'])}\")\n",
    "col = \"cq_sp_length\"\n",
    "df[col] = [len(v) for v in x[\"input_ids\"]]\n",
    "df[col] = df[col].astype(np.int16)"
   ]
  },
  {
   "cell_type": "code",
   "execution_count": 28,
   "id": "fdc506b1",
   "metadata": {},
   "outputs": [
    {
     "name": "stdout",
     "output_type": "stream",
     "text": [
      "dict_keys(['input_ids', 'attention_mask'])\n",
      "len=26247\n",
      "Wall time: 14.6 s\n"
     ]
    }
   ],
   "source": [
    "%%time\n",
    "x = bpe_tokenizer(list(df[\"context\"]), list(df[\"question\"]))\n",
    "print(f\"{repr(x.keys())}\\nlen={len(x['input_ids'])}\")\n",
    "col = \"cq_bpe_length\"\n",
    "df[col] = [len(v) for v in x[\"input_ids\"]]\n",
    "df[col] = df[col].astype(np.int16)"
   ]
  },
  {
   "cell_type": "code",
   "execution_count": 29,
   "id": "c5c750d4",
   "metadata": {},
   "outputs": [
    {
     "data": {
      "text/html": [
       "<div>\n",
       "<style scoped>\n",
       "    .dataframe tbody tr th:only-of-type {\n",
       "        vertical-align: middle;\n",
       "    }\n",
       "\n",
       "    .dataframe tbody tr th {\n",
       "        vertical-align: top;\n",
       "    }\n",
       "\n",
       "    .dataframe thead th {\n",
       "        text-align: right;\n",
       "    }\n",
       "</style>\n",
       "<table border=\"1\" class=\"dataframe\">\n",
       "  <thead>\n",
       "    <tr style=\"text-align: right;\">\n",
       "      <th></th>\n",
       "      <th>cq_wp_length</th>\n",
       "      <th>cq_sp_length</th>\n",
       "      <th>cq_bpe_length</th>\n",
       "    </tr>\n",
       "  </thead>\n",
       "  <tbody>\n",
       "    <tr>\n",
       "      <th>count</th>\n",
       "      <td>26247.000000</td>\n",
       "      <td>26247.000000</td>\n",
       "      <td>26247.000000</td>\n",
       "    </tr>\n",
       "    <tr>\n",
       "      <th>mean</th>\n",
       "      <td>181.900865</td>\n",
       "      <td>185.490456</td>\n",
       "      <td>182.890807</td>\n",
       "    </tr>\n",
       "    <tr>\n",
       "      <th>std</th>\n",
       "      <td>74.241469</td>\n",
       "      <td>76.358966</td>\n",
       "      <td>73.820075</td>\n",
       "    </tr>\n",
       "    <tr>\n",
       "      <th>min</th>\n",
       "      <td>41.000000</td>\n",
       "      <td>41.000000</td>\n",
       "      <td>42.000000</td>\n",
       "    </tr>\n",
       "    <tr>\n",
       "      <th>1%</th>\n",
       "      <td>74.000000</td>\n",
       "      <td>75.000000</td>\n",
       "      <td>76.000000</td>\n",
       "    </tr>\n",
       "    <tr>\n",
       "      <th>5%</th>\n",
       "      <td>110.000000</td>\n",
       "      <td>111.000000</td>\n",
       "      <td>111.000000</td>\n",
       "    </tr>\n",
       "    <tr>\n",
       "      <th>10%</th>\n",
       "      <td>119.000000</td>\n",
       "      <td>122.000000</td>\n",
       "      <td>120.000000</td>\n",
       "    </tr>\n",
       "    <tr>\n",
       "      <th>20%</th>\n",
       "      <td>131.000000</td>\n",
       "      <td>133.000000</td>\n",
       "      <td>132.000000</td>\n",
       "    </tr>\n",
       "    <tr>\n",
       "      <th>30%</th>\n",
       "      <td>140.000000</td>\n",
       "      <td>143.000000</td>\n",
       "      <td>141.000000</td>\n",
       "    </tr>\n",
       "    <tr>\n",
       "      <th>40%</th>\n",
       "      <td>151.000000</td>\n",
       "      <td>153.000000</td>\n",
       "      <td>152.000000</td>\n",
       "    </tr>\n",
       "    <tr>\n",
       "      <th>50%</th>\n",
       "      <td>164.000000</td>\n",
       "      <td>166.000000</td>\n",
       "      <td>165.000000</td>\n",
       "    </tr>\n",
       "    <tr>\n",
       "      <th>60%</th>\n",
       "      <td>179.000000</td>\n",
       "      <td>182.000000</td>\n",
       "      <td>180.000000</td>\n",
       "    </tr>\n",
       "    <tr>\n",
       "      <th>70%</th>\n",
       "      <td>196.000000</td>\n",
       "      <td>200.000000</td>\n",
       "      <td>198.000000</td>\n",
       "    </tr>\n",
       "    <tr>\n",
       "      <th>80%</th>\n",
       "      <td>221.000000</td>\n",
       "      <td>225.000000</td>\n",
       "      <td>223.000000</td>\n",
       "    </tr>\n",
       "    <tr>\n",
       "      <th>90%</th>\n",
       "      <td>265.000000</td>\n",
       "      <td>272.000000</td>\n",
       "      <td>267.000000</td>\n",
       "    </tr>\n",
       "    <tr>\n",
       "      <th>95%</th>\n",
       "      <td>305.000000</td>\n",
       "      <td>316.000000</td>\n",
       "      <td>309.000000</td>\n",
       "    </tr>\n",
       "    <tr>\n",
       "      <th>99%</th>\n",
       "      <td>474.540000</td>\n",
       "      <td>489.000000</td>\n",
       "      <td>459.000000</td>\n",
       "    </tr>\n",
       "    <tr>\n",
       "      <th>max</th>\n",
       "      <td>819.000000</td>\n",
       "      <td>824.000000</td>\n",
       "      <td>814.000000</td>\n",
       "    </tr>\n",
       "  </tbody>\n",
       "</table>\n",
       "</div>"
      ],
      "text/plain": [
       "       cq_wp_length  cq_sp_length  cq_bpe_length\n",
       "count  26247.000000  26247.000000   26247.000000\n",
       "mean     181.900865    185.490456     182.890807\n",
       "std       74.241469     76.358966      73.820075\n",
       "min       41.000000     41.000000      42.000000\n",
       "1%        74.000000     75.000000      76.000000\n",
       "5%       110.000000    111.000000     111.000000\n",
       "10%      119.000000    122.000000     120.000000\n",
       "20%      131.000000    133.000000     132.000000\n",
       "30%      140.000000    143.000000     141.000000\n",
       "40%      151.000000    153.000000     152.000000\n",
       "50%      164.000000    166.000000     165.000000\n",
       "60%      179.000000    182.000000     180.000000\n",
       "70%      196.000000    200.000000     198.000000\n",
       "80%      221.000000    225.000000     223.000000\n",
       "90%      265.000000    272.000000     267.000000\n",
       "95%      305.000000    316.000000     309.000000\n",
       "99%      474.540000    489.000000     459.000000\n",
       "max      819.000000    824.000000     814.000000"
      ]
     },
     "execution_count": 29,
     "metadata": {},
     "output_type": "execute_result"
    }
   ],
   "source": [
    "cols = [\"cq_wp_length\", \"cq_sp_length\", \"cq_bpe_length\"]\n",
    "df[cols].describe(percentiles=percentiles)"
   ]
  },
  {
   "cell_type": "code",
   "execution_count": 30,
   "id": "49655799",
   "metadata": {},
   "outputs": [
    {
     "data": {
      "text/plain": [
       "count      11.000000\n",
       "mean     2491.909091\n",
       "std        50.020905\n",
       "min      2421.000000\n",
       "1%       2421.000000\n",
       "5%       2421.000000\n",
       "10%      2421.000000\n",
       "20%      2421.000000\n",
       "30%      2495.000000\n",
       "40%      2500.000000\n",
       "50%      2500.000000\n",
       "60%      2500.000000\n",
       "70%      2509.000000\n",
       "80%      2548.000000\n",
       "90%      2548.000000\n",
       "95%      2548.000000\n",
       "99%      2548.000000\n",
       "max      2548.000000\n",
       "Name: cq_length, dtype: float64"
      ]
     },
     "execution_count": 30,
     "metadata": {},
     "output_type": "execute_result"
    }
   ],
   "source": [
    "index = df[(df[\"cq_wp_length\"] > 499) & (df[\"cq_wp_length\"] <= 512)].index\n",
    "df.loc[index, \"cq_length\"].describe(percentiles=percentiles)"
   ]
  },
  {
   "cell_type": "code",
   "execution_count": 31,
   "id": "be917a99",
   "metadata": {},
   "outputs": [
    {
     "data": {
      "text/plain": [
       "count     559.000000\n",
       "mean     1177.529517\n",
       "std       102.572968\n",
       "min       917.000000\n",
       "1%        930.000000\n",
       "5%        967.000000\n",
       "10%      1042.000000\n",
       "20%      1121.000000\n",
       "30%      1134.000000\n",
       "40%      1154.000000\n",
       "50%      1176.000000\n",
       "60%      1224.000000\n",
       "70%      1244.000000\n",
       "80%      1269.000000\n",
       "90%      1304.000000\n",
       "95%      1334.000000\n",
       "99%      1361.000000\n",
       "max      1368.000000\n",
       "Name: cq_length, dtype: float64"
      ]
     },
     "execution_count": 31,
     "metadata": {},
     "output_type": "execute_result"
    }
   ],
   "source": [
    "index = df[(df[\"cq_wp_length\"] > 246) & (df[\"cq_wp_length\"] <= 256)].index\n",
    "df.loc[index, \"cq_length\"].describe(percentiles=percentiles)"
   ]
  },
  {
   "cell_type": "code",
   "execution_count": 32,
   "id": "f17e7c93",
   "metadata": {},
   "outputs": [
    {
     "data": {
      "text/plain": [
       "count    2044.000000\n",
       "mean      616.679061\n",
       "std        42.683754\n",
       "min       502.000000\n",
       "1%        537.720000\n",
       "5%        555.000000\n",
       "10%       564.000000\n",
       "20%       579.000000\n",
       "30%       589.000000\n",
       "40%       601.000000\n",
       "50%       612.000000\n",
       "60%       625.000000\n",
       "70%       639.000000\n",
       "80%       656.000000\n",
       "90%       674.000000\n",
       "95%       691.000000\n",
       "99%       714.000000\n",
       "max       769.000000\n",
       "Name: cq_length, dtype: float64"
      ]
     },
     "execution_count": 32,
     "metadata": {},
     "output_type": "execute_result"
    }
   ],
   "source": [
    "index = df[(df[\"cq_wp_length\"] > 118) & (df[\"cq_wp_length\"] <= 128)].index\n",
    "df.loc[index, \"cq_length\"].describe(percentiles=percentiles)"
   ]
  },
  {
   "cell_type": "code",
   "execution_count": 33,
   "id": "459ec563",
   "metadata": {},
   "outputs": [
    {
     "name": "stdout",
     "output_type": "stream",
     "text": [
      "<class 'pandas.core.frame.DataFrame'>\n",
      "RangeIndex: 26247 entries, 0 to 26246\n",
      "Data columns (total 12 columns):\n",
      " #   Column         Non-Null Count  Dtype \n",
      "---  ------         --------------  ----- \n",
      " 0   id             26247 non-null  object\n",
      " 1   is_impossible  26247 non-null  int8  \n",
      " 2   title          26247 non-null  object\n",
      " 3   question       26247 non-null  object\n",
      " 4   answer_start   26247 non-null  int16 \n",
      " 5   answer_end     26247 non-null  int16 \n",
      " 6   answer_text    26247 non-null  object\n",
      " 7   context        26247 non-null  object\n",
      " 8   cq_length      26247 non-null  int16 \n",
      " 9   cq_wp_length   26247 non-null  int16 \n",
      " 10  cq_sp_length   26247 non-null  int16 \n",
      " 11  cq_bpe_length  26247 non-null  int16 \n",
      "dtypes: int16(6), int8(1), object(5)\n",
      "memory usage: 1.3+ MB\n"
     ]
    }
   ],
   "source": [
    "df.info()"
   ]
  },
  {
   "cell_type": "code",
   "execution_count": 34,
   "id": "caaf6a5b",
   "metadata": {},
   "outputs": [
    {
     "name": "stdout",
     "output_type": "stream",
     "text": [
      "Wall time: 56.2 ms\n"
     ]
    }
   ],
   "source": [
    "%%time\n",
    "df.to_parquet(\"output/dev.parquet\", index=False)"
   ]
  }
 ],
 "metadata": {
  "kernelspec": {
   "display_name": "Python 3 (ipykernel)",
   "language": "python",
   "name": "python3"
  },
  "language_info": {
   "codemirror_mode": {
    "name": "ipython",
    "version": 3
   },
   "file_extension": ".py",
   "mimetype": "text/x-python",
   "name": "python",
   "nbconvert_exporter": "python",
   "pygments_lexer": "ipython3",
   "version": "3.7.5"
  }
 },
 "nbformat": 4,
 "nbformat_minor": 5
}
