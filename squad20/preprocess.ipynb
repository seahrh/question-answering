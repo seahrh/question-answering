{
 "cells": [
  {
   "cell_type": "code",
   "execution_count": 121,
   "id": "6852263f",
   "metadata": {},
   "outputs": [],
   "source": [
    "import os\n",
    "import numpy as np\n",
    "import pandas as pd\n",
    "from transformers import AutoTokenizer\n",
    "from tqdm import tqdm\n",
    "from typing import Iterable, Callable\n",
    "from questionanswering import squad"
   ]
  },
  {
   "cell_type": "code",
   "execution_count": 122,
   "id": "f23cb0b3",
   "metadata": {},
   "outputs": [],
   "source": [
    "percentiles=[.01, .05, .1, .2, .3, .4, .5, .6, .7, .8, .9, .95, .99]\n",
    "pd.set_option(\"use_inf_as_na\", True)\n",
    "pd.set_option(\"max_info_columns\", 9999)\n",
    "pd.set_option(\"display.max_columns\", 9999)\n",
    "pd.set_option(\"display.max_rows\", 9999)\n",
    "pd.set_option('max_colwidth', 9999)\n",
    "tqdm.pandas()\n",
    "os.environ[\"TOKENIZERS_PARALLELISM\"] = \"false\""
   ]
  },
  {
   "cell_type": "code",
   "execution_count": 123,
   "id": "ef6b53b4",
   "metadata": {},
   "outputs": [
    {
     "name": "stderr",
     "output_type": "stream",
     "text": [
      "100%|████████████████████████████████| 442/442 [00:00<00:00, 732.84it/s]\n"
     ]
    },
    {
     "name": "stdout",
     "output_type": "stream",
     "text": [
      "<class 'pandas.core.frame.DataFrame'>\n",
      "RangeIndex: 130319 entries, 0 to 130318\n",
      "Data columns (total 6 columns):\n",
      " #   Column        Non-Null Count   Dtype \n",
      "---  ------        --------------   ----- \n",
      " 0   id            130319 non-null  object\n",
      " 1   title         130319 non-null  object\n",
      " 2   question      130319 non-null  object\n",
      " 3   answer_text   130319 non-null  object\n",
      " 4   context       130319 non-null  object\n",
      " 5   answer_start  130319 non-null  int16 \n",
      "dtypes: int16(1), object(5)\n",
      "memory usage: 5.2+ MB\n"
     ]
    }
   ],
   "source": [
    "df = squad.parse_json_file(\"input/train-v2.0.json\")\n",
    "questions = list(df[\"question\"])\n",
    "contexts = list(df[\"context\"])\n",
    "df.info()"
   ]
  },
  {
   "cell_type": "code",
   "execution_count": 124,
   "id": "8f9b2cb9",
   "metadata": {},
   "outputs": [
    {
     "data": {
      "text/html": [
       "<div>\n",
       "<style scoped>\n",
       "    .dataframe tbody tr th:only-of-type {\n",
       "        vertical-align: middle;\n",
       "    }\n",
       "\n",
       "    .dataframe tbody tr th {\n",
       "        vertical-align: top;\n",
       "    }\n",
       "\n",
       "    .dataframe thead th {\n",
       "        text-align: right;\n",
       "    }\n",
       "</style>\n",
       "<table border=\"1\" class=\"dataframe\">\n",
       "  <thead>\n",
       "    <tr style=\"text-align: right;\">\n",
       "      <th></th>\n",
       "      <th>id</th>\n",
       "      <th>title</th>\n",
       "      <th>question</th>\n",
       "      <th>answer_text</th>\n",
       "      <th>context</th>\n",
       "      <th>answer_start</th>\n",
       "    </tr>\n",
       "    <tr>\n",
       "      <th>id</th>\n",
       "      <th></th>\n",
       "      <th></th>\n",
       "      <th></th>\n",
       "      <th></th>\n",
       "      <th></th>\n",
       "      <th></th>\n",
       "    </tr>\n",
       "  </thead>\n",
       "  <tbody>\n",
       "    <tr>\n",
       "      <th>56be85543aeaaa14008c9063</th>\n",
       "      <td>56be85543aeaaa14008c9063</td>\n",
       "      <td>Beyoncé</td>\n",
       "      <td>When did Beyonce start becoming popular?</td>\n",
       "      <td>in the late 1990s</td>\n",
       "      <td>Beyoncé Giselle Knowles-Carter (/biːˈjɒnseɪ/ bee-YON-say) (born September 4, 1981) is an American singer, songwriter, record producer and actress. Born and raised in Houston, Texas, she performed in various singing and dancing competitions as a child, and rose to fame in the late 1990s as lead singer of R&amp;B girl-group Destiny's Child. Managed by her father, Mathew Knowles, the group became one of the world's best-selling girl groups of all time. Their hiatus saw the release of Beyoncé's debut album, Dangerously in Love (2003), which established her as a solo artist worldwide, earned five Grammy Awards and featured the Billboard Hot 100 number-one singles \"Crazy in Love\" and \"Baby Boy\".</td>\n",
       "      <td>269</td>\n",
       "    </tr>\n",
       "    <tr>\n",
       "      <th>56be85543aeaaa14008c9065</th>\n",
       "      <td>56be85543aeaaa14008c9065</td>\n",
       "      <td>Beyoncé</td>\n",
       "      <td>What areas did Beyonce compete in when she was growing up?</td>\n",
       "      <td>singing and dancing</td>\n",
       "      <td>Beyoncé Giselle Knowles-Carter (/biːˈjɒnseɪ/ bee-YON-say) (born September 4, 1981) is an American singer, songwriter, record producer and actress. Born and raised in Houston, Texas, she performed in various singing and dancing competitions as a child, and rose to fame in the late 1990s as lead singer of R&amp;B girl-group Destiny's Child. Managed by her father, Mathew Knowles, the group became one of the world's best-selling girl groups of all time. Their hiatus saw the release of Beyoncé's debut album, Dangerously in Love (2003), which established her as a solo artist worldwide, earned five Grammy Awards and featured the Billboard Hot 100 number-one singles \"Crazy in Love\" and \"Baby Boy\".</td>\n",
       "      <td>207</td>\n",
       "    </tr>\n",
       "    <tr>\n",
       "      <th>56be85543aeaaa14008c9066</th>\n",
       "      <td>56be85543aeaaa14008c9066</td>\n",
       "      <td>Beyoncé</td>\n",
       "      <td>When did Beyonce leave Destiny's Child and become a solo singer?</td>\n",
       "      <td>2003</td>\n",
       "      <td>Beyoncé Giselle Knowles-Carter (/biːˈjɒnseɪ/ bee-YON-say) (born September 4, 1981) is an American singer, songwriter, record producer and actress. Born and raised in Houston, Texas, she performed in various singing and dancing competitions as a child, and rose to fame in the late 1990s as lead singer of R&amp;B girl-group Destiny's Child. Managed by her father, Mathew Knowles, the group became one of the world's best-selling girl groups of all time. Their hiatus saw the release of Beyoncé's debut album, Dangerously in Love (2003), which established her as a solo artist worldwide, earned five Grammy Awards and featured the Billboard Hot 100 number-one singles \"Crazy in Love\" and \"Baby Boy\".</td>\n",
       "      <td>526</td>\n",
       "    </tr>\n",
       "    <tr>\n",
       "      <th>56bf6b0f3aeaaa14008c9601</th>\n",
       "      <td>56bf6b0f3aeaaa14008c9601</td>\n",
       "      <td>Beyoncé</td>\n",
       "      <td>In what city and state did Beyonce grow up?</td>\n",
       "      <td>Houston, Texas</td>\n",
       "      <td>Beyoncé Giselle Knowles-Carter (/biːˈjɒnseɪ/ bee-YON-say) (born September 4, 1981) is an American singer, songwriter, record producer and actress. Born and raised in Houston, Texas, she performed in various singing and dancing competitions as a child, and rose to fame in the late 1990s as lead singer of R&amp;B girl-group Destiny's Child. Managed by her father, Mathew Knowles, the group became one of the world's best-selling girl groups of all time. Their hiatus saw the release of Beyoncé's debut album, Dangerously in Love (2003), which established her as a solo artist worldwide, earned five Grammy Awards and featured the Billboard Hot 100 number-one singles \"Crazy in Love\" and \"Baby Boy\".</td>\n",
       "      <td>166</td>\n",
       "    </tr>\n",
       "    <tr>\n",
       "      <th>56bf6b0f3aeaaa14008c9602</th>\n",
       "      <td>56bf6b0f3aeaaa14008c9602</td>\n",
       "      <td>Beyoncé</td>\n",
       "      <td>In which decade did Beyonce become famous?</td>\n",
       "      <td>late 1990s</td>\n",
       "      <td>Beyoncé Giselle Knowles-Carter (/biːˈjɒnseɪ/ bee-YON-say) (born September 4, 1981) is an American singer, songwriter, record producer and actress. Born and raised in Houston, Texas, she performed in various singing and dancing competitions as a child, and rose to fame in the late 1990s as lead singer of R&amp;B girl-group Destiny's Child. Managed by her father, Mathew Knowles, the group became one of the world's best-selling girl groups of all time. Their hiatus saw the release of Beyoncé's debut album, Dangerously in Love (2003), which established her as a solo artist worldwide, earned five Grammy Awards and featured the Billboard Hot 100 number-one singles \"Crazy in Love\" and \"Baby Boy\".</td>\n",
       "      <td>276</td>\n",
       "    </tr>\n",
       "  </tbody>\n",
       "</table>\n",
       "</div>"
      ],
      "text/plain": [
       "                                                id    title  \\\n",
       "id                                                            \n",
       "56be85543aeaaa14008c9063  56be85543aeaaa14008c9063  Beyoncé   \n",
       "56be85543aeaaa14008c9065  56be85543aeaaa14008c9065  Beyoncé   \n",
       "56be85543aeaaa14008c9066  56be85543aeaaa14008c9066  Beyoncé   \n",
       "56bf6b0f3aeaaa14008c9601  56bf6b0f3aeaaa14008c9601  Beyoncé   \n",
       "56bf6b0f3aeaaa14008c9602  56bf6b0f3aeaaa14008c9602  Beyoncé   \n",
       "\n",
       "                                                                                  question  \\\n",
       "id                                                                                           \n",
       "56be85543aeaaa14008c9063                          When did Beyonce start becoming popular?   \n",
       "56be85543aeaaa14008c9065        What areas did Beyonce compete in when she was growing up?   \n",
       "56be85543aeaaa14008c9066  When did Beyonce leave Destiny's Child and become a solo singer?   \n",
       "56bf6b0f3aeaaa14008c9601                       In what city and state did Beyonce grow up?   \n",
       "56bf6b0f3aeaaa14008c9602                        In which decade did Beyonce become famous?   \n",
       "\n",
       "                                  answer_text  \\\n",
       "id                                              \n",
       "56be85543aeaaa14008c9063    in the late 1990s   \n",
       "56be85543aeaaa14008c9065  singing and dancing   \n",
       "56be85543aeaaa14008c9066                 2003   \n",
       "56bf6b0f3aeaaa14008c9601       Houston, Texas   \n",
       "56bf6b0f3aeaaa14008c9602           late 1990s   \n",
       "\n",
       "                                                                                                                                                                                                                                                                                                                                                                                                                                                                                                                                                                                                                                                                                                                                         context  \\\n",
       "id                                                                                                                                                                                                                                                                                                                                                                                                                                                                                                                                                                                                                                                                                                                                                 \n",
       "56be85543aeaaa14008c9063  Beyoncé Giselle Knowles-Carter (/biːˈjɒnseɪ/ bee-YON-say) (born September 4, 1981) is an American singer, songwriter, record producer and actress. Born and raised in Houston, Texas, she performed in various singing and dancing competitions as a child, and rose to fame in the late 1990s as lead singer of R&B girl-group Destiny's Child. Managed by her father, Mathew Knowles, the group became one of the world's best-selling girl groups of all time. Their hiatus saw the release of Beyoncé's debut album, Dangerously in Love (2003), which established her as a solo artist worldwide, earned five Grammy Awards and featured the Billboard Hot 100 number-one singles \"Crazy in Love\" and \"Baby Boy\".   \n",
       "56be85543aeaaa14008c9065  Beyoncé Giselle Knowles-Carter (/biːˈjɒnseɪ/ bee-YON-say) (born September 4, 1981) is an American singer, songwriter, record producer and actress. Born and raised in Houston, Texas, she performed in various singing and dancing competitions as a child, and rose to fame in the late 1990s as lead singer of R&B girl-group Destiny's Child. Managed by her father, Mathew Knowles, the group became one of the world's best-selling girl groups of all time. Their hiatus saw the release of Beyoncé's debut album, Dangerously in Love (2003), which established her as a solo artist worldwide, earned five Grammy Awards and featured the Billboard Hot 100 number-one singles \"Crazy in Love\" and \"Baby Boy\".   \n",
       "56be85543aeaaa14008c9066  Beyoncé Giselle Knowles-Carter (/biːˈjɒnseɪ/ bee-YON-say) (born September 4, 1981) is an American singer, songwriter, record producer and actress. Born and raised in Houston, Texas, she performed in various singing and dancing competitions as a child, and rose to fame in the late 1990s as lead singer of R&B girl-group Destiny's Child. Managed by her father, Mathew Knowles, the group became one of the world's best-selling girl groups of all time. Their hiatus saw the release of Beyoncé's debut album, Dangerously in Love (2003), which established her as a solo artist worldwide, earned five Grammy Awards and featured the Billboard Hot 100 number-one singles \"Crazy in Love\" and \"Baby Boy\".   \n",
       "56bf6b0f3aeaaa14008c9601  Beyoncé Giselle Knowles-Carter (/biːˈjɒnseɪ/ bee-YON-say) (born September 4, 1981) is an American singer, songwriter, record producer and actress. Born and raised in Houston, Texas, she performed in various singing and dancing competitions as a child, and rose to fame in the late 1990s as lead singer of R&B girl-group Destiny's Child. Managed by her father, Mathew Knowles, the group became one of the world's best-selling girl groups of all time. Their hiatus saw the release of Beyoncé's debut album, Dangerously in Love (2003), which established her as a solo artist worldwide, earned five Grammy Awards and featured the Billboard Hot 100 number-one singles \"Crazy in Love\" and \"Baby Boy\".   \n",
       "56bf6b0f3aeaaa14008c9602  Beyoncé Giselle Knowles-Carter (/biːˈjɒnseɪ/ bee-YON-say) (born September 4, 1981) is an American singer, songwriter, record producer and actress. Born and raised in Houston, Texas, she performed in various singing and dancing competitions as a child, and rose to fame in the late 1990s as lead singer of R&B girl-group Destiny's Child. Managed by her father, Mathew Knowles, the group became one of the world's best-selling girl groups of all time. Their hiatus saw the release of Beyoncé's debut album, Dangerously in Love (2003), which established her as a solo artist worldwide, earned five Grammy Awards and featured the Billboard Hot 100 number-one singles \"Crazy in Love\" and \"Baby Boy\".   \n",
       "\n",
       "                          answer_start  \n",
       "id                                      \n",
       "56be85543aeaaa14008c9063           269  \n",
       "56be85543aeaaa14008c9065           207  \n",
       "56be85543aeaaa14008c9066           526  \n",
       "56bf6b0f3aeaaa14008c9601           166  \n",
       "56bf6b0f3aeaaa14008c9602           276  "
      ]
     },
     "execution_count": 124,
     "metadata": {},
     "output_type": "execute_result"
    }
   ],
   "source": [
    "assert len(df) == 130319\n",
    "assert len(df) == len(set(df[\"id\"]))\n",
    "df.set_index(\"id\", drop=False, inplace=True)\n",
    "df.head()"
   ]
  },
  {
   "cell_type": "code",
   "execution_count": 125,
   "id": "7cdecccf",
   "metadata": {},
   "outputs": [
    {
     "data": {
      "text/plain": [
       "False    0.666219\n",
       "True     0.333781\n",
       "dtype: float64"
      ]
     },
     "execution_count": 125,
     "metadata": {},
     "output_type": "execute_result"
    }
   ],
   "source": [
    "s = pd.Series(np.where(df[\"answer_start\"]==-1, True, False))\n",
    "assert s.value_counts()[True] == 43498\n",
    "s.value_counts(normalize=True)"
   ]
  },
  {
   "cell_type": "markdown",
   "id": "e0727e1e",
   "metadata": {},
   "source": [
    "# Answer corrections"
   ]
  },
  {
   "cell_type": "code",
   "execution_count": 126,
   "id": "b09ca081",
   "metadata": {},
   "outputs": [
    {
     "name": "stdout",
     "output_type": "stream",
     "text": [
      "Wall time: 395 ms\n"
     ]
    }
   ],
   "source": [
    "%%time\n",
    "df.loc[\"56bf7e603aeaaa14008c9681\", \"answer_text\"] = \"split with Luckett and Roberson\"\n",
    "df.loc[\"56be973d3aeaaa14008c9123\", \"answer_text\"] = \"sixth\"\n",
    "df.loc[\"56d3ac8e2ccc5a1400d82e1b\", \"answer_text\"] = \"operatic\"\n",
    "df.loc[\"56cbdea66d243a140015edae\", \"answer_text\"] = \"seven\"\n",
    "df.loc[\"56cbdea66d243a140015edae\", \"answer_start\"] = 332\n",
    "df.loc[\"56cf609aaab44d1400b89187\", \"answer_text\"] = \"seven\"\n",
    "df.loc[\"56cf609aaab44d1400b89187\", \"answer_start\"] = 332\n",
    "df.loc[\"56d20a6ae7d4791d0090261a\", \"answer_text\"] = \"seven\"\n",
    "df.loc[\"56d20a6ae7d4791d0090261a\", \"answer_start\"] = 332\n",
    "df.loc[\"56ccde7862d2951400fa64d9\", \"answer_start\"] = 790\n",
    "df.loc[\"56cd682162d2951400fa658e\", \"answer_start\"] = 463\n",
    "df.loc[\"56ce726faab44d1400b88793\", \"answer_text\"] = \"three\"\n",
    "df.loc[\"56ce726faab44d1400b88793\", \"answer_start\"] = 302\n",
    "df.loc[\"56cc57466d243a140015ef24\", \"question\"] = \"in which year did the sales of iPhone exceed iPod?\"\n",
    "df.loc[\"56cc57466d243a140015ef24\", \"answer_text\"] = \"2010\"\n",
    "df.loc[\"56cc57466d243a140015ef24\", \"answer_start\"] = 444\n",
    "df.loc[\"56ce750daab44d1400b887b4\", \"answer_start\"] = 396\n",
    "df.loc[\"56cd5d3a62d2951400fa653e\", \"answer_text\"] = \"manually\"\n",
    "df.loc[\"56cd8ffa62d2951400fa6723\", \"question\"] = \"what is Akiko Kōmoto's nationality?\"\n",
    "df.loc[\"56cd8ffa62d2951400fa6723\", \"answer_text\"] = \"Japanese\"\n",
    "df.loc[\"56cf2e15aab44d1400b88dc9\", \"answer_text\"] = \"twenty-fourth\"\n",
    "df.loc[\"56cf2e15aab44d1400b88dcb\", \"answer_text\"] = \"fourth\"\n",
    "df.loc[\"56cf2e15aab44d1400b88dcb\", \"answer_start\"] = 113\n",
    "df.loc[\"56cdcf7d62d2951400fa686d\", \"answer_start\"] = 523\n",
    "df.loc[\"56cdcf7d62d2951400fa686e\", \"answer_start\"] = 571\n",
    "df.loc[\"56cf4113aab44d1400b88ee0\", \"answer_text\"] = \"fourth\"\n",
    "df.loc[\"56cf469eaab44d1400b88f00\", \"answer_text\"] = \"sixth\"\n",
    "df.loc[\"56cde1f462d2951400fa6961\", \"answer_text\"] = \"two\"\n",
    "df.loc[\"56cde1f462d2951400fa6961\", \"answer_start\"] = 537\n",
    "df.loc[\"56cebbdeaab44d1400b8895c\", \"answer_text\"] = \"a million\"\n",
    "df.loc[\"56cebbdeaab44d1400b8895c\", \"answer_start\"] = 268\n",
    "df.loc[\"56cf1a05aab44d1400b88d7f\", \"answer_start\"] = 332\n",
    "df.loc[\"56cf3442aab44d1400b88e39\", \"answer_start\"] = 352\n",
    "df.loc[\"56cfe987234ae51400d9c09b\", \"answer_text\"] = \"92%\"\n",
    "df.loc[\"56cfe987234ae51400d9c09b\", \"answer_start\"] = 444\n",
    "df.loc[\"56cf36e5aab44d1400b88e71\", \"answer_start\"] = 618\n",
    "df.loc[\"56cffb63234ae51400d9c1e7\", \"answer_text\"] = \"Two\"\n",
    "df.loc[\"56cffb63234ae51400d9c1e7\", \"answer_start\"] = 137\n",
    "df.loc[\"56cf572daab44d1400b89072\", \"answer_text\"] = \"41st\"\n",
    "df.loc[\"56cf5c2caab44d1400b8911d\", \"answer_start\"] = 164\n",
    "df.loc[\"56d3f37f2ccc5a1400d82f85\", \"answer_start\"] = 164\n",
    "df.loc[\"56cf4e9aaab44d1400b88f9c\", \"answer_text\"] = \"seventh\"\n",
    "df.loc[\"56cf4e9aaab44d1400b88f9c\", \"answer_start\"] = 983\n",
    "df.loc[\"56d0f47a17492d1400aab69d\", \"answer_text\"] = \"seventh\"\n",
    "df.loc[\"56d0f47a17492d1400aab69d\", \"answer_start\"] = 983\n",
    "df.loc[\"56cf58f7aab44d1400b890b8\", \"answer_text\"] = \"Three\"\n",
    "df.loc[\"56cf58f7aab44d1400b890b8\", \"answer_start\"] = 280\n",
    "df.loc[\"56d0f8a117492d1400aab6af\", \"answer_text\"] = \"Three\"\n",
    "df.loc[\"56d0f8a117492d1400aab6af\", \"answer_start\"] = 280\n",
    "df.loc[\"56cf64d24df3c31400b0d6f5\", \"answer_text\"] = \"three\"\n",
    "df.loc[\"56cf64d24df3c31400b0d6f5\", \"answer_start\"] = 925\n",
    "df.loc[\"56d1042317492d1400aab72f\", \"answer_text\"] = \"three\"\n",
    "df.loc[\"56d1042317492d1400aab72f\", \"answer_start\"] = 925\n",
    "df.loc[\"56cf657b4df3c31400b0d6ff\", \"answer_text\"] = \"two\"\n",
    "df.loc[\"56cf657b4df3c31400b0d6ff\", \"answer_start\"] = 94\n",
    "df.loc[\"56d1056017492d1400aab755\", \"answer_start\"] = 1071\n",
    "df.loc[\"56cf79be4df3c31400b0d80e\", \"answer_text\"] = \"two\"\n",
    "df.loc[\"56cf79be4df3c31400b0d80e\", \"answer_start\"] = 370\n",
    "df.loc[\"56d11a9217492d1400aab976\", \"answer_text\"] = \"two\"\n",
    "df.loc[\"56d11a9217492d1400aab976\", \"answer_start\"] = 370\n",
    "df.loc[\"56cf829c234ae51400d9bdd4\", \"answer_text\"] = \"two\"\n",
    "df.loc[\"56cf829c234ae51400d9bdd4\", \"answer_start\"] = 589\n",
    "df.loc[\"56d131ad17492d1400aabbd3\", \"answer_text\"] = \"two\"\n",
    "df.loc[\"56d131ad17492d1400aabbd3\", \"answer_start\"] = 943\n",
    "df.loc[\"56cf8915234ae51400d9be15\", \"answer_text\"] = \"three\"\n",
    "df.loc[\"56cf8915234ae51400d9be15\", \"answer_start\"] = 77\n",
    "df.loc[\"56d13983e7d4791d00902041\", \"answer_text\"] = \"three\"\n",
    "df.loc[\"56d13983e7d4791d00902041\", \"answer_start\"] = 77\n",
    "df.loc[\"56d1b926e7d4791d009020cf\", \"answer_text\"] = \"Four\"\n",
    "df.loc[\"56d1b926e7d4791d009020cf\", \"answer_start\"] = 787\n",
    "df.loc[\"56d1c2d2e7d4791d00902121\", \"answer_text\"] = \"5th century CE\"\n",
    "df.loc[\"56d24a6fb329da140004ed00\", \"answer_start\"] = 513\n",
    "df.loc[\"56d2641d59d6e41400145f54\", \"answer_start\"] = 453\n",
    "df.loc[\"56d366ee59d6e414001462f6\", \"answer_text\"] = \"fifteenth\"\n",
    "df.loc[\"56d366ee59d6e414001462f6\", \"answer_start\"] = 333\n",
    "df.loc[\"56d36e4b59d6e4140014638c\", \"answer_text\"] = \"fourteenth\"\n",
    "df.loc[\"56db2190e7c41114004b4dd5\", \"answer_text\"] = \"fourth\"\n",
    "df.loc[\"56d383b159d6e414001465e6\", \"answer_text\"] = \"fifteenth\"\n",
    "df.loc[\"56d383b159d6e414001465e6\", \"answer_start\"] = 39\n",
    "df.loc[\"56d383b159d6e414001465e7\", \"answer_text\"] = \"fifth\"\n",
    "df.loc[\"56d383b159d6e414001465e7\", \"answer_start\"] = 326\n",
    "df.loc[\"56d3881459d6e41400146671\", \"answer_text\"] = \"fifteenth\"\n",
    "df.loc[\"56d3881459d6e41400146671\", \"answer_start\"] = 411\n",
    "df.loc[\"56d3883859d6e41400146678\", \"question\"] = \"For how long was American Idol the highest rated reality show on television?\"\n",
    "df.loc[\"56d3883859d6e41400146678\", \"answer_text\"] = \"almost a decade\"\n",
    "df.loc[\"56d3883859d6e41400146678\", \"answer_start\"] = 388\n",
    "df.loc[\"56d3887c59d6e4140014667b\", \"answer_text\"] = \"eight\"\n",
    "df.loc[\"56d3887c59d6e4140014667b\", \"answer_start\"] = 148\n",
    "df.loc[\"56d38b4e59d6e414001466d7\", \"answer_text\"] = \"nine\"\n",
    "df.loc[\"56d38b4e59d6e414001466d7\", \"answer_start\"] = 87\n",
    "df.loc[\"56d38b4e59d6e414001466d9\", \"question\"] = \"In which year did American Idol win an award for Best Reality Competition?\"\n",
    "df.loc[\"56d38b4e59d6e414001466d9\", \"answer_text\"] = \"2011\"\n",
    "df.loc[\"56d38b4e59d6e414001466d9\", \"answer_start\"] = 644\n",
    "df.loc[\"56d5fc2a1c85041400946ea0\", \"answer_text\"] = \"Dog breeds\"\n",
    "df.loc[\"56d5fc2a1c85041400946ea0\", \"answer_start\"] = 279\n",
    "df.loc[\"56d62e521c85041400946f9f\", \"answer_text\"] = \"emotional\"\n",
    "df.loc[\"56d62f3e1c85041400946fa5\", \"answer_text\"] = \"hunting\"\n",
    "df.loc[\"56dafad1e7c41114004b4bfc\", \"answer_start\"] = 310\n",
    "df.loc[\"56dd1cf99a695914005b94d8\", \"answer_text\"] = \"southwestern\"\n",
    "df.loc[\"56dd1dc29a695914005b94e3\", \"answer_start\"] = 621\n",
    "df.loc[\"56dd1ef39a695914005b94f4\", \"answer_start\"] = 349\n",
    "df.loc[\"56de57394396321400ee2830\", \"answer_text\"] = \"sixth\"\n",
    "df.loc[\"56deebdc3277331400b4d81f\", \"question\"] = \"Each Brigade contains how many logistics battalions?\"\n",
    "df.loc[\"56deebdc3277331400b4d81f\", \"answer_start\"] = 454\n",
    "df.loc[\"56de0abc4396321400ee2563\", \"answer_text\"] = \"Islamic\"\n",
    "df.loc[\"56df844f56340a1900b29cca\", \"answer_text\"] = \"700 lumens\"\n",
    "df.loc[\"56df844f56340a1900b29cca\", \"answer_start\"] = 909\n",
    "df.loc[\"56df865956340a1900b29ceb\", \"question\"] = \"What technique considers the amount of daylight received indoors?\"\n",
    "df.loc[\"56df865956340a1900b29ceb\", \"answer_text\"] = \"Daylight factor calculation\"\n",
    "df.loc[\"56df865956340a1900b29ceb\", \"answer_start\"] = 376\n",
    "df.loc[\"56df95d44a1a83140091eb81\", \"question\"] = \"What is the effect of high GAI value?\"\n",
    "df.loc[\"56df95d44a1a83140091eb81\", \"answer_text\"] = \"the greater the apparent saturation or vividness of the object colors\"\n",
    "df.loc[\"56df95d44a1a83140091eb81\", \"answer_start\"] = 310\n",
    "df.loc[\"56dfa6de7aa994140058df9a\", \"question\"] = \"What are the medical outcomes for patients with natural scenery?\"\n",
    "df.loc[\"56dfa6de7aa994140058df9a\", \"answer_text\"] = \"shorter postoperative hospital stays, received fewer negative evaluative comments in nurses' notes, and took fewer potent analegesics\"\n",
    "df.loc[\"56dfa6de7aa994140058df9a\", \"answer_start\"] = 245\n",
    "df.loc[\"56dfa6de7aa994140058df9b\", \"question\"] = \"What is the key finding of the study?\"\n",
    "df.loc[\"56dfa6de7aa994140058df9b\", \"answer_text\"] = \"the nature of the scenery and daylight exposure was indeed healthier for patients\"\n",
    "df.loc[\"56dfa6de7aa994140058df9b\", \"answer_start\"] = 487\n",
    "df.loc[\"56dfbc1d231d4119001abd48\", \"answer_start\"] = 420\n",
    "df.loc[\"56e462c98c00841900fbaf71\", \"answer_start\"] = 100\n",
    "df.loc[\"56e4744d39bdeb140034793b\", \"answer_start\"] = 102\n",
    "df.loc[\"56e4793839bdeb140034794f\", \"question\"] = \"How should a building fulfil the contemporary ethos?\"\n",
    "df.loc[\"56e4793839bdeb140034794f\", \"answer_text\"] = \"constructed in a manner which is environmentally friendly\"\n",
    "df.loc[\"56e4793839bdeb140034794f\", \"answer_start\"] = 238\n",
    "df.loc[\"56df623596943c1400a5d494\", \"answer_start\"] = 915\n",
    "\n",
    "\n",
    "\n",
    "\n",
    "\n"
   ]
  },
  {
   "cell_type": "code",
   "execution_count": 127,
   "id": "a91da7c3",
   "metadata": {},
   "outputs": [
    {
     "name": "stdout",
     "output_type": "stream",
     "text": [
      "Wall time: 86.3 ms\n"
     ]
    }
   ],
   "source": [
    "%%time\n",
    "col = \"qc_length\"\n",
    "df[col] = df[\"question\"].str.len() + df[\"context\"].str.len() \n",
    "df[col] = df[col].astype(np.int32)"
   ]
  },
  {
   "cell_type": "code",
   "execution_count": 128,
   "id": "b99a48f2",
   "metadata": {},
   "outputs": [
    {
     "name": "stdout",
     "output_type": "stream",
     "text": [
      "Wall time: 54 ms\n"
     ]
    }
   ],
   "source": [
    "%%time\n",
    "col = \"a_length\"\n",
    "df[col] = df[\"answer_text\"].str.len()\n",
    "df[col] = df[col].astype(np.int32)"
   ]
  },
  {
   "cell_type": "code",
   "execution_count": 129,
   "id": "4e871ebe",
   "metadata": {},
   "outputs": [],
   "source": [
    "def word_length(cols: Iterable) -> Callable:\n",
    "    def f(row) -> int:\n",
    "        res = 0\n",
    "        for col in cols:\n",
    "            res += len(row[col].split())\n",
    "        return res\n",
    "    \n",
    "    return f"
   ]
  },
  {
   "cell_type": "code",
   "execution_count": 130,
   "id": "48da287d",
   "metadata": {},
   "outputs": [
    {
     "name": "stderr",
     "output_type": "stream",
     "text": [
      "100%|████████████████████████| 130319/130319 [00:02<00:00, 51860.01it/s]"
     ]
    },
    {
     "name": "stdout",
     "output_type": "stream",
     "text": [
      "Wall time: 2.52 s\n"
     ]
    },
    {
     "name": "stderr",
     "output_type": "stream",
     "text": [
      "\n"
     ]
    }
   ],
   "source": [
    "%%time\n",
    "col = \"qc_word_length\"\n",
    "df[col] = df.progress_apply(word_length([\"question\", \"context\"]), axis=1)\n",
    "df[col] = df[col].astype(np.int32)"
   ]
  },
  {
   "cell_type": "code",
   "execution_count": 131,
   "id": "568f9ac7",
   "metadata": {},
   "outputs": [
    {
     "name": "stderr",
     "output_type": "stream",
     "text": [
      "100%|███████████████████████| 130319/130319 [00:01<00:00, 111291.75it/s]"
     ]
    },
    {
     "name": "stdout",
     "output_type": "stream",
     "text": [
      "Wall time: 1.17 s\n"
     ]
    },
    {
     "name": "stderr",
     "output_type": "stream",
     "text": [
      "\n"
     ]
    }
   ],
   "source": [
    "%%time\n",
    "col = \"a_word_length\"\n",
    "df[col] = df.progress_apply(word_length([\"answer_text\"]), axis=1)\n",
    "df[col] = df[col].astype(np.int32)"
   ]
  },
  {
   "cell_type": "code",
   "execution_count": 132,
   "id": "ec848e89",
   "metadata": {},
   "outputs": [],
   "source": [
    "#pretrained_dir = \"../pretrained/google/electra-small-discriminator\"\n",
    "#tokenizer = AutoTokenizer.from_pretrained(pretrained_dir, model_max_length=512)\n",
    "#print(f\"{repr(tokenizer)}\\n{tokenizer.model_input_names}\")"
   ]
  },
  {
   "cell_type": "code",
   "execution_count": 133,
   "id": "a0aacf7f",
   "metadata": {},
   "outputs": [],
   "source": [
    "#pretrained_dir = \"../pretrained/albert-base-v2\"\n",
    "#sp_tokenizer = AutoTokenizer.from_pretrained(pretrained_dir, model_max_length=512)\n",
    "#print(f\"{repr(sp_tokenizer)}\\n{sp_tokenizer.model_input_names}\")"
   ]
  },
  {
   "cell_type": "code",
   "execution_count": 134,
   "id": "20894cd4",
   "metadata": {},
   "outputs": [],
   "source": [
    "#pretrained_dir = \"../pretrained/distilroberta-base\"\n",
    "#bpe_tokenizer = AutoTokenizer.from_pretrained(pretrained_dir, model_max_length=512)\n",
    "#print(f\"{repr(bpe_tokenizer)}\\n{bpe_tokenizer.model_input_names}\")"
   ]
  },
  {
   "cell_type": "code",
   "execution_count": 135,
   "id": "424ccbc8",
   "metadata": {},
   "outputs": [],
   "source": [
    "#%%time\n",
    "#x = tokenizer(questions, contexts)\n",
    "#print(f\"{repr(x.keys())}\\nlen={len(x['input_ids'])}\")\n",
    "#col = \"qc_wp_length\"\n",
    "#df[col] = [len(v) for v in x[\"input_ids\"]]\n",
    "#df[col] = df[col].astype(np.int16)"
   ]
  },
  {
   "cell_type": "code",
   "execution_count": 136,
   "id": "a29d0a5e",
   "metadata": {},
   "outputs": [],
   "source": [
    "#%%time\n",
    "#x = sp_tokenizer(questions, contexts)\n",
    "#print(f\"{repr(x.keys())}\\nlen={len(x['input_ids'])}\")\n",
    "#col = \"qc_sp_length\"\n",
    "#df[col] = [len(v) for v in x[\"input_ids\"]]\n",
    "#df[col] = df[col].astype(np.int16)"
   ]
  },
  {
   "cell_type": "code",
   "execution_count": 137,
   "id": "180ca6c9",
   "metadata": {},
   "outputs": [],
   "source": [
    "#%%time\n",
    "#x = bpe_tokenizer(questions, contexts)\n",
    "#print(f\"{repr(x.keys())}\\nlen={len(x['input_ids'])}\")\n",
    "#col = \"qc_bpe_length\"\n",
    "#df[col] = [len(v) for v in x[\"input_ids\"]]\n",
    "#df[col] = df[col].astype(np.int16)"
   ]
  },
  {
   "cell_type": "code",
   "execution_count": 138,
   "id": "a3abb85f",
   "metadata": {},
   "outputs": [],
   "source": [
    "#cols = [\"qc_length\", \"a_length\", \"qc_word_length\", \"a_word_length\", \n",
    "#        \"qc_wp_length\", \"qc_sp_length\", \"qc_bpe_length\"]\n",
    "#df[cols].describe(percentiles=percentiles)"
   ]
  },
  {
   "cell_type": "code",
   "execution_count": 139,
   "id": "30275467",
   "metadata": {},
   "outputs": [
    {
     "name": "stdout",
     "output_type": "stream",
     "text": [
      "<class 'pandas.core.frame.DataFrame'>\n",
      "Index: 130319 entries, 56be85543aeaaa14008c9063 to 5a7e070b70df9f001a87543d\n",
      "Data columns (total 10 columns):\n",
      " #   Column          Non-Null Count   Dtype \n",
      "---  ------          --------------   ----- \n",
      " 0   id              130319 non-null  object\n",
      " 1   title           130319 non-null  object\n",
      " 2   question        130319 non-null  object\n",
      " 3   answer_text     130319 non-null  object\n",
      " 4   context         130319 non-null  object\n",
      " 5   answer_start    130319 non-null  int16 \n",
      " 6   qc_length       130319 non-null  int32 \n",
      " 7   a_length        130319 non-null  int32 \n",
      " 8   qc_word_length  130319 non-null  int32 \n",
      " 9   a_word_length   130319 non-null  int32 \n",
      "dtypes: int16(1), int32(4), object(5)\n",
      "memory usage: 12.2+ MB\n"
     ]
    }
   ],
   "source": [
    "df.info()"
   ]
  },
  {
   "cell_type": "code",
   "execution_count": 140,
   "id": "724e5796",
   "metadata": {},
   "outputs": [
    {
     "name": "stdout",
     "output_type": "stream",
     "text": [
      "Wall time: 304 ms\n"
     ]
    }
   ],
   "source": [
    "%%time\n",
    "df.to_parquet(\"output/train.parquet\", index=False)"
   ]
  }
 ],
 "metadata": {
  "kernelspec": {
   "display_name": "Python 3 (ipykernel)",
   "language": "python",
   "name": "python3"
  },
  "language_info": {
   "codemirror_mode": {
    "name": "ipython",
    "version": 3
   },
   "file_extension": ".py",
   "mimetype": "text/x-python",
   "name": "python",
   "nbconvert_exporter": "python",
   "pygments_lexer": "ipython3",
   "version": "3.7.5"
  }
 },
 "nbformat": 4,
 "nbformat_minor": 5
}
