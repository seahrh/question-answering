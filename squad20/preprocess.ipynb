{
 "cells": [
  {
   "cell_type": "code",
   "execution_count": 1,
   "id": "6852263f",
   "metadata": {},
   "outputs": [],
   "source": [
    "import os\n",
    "import numpy as np\n",
    "import pandas as pd\n",
    "from transformers import AutoTokenizer\n",
    "from tqdm import tqdm\n",
    "from typing import Iterable, Callable\n",
    "os.environ[\"LOGGING_INI\"] = \"../logging.ini\"\n",
    "from questionanswering import squad"
   ]
  },
  {
   "cell_type": "code",
   "execution_count": 2,
   "id": "f23cb0b3",
   "metadata": {},
   "outputs": [],
   "source": [
    "percentiles=[.01, .05, .1, .2, .3, .4, .5, .6, .7, .8, .9, .95, .99]\n",
    "pd.set_option(\"use_inf_as_na\", True)\n",
    "pd.set_option(\"max_info_columns\", 9999)\n",
    "pd.set_option(\"display.max_columns\", 9999)\n",
    "pd.set_option(\"display.max_rows\", 9999)\n",
    "pd.set_option('max_colwidth', 9999)\n",
    "tqdm.pandas()\n",
    "os.environ[\"TOKENIZERS_PARALLELISM\"] = \"false\""
   ]
  },
  {
   "cell_type": "code",
   "execution_count": 3,
   "id": "ef6b53b4",
   "metadata": {},
   "outputs": [
    {
     "name": "stderr",
     "output_type": "stream",
     "text": [
      "  0%|                                           | 0/442 [00:00<?, ?it/s]\n"
     ]
    },
    {
     "ename": "ValueError",
     "evalue": "Cannot find answer inside context. a=[luther vandross .]\nq=who helped beyoncé earn a grammy award for best r&b performance by a duo or group at the 46th annual grammy awards?\nc=beyoncé's first solo recording was a feature on jay z's '03 bonnie & clyde that was released in october 2002 , peaking at number four on the u . s . billboard hot 100 chart . her first solo album dangerously in love was released on june 24 , 2003 , after michelle williams and kelly rowland had released their solo efforts . the album sold 317 , 000 copies in its first week , debuted atop the billboard 200 , and has since sold 11 million copies worldwide . the album's lead single , crazy in love , featuring jay z , became beyoncé's first number-one single as a solo artist in the us . the single baby boy also reached number one , and singles , me , myself and i and naughty girl , both reached the top-five . the album earned beyoncé a then record-tying five awards at the 46th annual grammy awards ; best contemporary r&b album , best female r&b vocal performance for dangerously in love 2 , best r&b song and best rap/sung collaboration for crazy in love , and best r&b performance by a duo or group with vocals for the closer i get to you with luther vandross .",
     "output_type": "error",
     "traceback": [
      "\u001b[1;31m-------------------------------------------------------------------------\u001b[0m",
      "\u001b[1;31mValueError\u001b[0m                              Traceback (most recent call last)",
      "\u001b[1;32m~\\AppData\\Local\\Temp/ipykernel_3744/4001054748.py\u001b[0m in \u001b[0;36m<module>\u001b[1;34m\u001b[0m\n\u001b[1;32m----> 1\u001b[1;33m \u001b[0mdf\u001b[0m \u001b[1;33m=\u001b[0m \u001b[0msquad\u001b[0m\u001b[1;33m.\u001b[0m\u001b[0mparse_json_file\u001b[0m\u001b[1;33m(\u001b[0m\u001b[1;34m\"input/train-v2.0.json\"\u001b[0m\u001b[1;33m)\u001b[0m\u001b[1;33m\u001b[0m\u001b[1;33m\u001b[0m\u001b[0m\n\u001b[0m\u001b[0;32m      2\u001b[0m \u001b[0mquestions\u001b[0m \u001b[1;33m=\u001b[0m \u001b[0mlist\u001b[0m\u001b[1;33m(\u001b[0m\u001b[0mdf\u001b[0m\u001b[1;33m[\u001b[0m\u001b[1;34m\"question\"\u001b[0m\u001b[1;33m]\u001b[0m\u001b[1;33m)\u001b[0m\u001b[1;33m\u001b[0m\u001b[1;33m\u001b[0m\u001b[0m\n\u001b[0;32m      3\u001b[0m \u001b[0mcontexts\u001b[0m \u001b[1;33m=\u001b[0m \u001b[0mlist\u001b[0m\u001b[1;33m(\u001b[0m\u001b[0mdf\u001b[0m\u001b[1;33m[\u001b[0m\u001b[1;34m\"context\"\u001b[0m\u001b[1;33m]\u001b[0m\u001b[1;33m)\u001b[0m\u001b[1;33m\u001b[0m\u001b[1;33m\u001b[0m\u001b[0m\n\u001b[0;32m      4\u001b[0m \u001b[0mdf\u001b[0m\u001b[1;33m.\u001b[0m\u001b[0minfo\u001b[0m\u001b[1;33m(\u001b[0m\u001b[1;33m)\u001b[0m\u001b[1;33m\u001b[0m\u001b[1;33m\u001b[0m\u001b[0m\n",
      "\u001b[1;32mS:\\dev\\seahrh\\question-answering\\env\\lib\\site-packages\\questionanswering\\squad\\__init__.py\u001b[0m in \u001b[0;36mparse_json_file\u001b[1;34m(filepath)\u001b[0m\n\u001b[0;32m     75\u001b[0m                     \u001b[1;32mif\u001b[0m \u001b[0mj\u001b[0m \u001b[1;33m==\u001b[0m \u001b[1;33m-\u001b[0m\u001b[1;36m1\u001b[0m \u001b[1;32mand\u001b[0m \u001b[0mk\u001b[0m \u001b[1;33m==\u001b[0m \u001b[1;33m-\u001b[0m\u001b[1;36m1\u001b[0m\u001b[1;33m:\u001b[0m\u001b[1;33m\u001b[0m\u001b[1;33m\u001b[0m\u001b[0m\n\u001b[0;32m     76\u001b[0m                         raise ValueError(\n\u001b[1;32m---> 77\u001b[1;33m                             \u001b[1;34mf\"Cannot find answer inside context. a=[{row['answer_text']}]\"\u001b[0m\u001b[1;33m\u001b[0m\u001b[1;33m\u001b[0m\u001b[0m\n\u001b[0m\u001b[0;32m     78\u001b[0m                             \u001b[1;34mf\"\\nq={question}\\nc={context}\"\u001b[0m\u001b[1;33m\u001b[0m\u001b[1;33m\u001b[0m\u001b[0m\n\u001b[0;32m     79\u001b[0m                         )\n",
      "\u001b[1;31mValueError\u001b[0m: Cannot find answer inside context. a=[luther vandross .]\nq=who helped beyoncé earn a grammy award for best r&b performance by a duo or group at the 46th annual grammy awards?\nc=beyoncé's first solo recording was a feature on jay z's '03 bonnie & clyde that was released in october 2002 , peaking at number four on the u . s . billboard hot 100 chart . her first solo album dangerously in love was released on june 24 , 2003 , after michelle williams and kelly rowland had released their solo efforts . the album sold 317 , 000 copies in its first week , debuted atop the billboard 200 , and has since sold 11 million copies worldwide . the album's lead single , crazy in love , featuring jay z , became beyoncé's first number-one single as a solo artist in the us . the single baby boy also reached number one , and singles , me , myself and i and naughty girl , both reached the top-five . the album earned beyoncé a then record-tying five awards at the 46th annual grammy awards ; best contemporary r&b album , best female r&b vocal performance for dangerously in love 2 , best r&b song and best rap/sung collaboration for crazy in love , and best r&b performance by a duo or group with vocals for the closer i get to you with luther vandross ."
     ]
    }
   ],
   "source": [
    "df = squad.parse_json_file(\"input/train-v2.0.json\")\n",
    "questions = list(df[\"question\"])\n",
    "contexts = list(df[\"context\"])\n",
    "df.info()"
   ]
  },
  {
   "cell_type": "code",
   "execution_count": null,
   "id": "8f9b2cb9",
   "metadata": {},
   "outputs": [],
   "source": [
    "assert len(df) == 130319\n",
    "assert len(df) == len(set(df[\"id\"]))\n",
    "df.set_index(\"id\", drop=False, inplace=True)\n",
    "df.head()"
   ]
  },
  {
   "cell_type": "code",
   "execution_count": null,
   "id": "7cdecccf",
   "metadata": {},
   "outputs": [],
   "source": [
    "s = pd.Series(np.where(df[\"answer_start\"]==-1, True, False))\n",
    "assert s.value_counts()[True] == 43498\n",
    "s.value_counts(normalize=True)"
   ]
  },
  {
   "cell_type": "markdown",
   "id": "e0727e1e",
   "metadata": {},
   "source": [
    "# Answer corrections"
   ]
  },
  {
   "cell_type": "code",
   "execution_count": null,
   "id": "b09ca081",
   "metadata": {},
   "outputs": [],
   "source": [
    "%%time\n",
    "df.loc[\"56bf7e603aeaaa14008c9681\", \"answer_text\"] = \"split with Luckett and Roberson\"\n",
    "df.loc[\"56be973d3aeaaa14008c9123\", \"answer_text\"] = \"sixth\"\n",
    "df.loc[\"56d3ac8e2ccc5a1400d82e1b\", \"answer_text\"] = \"operatic\"\n",
    "df.loc[\"56cbdea66d243a140015edae\", \"answer_text\"] = \"seven\"\n",
    "df.loc[\"56cbdea66d243a140015edae\", \"answer_start\"] = 332\n",
    "df.loc[\"56cf609aaab44d1400b89187\", \"answer_text\"] = \"seven\"\n",
    "df.loc[\"56cf609aaab44d1400b89187\", \"answer_start\"] = 332\n",
    "df.loc[\"56d20a6ae7d4791d0090261a\", \"answer_text\"] = \"seven\"\n",
    "df.loc[\"56d20a6ae7d4791d0090261a\", \"answer_start\"] = 332\n",
    "df.loc[\"56ccde7862d2951400fa64d9\", \"answer_start\"] = 790\n",
    "df.loc[\"56cd682162d2951400fa658e\", \"answer_start\"] = 463\n",
    "df.loc[\"56ce726faab44d1400b88793\", \"answer_text\"] = \"three\"\n",
    "df.loc[\"56ce726faab44d1400b88793\", \"answer_start\"] = 302\n",
    "df.loc[\"56cc57466d243a140015ef24\", \"question\"] = \"in which year did the sales of iPhone exceed iPod?\"\n",
    "df.loc[\"56cc57466d243a140015ef24\", \"answer_text\"] = \"2010\"\n",
    "df.loc[\"56cc57466d243a140015ef24\", \"answer_start\"] = 444\n",
    "df.loc[\"56ce750daab44d1400b887b4\", \"answer_start\"] = 396\n",
    "df.loc[\"56cd5d3a62d2951400fa653e\", \"answer_text\"] = \"manually\"\n",
    "df.loc[\"56cd8ffa62d2951400fa6723\", \"question\"] = \"what is Akiko Kōmoto's nationality?\"\n",
    "df.loc[\"56cd8ffa62d2951400fa6723\", \"answer_text\"] = \"Japanese\"\n",
    "df.loc[\"56cf2e15aab44d1400b88dc9\", \"answer_text\"] = \"twenty-fourth\"\n",
    "df.loc[\"56cf2e15aab44d1400b88dcb\", \"answer_text\"] = \"fourth\"\n",
    "df.loc[\"56cf2e15aab44d1400b88dcb\", \"answer_start\"] = 113\n",
    "df.loc[\"56cdcf7d62d2951400fa686d\", \"answer_start\"] = 523\n",
    "df.loc[\"56cdcf7d62d2951400fa686e\", \"answer_start\"] = 571\n",
    "df.loc[\"56cf4113aab44d1400b88ee0\", \"answer_text\"] = \"fourth\"\n",
    "df.loc[\"56cf469eaab44d1400b88f00\", \"answer_text\"] = \"sixth\"\n",
    "df.loc[\"56cde1f462d2951400fa6961\", \"answer_text\"] = \"two\"\n",
    "df.loc[\"56cde1f462d2951400fa6961\", \"answer_start\"] = 537\n",
    "df.loc[\"56cebbdeaab44d1400b8895c\", \"answer_text\"] = \"a million\"\n",
    "df.loc[\"56cebbdeaab44d1400b8895c\", \"answer_start\"] = 268\n",
    "df.loc[\"56cf1a05aab44d1400b88d7f\", \"answer_start\"] = 332\n",
    "df.loc[\"56cf3442aab44d1400b88e39\", \"answer_start\"] = 352\n",
    "df.loc[\"56cfe987234ae51400d9c09b\", \"answer_text\"] = \"92%\"\n",
    "df.loc[\"56cfe987234ae51400d9c09b\", \"answer_start\"] = 444\n",
    "df.loc[\"56cf36e5aab44d1400b88e71\", \"answer_start\"] = 618\n",
    "df.loc[\"56cffb63234ae51400d9c1e7\", \"answer_text\"] = \"Two\"\n",
    "df.loc[\"56cffb63234ae51400d9c1e7\", \"answer_start\"] = 137\n",
    "df.loc[\"56cf572daab44d1400b89072\", \"answer_text\"] = \"41st\"\n",
    "df.loc[\"56cf5c2caab44d1400b8911d\", \"answer_start\"] = 164\n",
    "df.loc[\"56d3f37f2ccc5a1400d82f85\", \"answer_start\"] = 164\n",
    "df.loc[\"56cf4e9aaab44d1400b88f9c\", \"answer_text\"] = \"seventh\"\n",
    "df.loc[\"56cf4e9aaab44d1400b88f9c\", \"answer_start\"] = 983\n",
    "df.loc[\"56d0f47a17492d1400aab69d\", \"answer_text\"] = \"seventh\"\n",
    "df.loc[\"56d0f47a17492d1400aab69d\", \"answer_start\"] = 983\n",
    "df.loc[\"56cf58f7aab44d1400b890b8\", \"answer_text\"] = \"Three\"\n",
    "df.loc[\"56cf58f7aab44d1400b890b8\", \"answer_start\"] = 280\n",
    "df.loc[\"56d0f8a117492d1400aab6af\", \"answer_text\"] = \"Three\"\n",
    "df.loc[\"56d0f8a117492d1400aab6af\", \"answer_start\"] = 280\n",
    "df.loc[\"56cf64d24df3c31400b0d6f5\", \"answer_text\"] = \"three\"\n",
    "df.loc[\"56cf64d24df3c31400b0d6f5\", \"answer_start\"] = 925\n",
    "df.loc[\"56d1042317492d1400aab72f\", \"answer_text\"] = \"three\"\n",
    "df.loc[\"56d1042317492d1400aab72f\", \"answer_start\"] = 925\n",
    "df.loc[\"56cf657b4df3c31400b0d6ff\", \"answer_text\"] = \"two\"\n",
    "df.loc[\"56cf657b4df3c31400b0d6ff\", \"answer_start\"] = 94\n",
    "df.loc[\"56d1056017492d1400aab755\", \"answer_start\"] = 1071\n",
    "df.loc[\"56cf79be4df3c31400b0d80e\", \"answer_text\"] = \"two\"\n",
    "df.loc[\"56cf79be4df3c31400b0d80e\", \"answer_start\"] = 370\n",
    "df.loc[\"56d11a9217492d1400aab976\", \"answer_text\"] = \"two\"\n",
    "df.loc[\"56d11a9217492d1400aab976\", \"answer_start\"] = 370\n",
    "df.loc[\"56cf829c234ae51400d9bdd4\", \"answer_text\"] = \"two\"\n",
    "df.loc[\"56cf829c234ae51400d9bdd4\", \"answer_start\"] = 589\n",
    "df.loc[\"56d131ad17492d1400aabbd3\", \"answer_text\"] = \"two\"\n",
    "df.loc[\"56d131ad17492d1400aabbd3\", \"answer_start\"] = 943\n",
    "df.loc[\"56cf8915234ae51400d9be15\", \"answer_text\"] = \"three\"\n",
    "df.loc[\"56cf8915234ae51400d9be15\", \"answer_start\"] = 77\n",
    "df.loc[\"56d13983e7d4791d00902041\", \"answer_text\"] = \"three\"\n",
    "df.loc[\"56d13983e7d4791d00902041\", \"answer_start\"] = 77\n",
    "df.loc[\"56d1b926e7d4791d009020cf\", \"answer_text\"] = \"Four\"\n",
    "df.loc[\"56d1b926e7d4791d009020cf\", \"answer_start\"] = 787\n",
    "df.loc[\"56d1c2d2e7d4791d00902121\", \"answer_text\"] = \"5th century CE\"\n",
    "df.loc[\"56d24a6fb329da140004ed00\", \"answer_start\"] = 513\n",
    "df.loc[\"56d2641d59d6e41400145f54\", \"answer_start\"] = 453\n",
    "df.loc[\"56d366ee59d6e414001462f6\", \"answer_text\"] = \"fifteenth\"\n",
    "df.loc[\"56d366ee59d6e414001462f6\", \"answer_start\"] = 333\n",
    "df.loc[\"56d36e4b59d6e4140014638c\", \"answer_text\"] = \"fourteenth\"\n",
    "df.loc[\"56db2190e7c41114004b4dd5\", \"answer_text\"] = \"fourth\"\n",
    "df.loc[\"56d383b159d6e414001465e6\", \"answer_text\"] = \"fifteenth\"\n",
    "df.loc[\"56d383b159d6e414001465e6\", \"answer_start\"] = 39\n",
    "df.loc[\"56d383b159d6e414001465e7\", \"answer_text\"] = \"fifth\"\n",
    "df.loc[\"56d383b159d6e414001465e7\", \"answer_start\"] = 326\n",
    "df.loc[\"56d3881459d6e41400146671\", \"answer_text\"] = \"fifteenth\"\n",
    "df.loc[\"56d3881459d6e41400146671\", \"answer_start\"] = 411\n",
    "df.loc[\"56d3883859d6e41400146678\", \"question\"] = \"For how long was American Idol the highest rated reality show on television?\"\n",
    "df.loc[\"56d3883859d6e41400146678\", \"answer_text\"] = \"almost a decade\"\n",
    "df.loc[\"56d3883859d6e41400146678\", \"answer_start\"] = 388\n",
    "df.loc[\"56d3887c59d6e4140014667b\", \"answer_text\"] = \"eight\"\n",
    "df.loc[\"56d3887c59d6e4140014667b\", \"answer_start\"] = 148\n",
    "df.loc[\"56d38b4e59d6e414001466d7\", \"answer_text\"] = \"nine\"\n",
    "df.loc[\"56d38b4e59d6e414001466d7\", \"answer_start\"] = 87\n",
    "df.loc[\"56d38b4e59d6e414001466d9\", \"question\"] = \"In which year did American Idol win an award for Best Reality Competition?\"\n",
    "df.loc[\"56d38b4e59d6e414001466d9\", \"answer_text\"] = \"2011\"\n",
    "df.loc[\"56d38b4e59d6e414001466d9\", \"answer_start\"] = 644\n",
    "df.loc[\"56d5fc2a1c85041400946ea0\", \"answer_text\"] = \"Dog breeds\"\n",
    "df.loc[\"56d5fc2a1c85041400946ea0\", \"answer_start\"] = 279\n",
    "df.loc[\"56d62e521c85041400946f9f\", \"answer_text\"] = \"emotional\"\n",
    "df.loc[\"56d62f3e1c85041400946fa5\", \"answer_text\"] = \"hunting\"\n",
    "df.loc[\"56dafad1e7c41114004b4bfc\", \"answer_start\"] = 310\n",
    "df.loc[\"56dd1cf99a695914005b94d8\", \"answer_text\"] = \"southwestern\"\n",
    "df.loc[\"56dd1dc29a695914005b94e3\", \"answer_start\"] = 621\n",
    "df.loc[\"56dd1ef39a695914005b94f4\", \"answer_start\"] = 349\n",
    "df.loc[\"56de57394396321400ee2830\", \"answer_text\"] = \"sixth\"\n",
    "df.loc[\"56deebdc3277331400b4d81f\", \"question\"] = \"Each Brigade contains how many logistics battalions?\"\n",
    "df.loc[\"56deebdc3277331400b4d81f\", \"answer_start\"] = 454\n",
    "df.loc[\"56de0abc4396321400ee2563\", \"answer_text\"] = \"Islamic\"\n",
    "df.loc[\"56df844f56340a1900b29cca\", \"answer_text\"] = \"700 lumens\"\n",
    "df.loc[\"56df844f56340a1900b29cca\", \"answer_start\"] = 909\n",
    "df.loc[\"56df865956340a1900b29ceb\", \"question\"] = \"What technique considers the amount of daylight received indoors?\"\n",
    "df.loc[\"56df865956340a1900b29ceb\", \"answer_text\"] = \"Daylight factor calculation\"\n",
    "df.loc[\"56df865956340a1900b29ceb\", \"answer_start\"] = 376\n",
    "df.loc[\"56df95d44a1a83140091eb81\", \"question\"] = \"What is the effect of high GAI value?\"\n",
    "df.loc[\"56df95d44a1a83140091eb81\", \"answer_text\"] = \"the greater the apparent saturation or vividness of the object colors\"\n",
    "df.loc[\"56df95d44a1a83140091eb81\", \"answer_start\"] = 310\n",
    "df.loc[\"56dfa6de7aa994140058df9a\", \"question\"] = \"What are the medical outcomes for patients with natural scenery?\"\n",
    "df.loc[\"56dfa6de7aa994140058df9a\", \"answer_text\"] = \"shorter postoperative hospital stays, received fewer negative evaluative comments in nurses' notes, and took fewer potent analegesics\"\n",
    "df.loc[\"56dfa6de7aa994140058df9a\", \"answer_start\"] = 245\n",
    "df.loc[\"56dfa6de7aa994140058df9b\", \"question\"] = \"What is the key finding of the study?\"\n",
    "df.loc[\"56dfa6de7aa994140058df9b\", \"answer_text\"] = \"the nature of the scenery and daylight exposure was indeed healthier for patients\"\n",
    "df.loc[\"56dfa6de7aa994140058df9b\", \"answer_start\"] = 487\n",
    "df.loc[\"56dfbc1d231d4119001abd48\", \"answer_start\"] = 420\n",
    "df.loc[\"56e462c98c00841900fbaf71\", \"answer_start\"] = 100\n",
    "df.loc[\"56e4744d39bdeb140034793b\", \"answer_start\"] = 102\n",
    "df.loc[\"56e4793839bdeb140034794f\", \"question\"] = \"How should a building fulfil the contemporary ethos?\"\n",
    "df.loc[\"56e4793839bdeb140034794f\", \"answer_text\"] = \"constructed in a manner which is environmentally friendly\"\n",
    "df.loc[\"56e4793839bdeb140034794f\", \"answer_start\"] = 238\n",
    "df.loc[\"56df623596943c1400a5d494\", \"answer_start\"] = 915\n",
    "df.loc[\"56df736f5ca0a614008f9a91\", \"answer_text\"] = \"30\"\n",
    "df.loc[\"56df736f5ca0a614008f9a91\", \"answer_start\"] = 239\n",
    "\n",
    "\n",
    "\n",
    "\n"
   ]
  },
  {
   "cell_type": "code",
   "execution_count": null,
   "id": "a91da7c3",
   "metadata": {},
   "outputs": [],
   "source": [
    "%%time\n",
    "col = \"qc_length\"\n",
    "df[col] = df[\"question\"].str.len() + df[\"context\"].str.len() \n",
    "df[col] = df[col].astype(np.int32)"
   ]
  },
  {
   "cell_type": "code",
   "execution_count": null,
   "id": "b99a48f2",
   "metadata": {},
   "outputs": [],
   "source": [
    "%%time\n",
    "col = \"a_length\"\n",
    "df[col] = df[\"answer_text\"].str.len()\n",
    "df[col] = df[col].astype(np.int32)"
   ]
  },
  {
   "cell_type": "code",
   "execution_count": null,
   "id": "4e871ebe",
   "metadata": {},
   "outputs": [],
   "source": [
    "def word_length(cols: Iterable) -> Callable:\n",
    "    def f(row) -> int:\n",
    "        res = 0\n",
    "        for col in cols:\n",
    "            res += len(row[col].split())\n",
    "        return res\n",
    "    \n",
    "    return f"
   ]
  },
  {
   "cell_type": "code",
   "execution_count": null,
   "id": "48da287d",
   "metadata": {},
   "outputs": [],
   "source": [
    "%%time\n",
    "col = \"qc_word_length\"\n",
    "df[col] = df.progress_apply(word_length([\"question\", \"context\"]), axis=1)\n",
    "df[col] = df[col].astype(np.int32)"
   ]
  },
  {
   "cell_type": "code",
   "execution_count": null,
   "id": "568f9ac7",
   "metadata": {},
   "outputs": [],
   "source": [
    "%%time\n",
    "col = \"a_word_length\"\n",
    "df[col] = df.progress_apply(word_length([\"answer_text\"]), axis=1)\n",
    "df[col] = df[col].astype(np.int32)"
   ]
  },
  {
   "cell_type": "code",
   "execution_count": null,
   "id": "ec848e89",
   "metadata": {},
   "outputs": [],
   "source": [
    "#pretrained_dir = \"../pretrained/google/electra-small-discriminator\"\n",
    "#tokenizer = AutoTokenizer.from_pretrained(pretrained_dir, model_max_length=512)\n",
    "#print(f\"{repr(tokenizer)}\\n{tokenizer.model_input_names}\")"
   ]
  },
  {
   "cell_type": "code",
   "execution_count": null,
   "id": "a0aacf7f",
   "metadata": {},
   "outputs": [],
   "source": [
    "#pretrained_dir = \"../pretrained/albert-base-v2\"\n",
    "#sp_tokenizer = AutoTokenizer.from_pretrained(pretrained_dir, model_max_length=512)\n",
    "#print(f\"{repr(sp_tokenizer)}\\n{sp_tokenizer.model_input_names}\")"
   ]
  },
  {
   "cell_type": "code",
   "execution_count": null,
   "id": "20894cd4",
   "metadata": {},
   "outputs": [],
   "source": [
    "#pretrained_dir = \"../pretrained/distilroberta-base\"\n",
    "#bpe_tokenizer = AutoTokenizer.from_pretrained(pretrained_dir, model_max_length=512)\n",
    "#print(f\"{repr(bpe_tokenizer)}\\n{bpe_tokenizer.model_input_names}\")"
   ]
  },
  {
   "cell_type": "code",
   "execution_count": null,
   "id": "424ccbc8",
   "metadata": {},
   "outputs": [],
   "source": [
    "#%%time\n",
    "#x = tokenizer(questions, contexts)\n",
    "#print(f\"{repr(x.keys())}\\nlen={len(x['input_ids'])}\")\n",
    "#col = \"qc_wp_length\"\n",
    "#df[col] = [len(v) for v in x[\"input_ids\"]]\n",
    "#df[col] = df[col].astype(np.int16)"
   ]
  },
  {
   "cell_type": "code",
   "execution_count": null,
   "id": "a29d0a5e",
   "metadata": {},
   "outputs": [],
   "source": [
    "#%%time\n",
    "#x = sp_tokenizer(questions, contexts)\n",
    "#print(f\"{repr(x.keys())}\\nlen={len(x['input_ids'])}\")\n",
    "#col = \"qc_sp_length\"\n",
    "#df[col] = [len(v) for v in x[\"input_ids\"]]\n",
    "#df[col] = df[col].astype(np.int16)"
   ]
  },
  {
   "cell_type": "code",
   "execution_count": null,
   "id": "180ca6c9",
   "metadata": {},
   "outputs": [],
   "source": [
    "#%%time\n",
    "#x = bpe_tokenizer(questions, contexts)\n",
    "#print(f\"{repr(x.keys())}\\nlen={len(x['input_ids'])}\")\n",
    "#col = \"qc_bpe_length\"\n",
    "#df[col] = [len(v) for v in x[\"input_ids\"]]\n",
    "#df[col] = df[col].astype(np.int16)"
   ]
  },
  {
   "cell_type": "code",
   "execution_count": null,
   "id": "a3abb85f",
   "metadata": {},
   "outputs": [],
   "source": [
    "#cols = [\"qc_length\", \"a_length\", \"qc_word_length\", \"a_word_length\", \n",
    "#        \"qc_wp_length\", \"qc_sp_length\", \"qc_bpe_length\"]\n",
    "#df[cols].describe(percentiles=percentiles)"
   ]
  },
  {
   "cell_type": "code",
   "execution_count": null,
   "id": "30275467",
   "metadata": {},
   "outputs": [],
   "source": [
    "df.info()"
   ]
  },
  {
   "cell_type": "code",
   "execution_count": null,
   "id": "724e5796",
   "metadata": {},
   "outputs": [],
   "source": [
    "%%time\n",
    "df.to_parquet(\"output/train.parquet\", index=False)"
   ]
  }
 ],
 "metadata": {
  "kernelspec": {
   "display_name": "Python 3 (ipykernel)",
   "language": "python",
   "name": "python3"
  },
  "language_info": {
   "codemirror_mode": {
    "name": "ipython",
    "version": 3
   },
   "file_extension": ".py",
   "mimetype": "text/x-python",
   "name": "python",
   "nbconvert_exporter": "python",
   "pygments_lexer": "ipython3",
   "version": "3.7.5"
  }
 },
 "nbformat": 4,
 "nbformat_minor": 5
}
